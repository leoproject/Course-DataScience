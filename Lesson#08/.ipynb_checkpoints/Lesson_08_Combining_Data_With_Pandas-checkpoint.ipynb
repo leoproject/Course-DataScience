{
  "nbformat": 4,
  "nbformat_minor": 0,
  "metadata": {
    "colab": {
      "name": "Lesson #08 - Combining Data With Pandas.ipynb",
      "version": "0.3.2",
      "provenance": []
    },
    "kernelspec": {
      "name": "python3",
      "display_name": "Python 3"
    }
  },
  "cells": [
    {
      "metadata": {
        "id": "jB-2AC8boOE9",
        "colab_type": "text"
      },
      "cell_type": "markdown",
      "source": [
        "## 1 Combining Data with Pandas"
      ]
    },
    {
      "metadata": {
        "id": "e63THNZXpnvW",
        "colab_type": "text"
      },
      "cell_type": "markdown",
      "source": [
        "### 1.1 Introduction"
      ]
    },
    {
      "metadata": {
        "id": "87BmfzvGppzS",
        "colab_type": "text"
      },
      "cell_type": "markdown",
      "source": [
        "In the last lesson, we worked with just one data set, the 2015 World Happiness Report, to explore **data aggregation**. However, it's very common in practice to **work with more than one data set at a time**.\n",
        "\n",
        "Often, you'll find that you need additional data to perform analysis or you'll find that you have the data, but need to pull it from mulitiple sources. In this lesson, we'll learn a couple of different techniques for combining data using pandas to easily handle situations like these.\n",
        "\n",
        "We'll use what we learned in the last lesson to analyze the **2015**, **2016**, and **2017 World Happiness Reports**. Specifically, we'll look to answer the following question:\n",
        "\n",
        "- Did world happiness increase, decrease, or stay about the same from 2015 to 2017?\n",
        "\n",
        "As a reminder, these reports assign each country a happiness score based on a poll question that asks respondents to rank their life on a scale of 0 - 10, so \"world happiness\" refers to this definition specifically.\n",
        "\n",
        "Below is a preview of the 2015 report:\n",
        "\n",
        "\n",
        "| | Country | Region | Happiness Rank | Happiness Score | Standard Error | Economy (GDP per Capita) | Family | \n",
        "|---------|-------------|----------------|-----------------|----------------|--------------------------|---------|--------------------------|\n",
        "| 0 | Switzerland | Western Europe | 1 | 7.587 | 0.03411 | 1.39651 | 1.34951 |\n",
        "| 1 | Iceland | Western Europe | 2 | 7.561 | 0.04884 | 1.30232 | 1.40223 |\n",
        "| 2 | Denmark | Western Europe | 3 | 7.527 | 0.03328 | 1.32548 | 1.36058 |\n",
        "| 3 | Norway | Western Europe | 4 | 7.522 | 0.03880 | 1.45900 | 1.33095 |\n",
        "| 4 | Canada | North America | 5 | 7.427 | 0.03553 | 1.32629 | 1.32261 |\n",
        "\n",
        "Below are descriptions for some of the columns:\n",
        "\n",
        "- **Country** - Name of the country\n",
        "- **Region** - Name of the region the country belongs to\n",
        "- **Happiness Rank** - The rank of the country, as determined by its happiness score\n",
        "- **Happiness Score** - A score assigned to each country based on the answers to a poll question that asks respondents to rate their happiness on a scale of 0-10\n",
        "\n",
        "Let's start by reading the **2015**, **2016**, and **2017** reports into a pandas dataframe and adding a **Year** column to each to make it easier to distinguish between them.\n",
        "\n",
        "**Exercise**\n",
        "\n",
        "<left><img width=\"100\" src=\"https://drive.google.com/uc?export=view&id=1E8tR7B9YYUXsU_rddJAyq0FrM0MSelxZ\"></left>\n",
        "\n",
        "We've already read the **World_Happiness_2015.csv** file into a dataframe called **happiness2015**.\n",
        "\n",
        "- Use the **pandas.read_csv()** function to read the **World_Happiness_2016.csv** file into a dataframe called **happiness2016** and the **World_Happiness_2017.csv** file into a dataframe called **happiness2017**.\n",
        "- Add a column called **Year** to each dataframe with the corresponding year. For example, the **Year** column in **happiness2015** should contain the value 2015 for each row."
      ]
    },
    {
      "metadata": {
        "id": "yqpq3GLlY-EM",
        "colab_type": "code",
        "colab": {}
      },
      "cell_type": "code",
      "source": [
        "import pandas as pd\n",
        "happiness2015 = pd.read_csv(\"World_Happiness_2015.csv\")\n",
        "#put your code here"
      ],
      "execution_count": 0,
      "outputs": []
    },
    {
      "metadata": {
        "id": "_lnmqqz9cMV1",
        "colab_type": "text"
      },
      "cell_type": "markdown",
      "source": [
        "### 1.2 Combining Dataframes with the Concat Function"
      ]
    },
    {
      "metadata": {
        "id": "YMqo3lWucu5C",
        "colab_type": "text"
      },
      "cell_type": "markdown",
      "source": [
        "Let's start by exploring the [pd.concat()](https://pandas.pydata.org/pandas-docs/stable/generated/pandas.concat.html) function. The **concat()** function combines dataframes one of two ways:\n",
        "\n",
        "1. Stacked: Axis = 0 (This is the default option.)\n",
        "\n",
        "<left><img width=\"300\" src=\"https://drive.google.com/uc?export=view&id=1CYdRFTWrhkt6MQC-4bo4uOjE8ZfG9jOt\"></left>\n",
        "\n",
        "2. Side by Side: Axis = 1\n",
        "\n",
        "<left><img width=\"600\" src=\"https://drive.google.com/uc?export=view&id=1D5NGhSzGARmchcnpjgcVgN7OsSU7aR7O\"></left>\n",
        "\n",
        "Since **concat** is a function, not a method, we use the syntax below:\n",
        "\n",
        "<left><img width=\"500\" src=\"https://drive.google.com/uc?export=view&id=1e-j71SCj4Ri8EP6QGDnko6w1XFqhKLGX\"></left>\n",
        "\n",
        "In the next exercise, we'll use the **concat()** function to combine subsets of **happiness2015** and **happiness2016** and then debrief the results on the following section.\n",
        "\n",
        "Below are the subsets we'll be working with:\n"
      ]
    },
    {
      "metadata": {
        "id": "Syes__dOd1fY",
        "colab_type": "code",
        "outputId": "45903f7b-f2c4-480f-92a4-d3c38baa75ed",
        "colab": {
          "base_uri": "https://localhost:8080/",
          "height": 138
        }
      },
      "cell_type": "code",
      "source": [
        "head_2015 = happiness2015[['Country',\n",
        "                           'Happiness Score', \n",
        "                           'Year']].head(3)\n",
        "head_2015"
      ],
      "execution_count": 0,
      "outputs": [
        {
          "output_type": "execute_result",
          "data": {
            "text/html": [
              "<div>\n",
              "<style scoped>\n",
              "    .dataframe tbody tr th:only-of-type {\n",
              "        vertical-align: middle;\n",
              "    }\n",
              "\n",
              "    .dataframe tbody tr th {\n",
              "        vertical-align: top;\n",
              "    }\n",
              "\n",
              "    .dataframe thead th {\n",
              "        text-align: right;\n",
              "    }\n",
              "</style>\n",
              "<table border=\"1\" class=\"dataframe\">\n",
              "  <thead>\n",
              "    <tr style=\"text-align: right;\">\n",
              "      <th></th>\n",
              "      <th>Country</th>\n",
              "      <th>Happiness Score</th>\n",
              "      <th>Year</th>\n",
              "    </tr>\n",
              "  </thead>\n",
              "  <tbody>\n",
              "    <tr>\n",
              "      <th>0</th>\n",
              "      <td>Switzerland</td>\n",
              "      <td>7.587</td>\n",
              "      <td>2015</td>\n",
              "    </tr>\n",
              "    <tr>\n",
              "      <th>1</th>\n",
              "      <td>Iceland</td>\n",
              "      <td>7.561</td>\n",
              "      <td>2015</td>\n",
              "    </tr>\n",
              "    <tr>\n",
              "      <th>2</th>\n",
              "      <td>Denmark</td>\n",
              "      <td>7.527</td>\n",
              "      <td>2015</td>\n",
              "    </tr>\n",
              "  </tbody>\n",
              "</table>\n",
              "</div>"
            ],
            "text/plain": [
              "       Country  Happiness Score  Year\n",
              "0  Switzerland            7.587  2015\n",
              "1      Iceland            7.561  2015\n",
              "2      Denmark            7.527  2015"
            ]
          },
          "metadata": {
            "tags": []
          },
          "execution_count": 52
        }
      ]
    },
    {
      "metadata": {
        "id": "lYP7msSNfqoH",
        "colab_type": "code",
        "outputId": "a4872af2-4c01-4106-a7a6-24693dece7e7",
        "colab": {
          "base_uri": "https://localhost:8080/",
          "height": 138
        }
      },
      "cell_type": "code",
      "source": [
        "head_2016 = happiness2016[['Country',\n",
        "                           'Happiness Score', \n",
        "                           'Year']].head(3)\n",
        "head_2016"
      ],
      "execution_count": 0,
      "outputs": [
        {
          "output_type": "execute_result",
          "data": {
            "text/html": [
              "<div>\n",
              "<style scoped>\n",
              "    .dataframe tbody tr th:only-of-type {\n",
              "        vertical-align: middle;\n",
              "    }\n",
              "\n",
              "    .dataframe tbody tr th {\n",
              "        vertical-align: top;\n",
              "    }\n",
              "\n",
              "    .dataframe thead th {\n",
              "        text-align: right;\n",
              "    }\n",
              "</style>\n",
              "<table border=\"1\" class=\"dataframe\">\n",
              "  <thead>\n",
              "    <tr style=\"text-align: right;\">\n",
              "      <th></th>\n",
              "      <th>Country</th>\n",
              "      <th>Happiness Score</th>\n",
              "      <th>Year</th>\n",
              "    </tr>\n",
              "  </thead>\n",
              "  <tbody>\n",
              "    <tr>\n",
              "      <th>0</th>\n",
              "      <td>Denmark</td>\n",
              "      <td>7.526</td>\n",
              "      <td>2016</td>\n",
              "    </tr>\n",
              "    <tr>\n",
              "      <th>1</th>\n",
              "      <td>Switzerland</td>\n",
              "      <td>7.509</td>\n",
              "      <td>2016</td>\n",
              "    </tr>\n",
              "    <tr>\n",
              "      <th>2</th>\n",
              "      <td>Iceland</td>\n",
              "      <td>7.501</td>\n",
              "      <td>2016</td>\n",
              "    </tr>\n",
              "  </tbody>\n",
              "</table>\n",
              "</div>"
            ],
            "text/plain": [
              "       Country  Happiness Score  Year\n",
              "0      Denmark            7.526  2016\n",
              "1  Switzerland            7.509  2016\n",
              "2      Iceland            7.501  2016"
            ]
          },
          "metadata": {
            "tags": []
          },
          "execution_count": 4
        }
      ]
    },
    {
      "metadata": {
        "id": "CIhwMxnOfzz9",
        "colab_type": "text"
      },
      "cell_type": "markdown",
      "source": [
        "Let's use the **concat()** function to combine **head_2015** and **head_2016** next.\n",
        "\n",
        "**Exercise**\n",
        "\n",
        "<left><img width=\"100\" src=\"https://drive.google.com/uc?export=view&id=1E8tR7B9YYUXsU_rddJAyq0FrM0MSelxZ\"></left>\n",
        "\n",
        "We've already saved the subsets from **happiness2015** and **happiness2016** to the variables **head_2015** and **head_2016**.\n",
        "\n",
        "- Use the **pd.concat()** function to combine **head_2015** and **head_2016** along **axis = 0**. Remember to pass the **head_2015** and **head_2016** into the function as a list. Assign the result to **concat_axis0**.\n",
        "- Use the **pd.concat()** function to combine **head_2015** and **head_2016** along **axis = 1**. Remember to pass **head_2015** and **head_2016** into the function as a list and set the **axis** parameter equal to 1. Assign the result to **concat_axis1**.\n",
        "- Assign the number of rows in **concat_axis0** to a variable called **question1**.\n",
        "- Assign the number of rows in **concat_axis1** to a variable called **question2**.\n"
      ]
    },
    {
      "metadata": {
        "id": "VyqXK6mKgIy2",
        "colab_type": "code",
        "colab": {}
      },
      "cell_type": "code",
      "source": [
        "# put your code here"
      ],
      "execution_count": 0,
      "outputs": []
    },
    {
      "metadata": {
        "id": "Y4EyM1iSh8QO",
        "colab_type": "text"
      },
      "cell_type": "markdown",
      "source": [
        "### 1.3 Combining Dataframes with the Concat Function Continued"
      ]
    },
    {
      "metadata": {
        "id": "hwZD2nJFicfY",
        "colab_type": "text"
      },
      "cell_type": "markdown",
      "source": [
        "When you reviewed the results from the last exercise, you probably noticed that we merely pushed the dataframes together vertically or horizontally - none of the values, column names, or indexes changed. For this reason, when you use the **concat()** function to combine dataframes with the same shape and index, you can think of the function as \"gluing\" dataframes together.\n",
        "\n",
        "<left><img width=\"500\" src=\"https://drive.google.com/uc?export=view&id=1XJOhkxKMokGHw7HMeSzOYxVJ8-bQiL-Z\"></left>\n",
        "\n",
        "\n",
        "However, what happens if the dataframes have different shapes or columns? Let's confirm the **concat()** function's behavior when we combine dataframes that don't have the same shape in the next exercise.\n",
        "\n",
        "We'll work with the following subsets:"
      ]
    },
    {
      "metadata": {
        "id": "wdvKGRYTjyRq",
        "colab_type": "code",
        "outputId": "72a29a47-8cae-41dc-ceb5-0477667c0997",
        "colab": {
          "base_uri": "https://localhost:8080/",
          "height": 168
        }
      },
      "cell_type": "code",
      "source": [
        "head_2015 = happiness2015[['Year','Country','Happiness Score', 'Standard Error']].head(4)\n",
        "head_2015"
      ],
      "execution_count": 0,
      "outputs": [
        {
          "output_type": "execute_result",
          "data": {
            "text/html": [
              "<div>\n",
              "<style scoped>\n",
              "    .dataframe tbody tr th:only-of-type {\n",
              "        vertical-align: middle;\n",
              "    }\n",
              "\n",
              "    .dataframe tbody tr th {\n",
              "        vertical-align: top;\n",
              "    }\n",
              "\n",
              "    .dataframe thead th {\n",
              "        text-align: right;\n",
              "    }\n",
              "</style>\n",
              "<table border=\"1\" class=\"dataframe\">\n",
              "  <thead>\n",
              "    <tr style=\"text-align: right;\">\n",
              "      <th></th>\n",
              "      <th>Year</th>\n",
              "      <th>Country</th>\n",
              "      <th>Happiness Score</th>\n",
              "      <th>Standard Error</th>\n",
              "    </tr>\n",
              "  </thead>\n",
              "  <tbody>\n",
              "    <tr>\n",
              "      <th>0</th>\n",
              "      <td>2015</td>\n",
              "      <td>Switzerland</td>\n",
              "      <td>7.587</td>\n",
              "      <td>0.03411</td>\n",
              "    </tr>\n",
              "    <tr>\n",
              "      <th>1</th>\n",
              "      <td>2015</td>\n",
              "      <td>Iceland</td>\n",
              "      <td>7.561</td>\n",
              "      <td>0.04884</td>\n",
              "    </tr>\n",
              "    <tr>\n",
              "      <th>2</th>\n",
              "      <td>2015</td>\n",
              "      <td>Denmark</td>\n",
              "      <td>7.527</td>\n",
              "      <td>0.03328</td>\n",
              "    </tr>\n",
              "    <tr>\n",
              "      <th>3</th>\n",
              "      <td>2015</td>\n",
              "      <td>Norway</td>\n",
              "      <td>7.522</td>\n",
              "      <td>0.03880</td>\n",
              "    </tr>\n",
              "  </tbody>\n",
              "</table>\n",
              "</div>"
            ],
            "text/plain": [
              "   Year      Country  Happiness Score  Standard Error\n",
              "0  2015  Switzerland            7.587         0.03411\n",
              "1  2015      Iceland            7.561         0.04884\n",
              "2  2015      Denmark            7.527         0.03328\n",
              "3  2015       Norway            7.522         0.03880"
            ]
          },
          "metadata": {
            "tags": []
          },
          "execution_count": 57
        }
      ]
    },
    {
      "metadata": {
        "id": "arkagdwAkXUx",
        "colab_type": "code",
        "outputId": "20e38ff7-e51e-424f-d129-797d19d0a7e8",
        "colab": {
          "base_uri": "https://localhost:8080/",
          "height": 138
        }
      },
      "cell_type": "code",
      "source": [
        "head_2016 = happiness2016[['Country','Happiness Score', 'Year']].head(3)\n",
        "head_2016"
      ],
      "execution_count": 0,
      "outputs": [
        {
          "output_type": "execute_result",
          "data": {
            "text/html": [
              "<div>\n",
              "<style scoped>\n",
              "    .dataframe tbody tr th:only-of-type {\n",
              "        vertical-align: middle;\n",
              "    }\n",
              "\n",
              "    .dataframe tbody tr th {\n",
              "        vertical-align: top;\n",
              "    }\n",
              "\n",
              "    .dataframe thead th {\n",
              "        text-align: right;\n",
              "    }\n",
              "</style>\n",
              "<table border=\"1\" class=\"dataframe\">\n",
              "  <thead>\n",
              "    <tr style=\"text-align: right;\">\n",
              "      <th></th>\n",
              "      <th>Country</th>\n",
              "      <th>Happiness Score</th>\n",
              "      <th>Year</th>\n",
              "    </tr>\n",
              "  </thead>\n",
              "  <tbody>\n",
              "    <tr>\n",
              "      <th>0</th>\n",
              "      <td>Denmark</td>\n",
              "      <td>7.526</td>\n",
              "      <td>2016</td>\n",
              "    </tr>\n",
              "    <tr>\n",
              "      <th>1</th>\n",
              "      <td>Switzerland</td>\n",
              "      <td>7.509</td>\n",
              "      <td>2016</td>\n",
              "    </tr>\n",
              "    <tr>\n",
              "      <th>2</th>\n",
              "      <td>Iceland</td>\n",
              "      <td>7.501</td>\n",
              "      <td>2016</td>\n",
              "    </tr>\n",
              "  </tbody>\n",
              "</table>\n",
              "</div>"
            ],
            "text/plain": [
              "       Country  Happiness Score  Year\n",
              "0      Denmark            7.526  2016\n",
              "1  Switzerland            7.509  2016\n",
              "2      Iceland            7.501  2016"
            ]
          },
          "metadata": {
            "tags": []
          },
          "execution_count": 58
        }
      ]
    },
    {
      "metadata": {
        "id": "vaiCDVNikbm_",
        "colab_type": "text"
      },
      "cell_type": "markdown",
      "source": [
        "Notice in the subsets above that **head_2015** contains one column that **head_2016** does not - the **Standard Error** column. Let's confirm what happens when we concatenate them next.\n",
        "\n",
        "**Exercise**\n",
        "\n",
        "<left><img width=\"100\" src=\"https://drive.google.com/uc?export=view&id=1E8tR7B9YYUXsU_rddJAyq0FrM0MSelxZ\"></left>\n",
        "\n",
        "We've already created the **head_2015** and **head_2016** variables.\n",
        "\n",
        "- Use the **pd.concat()** function to combine **head_2015** and **head_2016** along **axis = 0**. Remember to pass the **head_2015** and **head_2016** into the function as a list. Assign the result to **concat_axis0**.\n"
      ]
    },
    {
      "metadata": {
        "id": "HYloolBqko0Z",
        "colab_type": "code",
        "colab": {}
      },
      "cell_type": "code",
      "source": [
        "# put your code here"
      ],
      "execution_count": 0,
      "outputs": []
    },
    {
      "metadata": {
        "id": "4_uxAGkRlbhX",
        "colab_type": "text"
      },
      "cell_type": "markdown",
      "source": [
        "### 1.4 Combining Dataframes with Different Shapes Using the Concat Function"
      ]
    },
    {
      "metadata": {
        "id": "BM2BQfLdnAki",
        "colab_type": "text"
      },
      "cell_type": "markdown",
      "source": [
        "In the last exercise, we saw that the analogy of \"gluing\" dataframes together doesn't fully describe what happens when concatenating dataframes of different shapes. Instead, the function combined the data according to the corresponding column names:\n",
        "\n",
        "<left><img width=\"700\" src=\"https://drive.google.com/uc?export=view&id=19gyEqPO137B0vkALZfcQ4jDKHY504bF1\"></left>\n",
        "\n",
        "\n",
        "Note that because the **Standard Error** column didn't exist in **head_2016**, **NaN** values were created to signify those values are missing. By default, the **concat** function will keep ALL of the data, no matter if missing values are created.\n",
        "\n",
        "Also, notice again the indexes of the original dataframes didn't change. If the indexes aren't meaningful, it can be better to reset them. This is especially true when we create duplicate indexes, because they could cause errors as we perform other data cleaning tasks.\n",
        "\n",
        "Luckily, the **concat** function has a parameter, **ignore_index**, that can be used to clear the existing **index** and **reset** it in the result. Let's practice using it next.\n",
        "\n",
        "**Exercise**\n",
        "\n",
        "<left><img width=\"100\" src=\"https://drive.google.com/uc?export=view&id=1E8tR7B9YYUXsU_rddJAyq0FrM0MSelxZ\"></left>\n",
        "\n",
        "- Use the **pd.concat()** function to combine **head_2015** and **head_2016** along **axis = 0** again. This time, however, set the **ignore_index** parameter to **True** to reset the index in the result. Assign the result to **concat_update_index**."
      ]
    },
    {
      "metadata": {
        "id": "qOdKTAo4nHE5",
        "colab_type": "code",
        "colab": {}
      },
      "cell_type": "code",
      "source": [
        "# put your code here"
      ],
      "execution_count": 0,
      "outputs": []
    },
    {
      "metadata": {
        "id": "d6lgxrHooTe8",
        "colab_type": "text"
      },
      "cell_type": "markdown",
      "source": [
        "### 1.5 Joining Dataframes with the Merge Function"
      ]
    },
    {
      "metadata": {
        "id": "G0hSnGrN8-Dk",
        "colab_type": "text"
      },
      "cell_type": "markdown",
      "source": [
        "Next, we'll explore the [pd.merge() function](https://pandas.pydata.org/pandas-docs/stable/generated/pandas.DataFrame.merge.html) - a function that can execute high performance database-style joins. Note that unlike the **concat** function, the **merge** function only combines dataframes horizontally (axis=1) and **can only combine two dataframes at a time**. However, it can be valuable when we need to combine very large dataframes quickly and provides more flexibility in terms of how data can be combined, as we'll see in the next couple sections.\n",
        "\n",
        "With the **merge()** function, we'll combine dataframes on a **key**, a **shared index** or **column**. When choosing a key, it's good practice to use keys with unique values to avoid duplicating data.\n",
        "\n",
        "You can think of keys as creating a link from one dataframe to another using the common values or indexes. For example, in the diagram below, we linked the dataframes using common values in the Country columns.\n",
        "\n",
        "<left><img width=\"400\" src=\"https://drive.google.com/uc?export=view&id=1ZBKNem91tjiV0XzcJSQGUgfm90ihmCMr\"></left>\n",
        "\n",
        "In the diagram below, we use those common country values to join or merge the dataframes.\n",
        "\n",
        "<left><img width=\"700\" src=\"https://drive.google.com/uc?export=view&id=1t5ioaNiXdnkWKGwVh3cpFbJLKCqTLoU7\"></left>\n",
        "\n",
        "\n",
        "We'll explore the merge function in the next exercise using just three rows from **happiness2015** and **happiness2016**:"
      ]
    },
    {
      "metadata": {
        "id": "F2IkgdNbBGm8",
        "colab_type": "code",
        "outputId": "9e2b4c96-e231-417b-ffcc-adb15304a1b0",
        "colab": {
          "base_uri": "https://localhost:8080/",
          "height": 138
        }
      },
      "cell_type": "code",
      "source": [
        "three_2015 = happiness2015[['Country','Happiness Rank','Year']].iloc[2:5]\n",
        "three_2015"
      ],
      "execution_count": 0,
      "outputs": [
        {
          "output_type": "execute_result",
          "data": {
            "text/html": [
              "<div>\n",
              "<style scoped>\n",
              "    .dataframe tbody tr th:only-of-type {\n",
              "        vertical-align: middle;\n",
              "    }\n",
              "\n",
              "    .dataframe tbody tr th {\n",
              "        vertical-align: top;\n",
              "    }\n",
              "\n",
              "    .dataframe thead th {\n",
              "        text-align: right;\n",
              "    }\n",
              "</style>\n",
              "<table border=\"1\" class=\"dataframe\">\n",
              "  <thead>\n",
              "    <tr style=\"text-align: right;\">\n",
              "      <th></th>\n",
              "      <th>Country</th>\n",
              "      <th>Happiness Rank</th>\n",
              "      <th>Year</th>\n",
              "    </tr>\n",
              "  </thead>\n",
              "  <tbody>\n",
              "    <tr>\n",
              "      <th>2</th>\n",
              "      <td>Denmark</td>\n",
              "      <td>3</td>\n",
              "      <td>2015</td>\n",
              "    </tr>\n",
              "    <tr>\n",
              "      <th>3</th>\n",
              "      <td>Norway</td>\n",
              "      <td>4</td>\n",
              "      <td>2015</td>\n",
              "    </tr>\n",
              "    <tr>\n",
              "      <th>4</th>\n",
              "      <td>Canada</td>\n",
              "      <td>5</td>\n",
              "      <td>2015</td>\n",
              "    </tr>\n",
              "  </tbody>\n",
              "</table>\n",
              "</div>"
            ],
            "text/plain": [
              "   Country  Happiness Rank  Year\n",
              "2  Denmark               3  2015\n",
              "3   Norway               4  2015\n",
              "4   Canada               5  2015"
            ]
          },
          "metadata": {
            "tags": []
          },
          "execution_count": 65
        }
      ]
    },
    {
      "metadata": {
        "id": "CtxxVa9YCHuM",
        "colab_type": "code",
        "outputId": "dc59e83f-0046-4530-f777-9513951a6522",
        "colab": {
          "base_uri": "https://localhost:8080/",
          "height": 138
        }
      },
      "cell_type": "code",
      "source": [
        "three_2016 = happiness2016[['Country','Happiness Rank','Year']].iloc[2:5]\n",
        "three_2016"
      ],
      "execution_count": 0,
      "outputs": [
        {
          "output_type": "execute_result",
          "data": {
            "text/html": [
              "<div>\n",
              "<style scoped>\n",
              "    .dataframe tbody tr th:only-of-type {\n",
              "        vertical-align: middle;\n",
              "    }\n",
              "\n",
              "    .dataframe tbody tr th {\n",
              "        vertical-align: top;\n",
              "    }\n",
              "\n",
              "    .dataframe thead th {\n",
              "        text-align: right;\n",
              "    }\n",
              "</style>\n",
              "<table border=\"1\" class=\"dataframe\">\n",
              "  <thead>\n",
              "    <tr style=\"text-align: right;\">\n",
              "      <th></th>\n",
              "      <th>Country</th>\n",
              "      <th>Happiness Rank</th>\n",
              "      <th>Year</th>\n",
              "    </tr>\n",
              "  </thead>\n",
              "  <tbody>\n",
              "    <tr>\n",
              "      <th>2</th>\n",
              "      <td>Iceland</td>\n",
              "      <td>3</td>\n",
              "      <td>2016</td>\n",
              "    </tr>\n",
              "    <tr>\n",
              "      <th>3</th>\n",
              "      <td>Norway</td>\n",
              "      <td>4</td>\n",
              "      <td>2016</td>\n",
              "    </tr>\n",
              "    <tr>\n",
              "      <th>4</th>\n",
              "      <td>Finland</td>\n",
              "      <td>5</td>\n",
              "      <td>2016</td>\n",
              "    </tr>\n",
              "  </tbody>\n",
              "</table>\n",
              "</div>"
            ],
            "text/plain": [
              "   Country  Happiness Rank  Year\n",
              "2  Iceland               3  2016\n",
              "3   Norway               4  2016\n",
              "4  Finland               5  2016"
            ]
          },
          "metadata": {
            "tags": []
          },
          "execution_count": 66
        }
      ]
    },
    {
      "metadata": {
        "id": "5YuuZILJCNnL",
        "colab_type": "text"
      },
      "cell_type": "markdown",
      "source": [
        "We'll use the following syntax:\n",
        "\n",
        "<left><img width=\"600\" src=\"https://drive.google.com/uc?export=view&id=1mApwE1qMRnbUmBSa7D5jf93XuTbmQDB3\"></left>\n",
        "\n",
        "**Exercise**\n",
        "\n",
        "<left><img width=\"100\" src=\"https://drive.google.com/uc?export=view&id=1E8tR7B9YYUXsU_rddJAyq0FrM0MSelxZ\"></left>\n",
        "\n",
        "\n",
        "We've already saved three rows from **happiness2015** and **happiness2016** to variables named **three_2015** and **three_2016**.\n",
        "\n",
        "- Use the **pd.merge()** function to join **three_2015** and **three_2016** on the **Country** column. Assign the result to **merged**.\n"
      ]
    },
    {
      "metadata": {
        "id": "muHih_D5Cm3a",
        "colab_type": "code",
        "colab": {}
      },
      "cell_type": "code",
      "source": [
        "# put your code here"
      ],
      "execution_count": 0,
      "outputs": []
    },
    {
      "metadata": {
        "id": "fJCSkgUHDV94",
        "colab_type": "text"
      },
      "cell_type": "markdown",
      "source": [
        "### 1.6 Joining on Columns with the Merge Function"
      ]
    },
    {
      "metadata": {
        "id": "G9UwPEeKDlof",
        "colab_type": "text"
      },
      "cell_type": "markdown",
      "source": [
        "Joining three_2015 and three_2016 in the last exercise resulted in a dataframe with just one row.\n",
        "\n",
        "Let's look back to **three_2015** and **three_2016** to understand why. Since we joined the dataframes on the **Country** column, or used it as the **key**, the **merge()** function looked to match elements in the **Country** column in **BOTH** dataframes.\n",
        "\n",
        "<left><img width=\"600\" src=\"https://drive.google.com/uc?export=view&id=1z300DyQ7dUwHNlnz--gfcCh7x6rkGunL\"></left>\n",
        "\n",
        "\n",
        "The one country returned in **merged** was **\"Norway\"**, the only element that appeared in the **Country** column in **BOTH** **three_2015** and **three_2016**.\n",
        "\n",
        "This way of combining, or joining, data is called an **inner join**. An **inner join returns only the intersection of the keys**, or the elements that appear in both dataframes with a common key.\n",
        "\n",
        "The term **\"join\"** originates from **SQL** (or structured query language), a language used to work with databases. If you're a SQL user, you'll recognize the following concepts. If you've never used SQL, don't worry! No prior knowledge is neccessary for this lesson.\n",
        "\n",
        "There are actually four different types of joins:\n",
        "\n",
        "- **Inner**: only includes elements that appear in both dataframes with a common key\n",
        "- **Outer**: includes all data from both dataframes\n",
        "- **Left**: includes all of the rows from the \"left\" dataframe along with any rows from the \"right\" dataframe with a common key; the result retains all columns from both of the original dataframes\n",
        "- **Right**: includes all of the rows from the \"right\" dataframe along with any rows from the \"left\" dataframe with a common key; the result retains all columns from both of the original dataframes\n",
        "\n",
        "If the definition for outer joins sounds familiar, it's because we've already seen examples of outer joins! Recall that when we combined data using the **concat** function, it kept all of the data from all dataframes, no matter if missing values were created.\n",
        "\n",
        "Since it's much more common to use **inner** and **left joins** for database-style joins, we'll focus on these join types for the remainder of the lesson, but encourage you to explore the other options on your own.\n",
        "\n",
        "Let's experiment with changing the join type next.\n",
        "\n",
        "**Exercise**\n",
        "\n",
        "<left><img width=\"100\" src=\"https://drive.google.com/uc?export=view&id=1E8tR7B9YYUXsU_rddJAyq0FrM0MSelxZ\"></left>\n",
        "\n",
        "\n",
        "- Update **merged** to use a **left join** instead of an **inner join**. Set the **how** parameter to **'left'** in **merge()**. Assign the result to **merged_left**.\n",
        "- Update **merged_left** so that the **left** parameter equals **three_2016** and the **right** parameter equals **three_2015**. Assign the result to **merged_left_updated**.\n",
        "- Based on the results of this exercise, when using a **left join**, does changing the dataframe assigned to the left and right parameters change the result? Try to answer this question before moving onto the next section"
      ]
    },
    {
      "metadata": {
        "id": "boGqEt4lEGvW",
        "colab_type": "code",
        "colab": {}
      },
      "cell_type": "code",
      "source": [
        "three_2015 = happiness2015[['Country','Happiness Rank','Year']].iloc[2:5]\n",
        "three_2016 = happiness2016[['Country','Happiness Rank','Year']].iloc[2:5]\n",
        "merged = pd.merge(left=three_2015, right=three_2016, on='Country')\n",
        "\n",
        "#put your code here"
      ],
      "execution_count": 0,
      "outputs": []
    },
    {
      "metadata": {
        "id": "1HzDC-unGs_n",
        "colab_type": "text"
      },
      "cell_type": "markdown",
      "source": [
        "### 1.7 Left Joins with the Merge Function"
      ]
    },
    {
      "metadata": {
        "id": "8a2BYW1gHDEG",
        "colab_type": "text"
      },
      "cell_type": "markdown",
      "source": [
        "Let's summarize what we learned in the last exercise:\n",
        "\n",
        "- Changing the join type from an **inner join** to a **left join** resulted in a dataframe with more rows and created **NaNs**.\n",
        "- When using a **left join**, interchanging the dataframes assigned to the left and right parameters changes the results.\n",
        "\n",
        "Let's look into the results in more detail. First, let's look at the case in which the \"left\" dataframe is **three_2015** and the \"right\" dataframe is **three_2016**:"
      ]
    },
    {
      "metadata": {
        "id": "VPzrpBe2H_Ua",
        "colab_type": "code",
        "outputId": "35f97913-e7a7-4765-a613-b5214929719c",
        "colab": {
          "base_uri": "https://localhost:8080/",
          "height": 138
        }
      },
      "cell_type": "code",
      "source": [
        "pd.merge(left=three_2015, right=three_2016, how='left', on='Country')"
      ],
      "execution_count": 0,
      "outputs": [
        {
          "output_type": "execute_result",
          "data": {
            "text/html": [
              "<div>\n",
              "<style scoped>\n",
              "    .dataframe tbody tr th:only-of-type {\n",
              "        vertical-align: middle;\n",
              "    }\n",
              "\n",
              "    .dataframe tbody tr th {\n",
              "        vertical-align: top;\n",
              "    }\n",
              "\n",
              "    .dataframe thead th {\n",
              "        text-align: right;\n",
              "    }\n",
              "</style>\n",
              "<table border=\"1\" class=\"dataframe\">\n",
              "  <thead>\n",
              "    <tr style=\"text-align: right;\">\n",
              "      <th></th>\n",
              "      <th>Country</th>\n",
              "      <th>Happiness Rank_x</th>\n",
              "      <th>Year_x</th>\n",
              "      <th>Happiness Rank_y</th>\n",
              "      <th>Year_y</th>\n",
              "    </tr>\n",
              "  </thead>\n",
              "  <tbody>\n",
              "    <tr>\n",
              "      <th>0</th>\n",
              "      <td>Denmark</td>\n",
              "      <td>3</td>\n",
              "      <td>2015</td>\n",
              "      <td>NaN</td>\n",
              "      <td>NaN</td>\n",
              "    </tr>\n",
              "    <tr>\n",
              "      <th>1</th>\n",
              "      <td>Norway</td>\n",
              "      <td>4</td>\n",
              "      <td>2015</td>\n",
              "      <td>4.0</td>\n",
              "      <td>2016.0</td>\n",
              "    </tr>\n",
              "    <tr>\n",
              "      <th>2</th>\n",
              "      <td>Canada</td>\n",
              "      <td>5</td>\n",
              "      <td>2015</td>\n",
              "      <td>NaN</td>\n",
              "      <td>NaN</td>\n",
              "    </tr>\n",
              "  </tbody>\n",
              "</table>\n",
              "</div>"
            ],
            "text/plain": [
              "   Country  Happiness Rank_x  Year_x  Happiness Rank_y  Year_y\n",
              "0  Denmark                 3    2015               NaN     NaN\n",
              "1   Norway                 4    2015               4.0  2016.0\n",
              "2   Canada                 5    2015               NaN     NaN"
            ]
          },
          "metadata": {
            "tags": []
          },
          "execution_count": 23
        }
      ]
    },
    {
      "metadata": {
        "id": "hqU2X9bUIRX0",
        "colab_type": "text"
      },
      "cell_type": "markdown",
      "source": [
        "Recall that a left join includes all of the rows from the \"left\" dataframe along with any rows from the \"right\" dataframe with a common key.\n",
        "\n",
        "<left><img width=\"700\" src=\"https://drive.google.com/uc?export=view&id=1IGRy--ZJcljf0th7y9VK7HNN5M-q9Oq3\"></left>\n",
        "\n",
        "\n",
        "Since the **Country** column was used as the key, only countries that appear in **BOTH** dataframes have a value in every column. **\"Norway\"** was the only value in the **Country** column in **BOTH** dataframes, so it's the only row with a value in every column.\n",
        "\n",
        "When we interchanged the \"left\" and the \"right\" dataframes, the values changed:\n",
        "\n",
        "\n"
      ]
    },
    {
      "metadata": {
        "id": "eYmuo9fYIm8J",
        "colab_type": "code",
        "outputId": "b763550a-82f4-441d-c899-0d74c351a187",
        "colab": {
          "base_uri": "https://localhost:8080/",
          "height": 138
        }
      },
      "cell_type": "code",
      "source": [
        "pd.merge(left=three_2016, right=three_2015, how='left', on='Country')"
      ],
      "execution_count": 0,
      "outputs": [
        {
          "output_type": "execute_result",
          "data": {
            "text/html": [
              "<div>\n",
              "<style scoped>\n",
              "    .dataframe tbody tr th:only-of-type {\n",
              "        vertical-align: middle;\n",
              "    }\n",
              "\n",
              "    .dataframe tbody tr th {\n",
              "        vertical-align: top;\n",
              "    }\n",
              "\n",
              "    .dataframe thead th {\n",
              "        text-align: right;\n",
              "    }\n",
              "</style>\n",
              "<table border=\"1\" class=\"dataframe\">\n",
              "  <thead>\n",
              "    <tr style=\"text-align: right;\">\n",
              "      <th></th>\n",
              "      <th>Country</th>\n",
              "      <th>Happiness Rank_x</th>\n",
              "      <th>Year_x</th>\n",
              "      <th>Happiness Rank_y</th>\n",
              "      <th>Year_y</th>\n",
              "    </tr>\n",
              "  </thead>\n",
              "  <tbody>\n",
              "    <tr>\n",
              "      <th>0</th>\n",
              "      <td>Iceland</td>\n",
              "      <td>3</td>\n",
              "      <td>2016</td>\n",
              "      <td>NaN</td>\n",
              "      <td>NaN</td>\n",
              "    </tr>\n",
              "    <tr>\n",
              "      <th>1</th>\n",
              "      <td>Norway</td>\n",
              "      <td>4</td>\n",
              "      <td>2016</td>\n",
              "      <td>4.0</td>\n",
              "      <td>2015.0</td>\n",
              "    </tr>\n",
              "    <tr>\n",
              "      <th>2</th>\n",
              "      <td>Finland</td>\n",
              "      <td>5</td>\n",
              "      <td>2016</td>\n",
              "      <td>NaN</td>\n",
              "      <td>NaN</td>\n",
              "    </tr>\n",
              "  </tbody>\n",
              "</table>\n",
              "</div>"
            ],
            "text/plain": [
              "   Country  Happiness Rank_x  Year_x  Happiness Rank_y  Year_y\n",
              "0  Iceland                 3    2016               NaN     NaN\n",
              "1   Norway                 4    2016               4.0  2015.0\n",
              "2  Finland                 5    2016               NaN     NaN"
            ]
          },
          "metadata": {
            "tags": []
          },
          "execution_count": 24
        }
      ]
    },
    {
      "metadata": {
        "id": "x5KONr__JCPh",
        "colab_type": "text"
      },
      "cell_type": "markdown",
      "source": [
        "This time, we kept all of the rows from **three_2016**. **\"Norway\"** was still the only value in the **Country** column in **BOTH** dataframes, so it's the only row with a value in every column.\n",
        "\n",
        "<left><img width=\"700\" src=\"https://drive.google.com/uc?export=view&id=1tG4WWHIM1Fc41R2-CJrG8IBlBam2lGh0\"></left>\n",
        "\n",
        "In summary, we'd use a **left join** when we don't want to drop any data from the left dataframe.\n",
        "\n",
        "Note that a **right join** works the same as a **left join**, except it includes all of the rows from the \"right\" dataframe. Since it's far more common in practice to use a left join, we won't cover right joins in detail.\n",
        "\n",
        "You may have also noticed above that the merge function added a suffix of either **_x** or **_y** to columns of the same name to distinguish between them.\n",
        "\n",
        "Let's update those suffixes next to make our results easier to read.\n",
        "\n",
        "**Exercise**\n",
        "\n",
        "<left><img width=\"100\" src=\"https://drive.google.com/uc?export=view&id=1E8tR7B9YYUXsU_rddJAyq0FrM0MSelxZ\"></left>\n",
        "\n",
        "- Update **merged** to use the suffixes **_2015** and **_2016**. Set the **suffixes** parameter to **('_2015', '_2016')** in **merge()**. Assign the result to **merged_suffixes**.\n",
        "- Update **merged_updated** to use the suffixes **_2015** and **_2016**. Notice that the \"left\" dataframe is **three_2016** and the \"right\" dataframe is **three_2015**. Assign the result to **merged_updated_suffixes**."
      ]
    },
    {
      "metadata": {
        "id": "dQ2v6_CUJNaS",
        "colab_type": "code",
        "colab": {}
      },
      "cell_type": "code",
      "source": [
        "three_2015 = happiness2015[['Country','Happiness Rank','Year']].iloc[2:5]\n",
        "three_2016 = happiness2016[['Country','Happiness Rank','Year']].iloc[2:5]\n",
        "merged = pd.merge(left=three_2015, right=three_2016, how='left', on='Country')\n",
        "merged_updated = pd.merge(left=three_2016, right=three_2015, how = 'left', on='Country')\n",
        "# put your code here"
      ],
      "execution_count": 0,
      "outputs": []
    },
    {
      "metadata": {
        "id": "v4qy3BdFK2mN",
        "colab_type": "text"
      },
      "cell_type": "markdown",
      "source": [
        "### 1.8 Join on Index with the Merge Function"
      ]
    },
    {
      "metadata": {
        "id": "zf6lezqJ75ma",
        "colab_type": "text"
      },
      "cell_type": "markdown",
      "source": [
        "Now that we have a good understanding of how to join dataframes on specific columns, let's look at another way to join dataframes - **on the index**.\n",
        "\n",
        "<left><img width=\"200\" src=\"https://drive.google.com/uc?export=view&id=1qFNgVIytv1vkBGr0QTMyDPIqm4aG8JCQ\"></left>\n",
        "\n",
        "\n",
        "In this section, we'll work with the following two subsets of **happiness2015** and **happiness2016**:\n",
        "\n"
      ]
    },
    {
      "metadata": {
        "id": "rYs6RIl_8e4e",
        "colab_type": "code",
        "outputId": "04ba993b-d2a5-421c-9f71-475e25d97eaa",
        "colab": {
          "base_uri": "https://localhost:8080/",
          "height": 168
        }
      },
      "cell_type": "code",
      "source": [
        "four_2015 = happiness2015[['Country','Happiness Rank','Year']].iloc[2:6]\n",
        "four_2015"
      ],
      "execution_count": 0,
      "outputs": [
        {
          "output_type": "execute_result",
          "data": {
            "text/html": [
              "<div>\n",
              "<style scoped>\n",
              "    .dataframe tbody tr th:only-of-type {\n",
              "        vertical-align: middle;\n",
              "    }\n",
              "\n",
              "    .dataframe tbody tr th {\n",
              "        vertical-align: top;\n",
              "    }\n",
              "\n",
              "    .dataframe thead th {\n",
              "        text-align: right;\n",
              "    }\n",
              "</style>\n",
              "<table border=\"1\" class=\"dataframe\">\n",
              "  <thead>\n",
              "    <tr style=\"text-align: right;\">\n",
              "      <th></th>\n",
              "      <th>Country</th>\n",
              "      <th>Happiness Rank</th>\n",
              "      <th>Year</th>\n",
              "    </tr>\n",
              "  </thead>\n",
              "  <tbody>\n",
              "    <tr>\n",
              "      <th>2</th>\n",
              "      <td>Denmark</td>\n",
              "      <td>3</td>\n",
              "      <td>2015</td>\n",
              "    </tr>\n",
              "    <tr>\n",
              "      <th>3</th>\n",
              "      <td>Norway</td>\n",
              "      <td>4</td>\n",
              "      <td>2015</td>\n",
              "    </tr>\n",
              "    <tr>\n",
              "      <th>4</th>\n",
              "      <td>Canada</td>\n",
              "      <td>5</td>\n",
              "      <td>2015</td>\n",
              "    </tr>\n",
              "    <tr>\n",
              "      <th>5</th>\n",
              "      <td>Finland</td>\n",
              "      <td>6</td>\n",
              "      <td>2015</td>\n",
              "    </tr>\n",
              "  </tbody>\n",
              "</table>\n",
              "</div>"
            ],
            "text/plain": [
              "   Country  Happiness Rank  Year\n",
              "2  Denmark               3  2015\n",
              "3   Norway               4  2015\n",
              "4   Canada               5  2015\n",
              "5  Finland               6  2015"
            ]
          },
          "metadata": {
            "tags": []
          },
          "execution_count": 71
        }
      ]
    },
    {
      "metadata": {
        "id": "_RYAI7xv8Uz0",
        "colab_type": "code",
        "outputId": "7ae7ca96-ab5a-4976-87bb-0ea45a69d1cf",
        "colab": {
          "base_uri": "https://localhost:8080/",
          "height": 138
        }
      },
      "cell_type": "code",
      "source": [
        "three_2016 = happiness2016[['Country','Happiness Rank','Year']].iloc[2:5]\n",
        "three_2016"
      ],
      "execution_count": 0,
      "outputs": [
        {
          "output_type": "execute_result",
          "data": {
            "text/html": [
              "<div>\n",
              "<style scoped>\n",
              "    .dataframe tbody tr th:only-of-type {\n",
              "        vertical-align: middle;\n",
              "    }\n",
              "\n",
              "    .dataframe tbody tr th {\n",
              "        vertical-align: top;\n",
              "    }\n",
              "\n",
              "    .dataframe thead th {\n",
              "        text-align: right;\n",
              "    }\n",
              "</style>\n",
              "<table border=\"1\" class=\"dataframe\">\n",
              "  <thead>\n",
              "    <tr style=\"text-align: right;\">\n",
              "      <th></th>\n",
              "      <th>Country</th>\n",
              "      <th>Happiness Rank</th>\n",
              "      <th>Year</th>\n",
              "    </tr>\n",
              "  </thead>\n",
              "  <tbody>\n",
              "    <tr>\n",
              "      <th>2</th>\n",
              "      <td>Iceland</td>\n",
              "      <td>3</td>\n",
              "      <td>2016</td>\n",
              "    </tr>\n",
              "    <tr>\n",
              "      <th>3</th>\n",
              "      <td>Norway</td>\n",
              "      <td>4</td>\n",
              "      <td>2016</td>\n",
              "    </tr>\n",
              "    <tr>\n",
              "      <th>4</th>\n",
              "      <td>Finland</td>\n",
              "      <td>5</td>\n",
              "      <td>2016</td>\n",
              "    </tr>\n",
              "  </tbody>\n",
              "</table>\n",
              "</div>"
            ],
            "text/plain": [
              "   Country  Happiness Rank  Year\n",
              "2  Iceland               3  2016\n",
              "3   Norway               4  2016\n",
              "4  Finland               5  2016"
            ]
          },
          "metadata": {
            "tags": []
          },
          "execution_count": 72
        }
      ]
    },
    {
      "metadata": {
        "id": "Qhood53K8nWF",
        "colab_type": "text"
      },
      "cell_type": "markdown",
      "source": [
        "We'll join **happiness2015** and **happiness2016** **on index** using an **inner join**, so that the result contains only the elements in the key that appear in BOTH dataframes. First, though, let's make a prediction. How many rows and columns do you think the result will have? Write down your answer before you continue reading.\n",
        "\n",
        "To join on the index, we'll set the **left_index** and **right_index** parameters to **True**:"
      ]
    },
    {
      "metadata": {
        "id": "F9AhwbdJ9Cnv",
        "colab_type": "code",
        "outputId": "ebf9ac20-623c-4b00-97ca-62dfe4b28bc8",
        "colab": {
          "base_uri": "https://localhost:8080/",
          "height": 138
        }
      },
      "cell_type": "code",
      "source": [
        "pd.merge(left=four_2015, right=three_2016, left_index=True, right_index=True, suffixes=('_2015','_2016'))"
      ],
      "execution_count": 0,
      "outputs": [
        {
          "output_type": "execute_result",
          "data": {
            "text/html": [
              "<div>\n",
              "<style scoped>\n",
              "    .dataframe tbody tr th:only-of-type {\n",
              "        vertical-align: middle;\n",
              "    }\n",
              "\n",
              "    .dataframe tbody tr th {\n",
              "        vertical-align: top;\n",
              "    }\n",
              "\n",
              "    .dataframe thead th {\n",
              "        text-align: right;\n",
              "    }\n",
              "</style>\n",
              "<table border=\"1\" class=\"dataframe\">\n",
              "  <thead>\n",
              "    <tr style=\"text-align: right;\">\n",
              "      <th></th>\n",
              "      <th>Country_2015</th>\n",
              "      <th>Happiness Rank_2015</th>\n",
              "      <th>Year_2015</th>\n",
              "      <th>Country_2016</th>\n",
              "      <th>Happiness Rank_2016</th>\n",
              "      <th>Year_2016</th>\n",
              "    </tr>\n",
              "  </thead>\n",
              "  <tbody>\n",
              "    <tr>\n",
              "      <th>2</th>\n",
              "      <td>Denmark</td>\n",
              "      <td>3</td>\n",
              "      <td>2015</td>\n",
              "      <td>Iceland</td>\n",
              "      <td>3</td>\n",
              "      <td>2016</td>\n",
              "    </tr>\n",
              "    <tr>\n",
              "      <th>3</th>\n",
              "      <td>Norway</td>\n",
              "      <td>4</td>\n",
              "      <td>2015</td>\n",
              "      <td>Norway</td>\n",
              "      <td>4</td>\n",
              "      <td>2016</td>\n",
              "    </tr>\n",
              "    <tr>\n",
              "      <th>4</th>\n",
              "      <td>Canada</td>\n",
              "      <td>5</td>\n",
              "      <td>2015</td>\n",
              "      <td>Finland</td>\n",
              "      <td>5</td>\n",
              "      <td>2016</td>\n",
              "    </tr>\n",
              "  </tbody>\n",
              "</table>\n",
              "</div>"
            ],
            "text/plain": [
              "  Country_2015  Happiness Rank_2015  Year_2015 Country_2016  \\\n",
              "2      Denmark                    3       2015      Iceland   \n",
              "3       Norway                    4       2015       Norway   \n",
              "4       Canada                    5       2015      Finland   \n",
              "\n",
              "   Happiness Rank_2016  Year_2016  \n",
              "2                    3       2016  \n",
              "3                    4       2016  \n",
              "4                    5       2016  "
            ]
          },
          "metadata": {
            "tags": []
          },
          "execution_count": 30
        }
      ]
    },
    {
      "metadata": {
        "id": "uEP9npo59HDQ",
        "colab_type": "text"
      },
      "cell_type": "markdown",
      "source": [
        "Was your prediction correct? Based on our experience with joining on columns, you may have predicted the output would have just two rows, since only \"Finland\" and \"Norway\" appear in both dataframes. When we join on index, however, our result will contain only common indexes.\n",
        "\n",
        "<left><img width=\"400\" src=\"https://drive.google.com/uc?export=view&id=1DPEg-1Y2fVWZLAh_axHVJN6bjPWBV2tS\"></left>\n",
        "\n",
        "Let's explore what happens when we join on index with a left join instead.\n",
        "\n",
        "**Exercise**\n",
        "\n",
        "<left><img width=\"100\" src=\"https://drive.google.com/uc?export=view&id=1E8tR7B9YYUXsU_rddJAyq0FrM0MSelxZ\"></left>\n",
        "\n",
        "\n",
        "We've already saved **four_2015** and **three_2016**. In this exercise, we'll use a **left join** to combine **four_2015** and **three_2016**.\n",
        "\n",
        "- Predict the number of rows and columns the resulting dataframe will have. Assign the number of rows to a variable called **rows** and the number of columns to a variable called **columns**.\n",
        "- To change the join type used in **merge_index** to a left join, set the **how** parameter equal to 'left'. Save the result to **merge_index_left**.\n",
        "- Update **rows** and **columns** so that each contains the correct number of rows and columns in **merge_index_left**."
      ]
    },
    {
      "metadata": {
        "id": "o4dgCqDx9S_J",
        "colab_type": "code",
        "colab": {}
      },
      "cell_type": "code",
      "source": [
        "import pandas as pd\n",
        "four_2015 = happiness2015[['Country','Happiness Rank','Year']].iloc[2:6]\n",
        "three_2016 = happiness2016[['Country','Happiness Rank','Year']].iloc[2:5]\n",
        "merge_index = pd.merge(left = four_2015,\n",
        "                       right = three_2016, \n",
        "                       left_index = True, \n",
        "                       right_index = True, \n",
        "                       suffixes = ('_2015','_2016'))\n",
        "# put your code here"
      ],
      "execution_count": 0,
      "outputs": []
    },
    {
      "metadata": {
        "id": "ZR_rtCv8-3aM",
        "colab_type": "text"
      },
      "cell_type": "markdown",
      "source": [
        "### 1.9 Challenge: Combine Data and Create a Visualization"
      ]
    },
    {
      "metadata": {
        "id": "fQpNIZjd_RNK",
        "colab_type": "text"
      },
      "cell_type": "markdown",
      "source": [
        "Let's summarize what we learned in this mission:\n",
        "\n",
        "<left><img width=\"600\" src=\"https://drive.google.com/uc?export=view&id=1DTt7S1NSRCbIC1NMepRWsw-hyz0YjVRG\"></left>\n",
        "\n",
        "\n",
        "You may still be wondering about when to use each of the functions and methods we've learned. This table can help you understand the limitations of each, but that decision will mostly depend on the problem you're trying to solve.\n",
        "\n",
        "Let's review our original question next:\n",
        "\n",
        "- **Did world happiness increase, decrease, or stay about the same from 2015 to 2017**?\n",
        "\n",
        "To answer this question, we'll create a bar plot in which each bar represented the mean happiness score for one of the years. We completed a similar task in the last lesson when we calculated the mean happiness score for each region using the **df.pivot_table()** method:"
      ]
    },
    {
      "metadata": {
        "id": "Z1uGC5ZqBbHP",
        "colab_type": "code",
        "outputId": "fd564e32-bb1b-485e-ce09-4a519f32682c",
        "colab": {
          "base_uri": "https://localhost:8080/",
          "height": 378
        }
      },
      "cell_type": "code",
      "source": [
        "import numpy as np\n",
        "#Use a pivot table to aggregate the data according to Region.\n",
        "means = happiness2015.pivot_table('Happiness Score', 'Region', aggfunc=np.mean)\n",
        "means"
      ],
      "execution_count": 0,
      "outputs": [
        {
          "output_type": "execute_result",
          "data": {
            "text/html": [
              "<div>\n",
              "<style scoped>\n",
              "    .dataframe tbody tr th:only-of-type {\n",
              "        vertical-align: middle;\n",
              "    }\n",
              "\n",
              "    .dataframe tbody tr th {\n",
              "        vertical-align: top;\n",
              "    }\n",
              "\n",
              "    .dataframe thead th {\n",
              "        text-align: right;\n",
              "    }\n",
              "</style>\n",
              "<table border=\"1\" class=\"dataframe\">\n",
              "  <thead>\n",
              "    <tr style=\"text-align: right;\">\n",
              "      <th></th>\n",
              "      <th>Happiness Score</th>\n",
              "    </tr>\n",
              "    <tr>\n",
              "      <th>Region</th>\n",
              "      <th></th>\n",
              "    </tr>\n",
              "  </thead>\n",
              "  <tbody>\n",
              "    <tr>\n",
              "      <th>Australia and New Zealand</th>\n",
              "      <td>7.285000</td>\n",
              "    </tr>\n",
              "    <tr>\n",
              "      <th>Central and Eastern Europe</th>\n",
              "      <td>5.332931</td>\n",
              "    </tr>\n",
              "    <tr>\n",
              "      <th>Eastern Asia</th>\n",
              "      <td>5.626167</td>\n",
              "    </tr>\n",
              "    <tr>\n",
              "      <th>Latin America and Caribbean</th>\n",
              "      <td>6.144682</td>\n",
              "    </tr>\n",
              "    <tr>\n",
              "      <th>Middle East and Northern Africa</th>\n",
              "      <td>5.406900</td>\n",
              "    </tr>\n",
              "    <tr>\n",
              "      <th>North America</th>\n",
              "      <td>7.273000</td>\n",
              "    </tr>\n",
              "    <tr>\n",
              "      <th>Southeastern Asia</th>\n",
              "      <td>5.317444</td>\n",
              "    </tr>\n",
              "    <tr>\n",
              "      <th>Southern Asia</th>\n",
              "      <td>4.580857</td>\n",
              "    </tr>\n",
              "    <tr>\n",
              "      <th>Sub-Saharan Africa</th>\n",
              "      <td>4.202800</td>\n",
              "    </tr>\n",
              "    <tr>\n",
              "      <th>Western Europe</th>\n",
              "      <td>6.689619</td>\n",
              "    </tr>\n",
              "  </tbody>\n",
              "</table>\n",
              "</div>"
            ],
            "text/plain": [
              "                                 Happiness Score\n",
              "Region                                          \n",
              "Australia and New Zealand               7.285000\n",
              "Central and Eastern Europe              5.332931\n",
              "Eastern Asia                            5.626167\n",
              "Latin America and Caribbean             6.144682\n",
              "Middle East and Northern Africa         5.406900\n",
              "North America                           7.273000\n",
              "Southeastern Asia                       5.317444\n",
              "Southern Asia                           4.580857\n",
              "Sub-Saharan Africa                      4.202800\n",
              "Western Europe                          6.689619"
            ]
          },
          "metadata": {
            "tags": []
          },
          "execution_count": 39
        }
      ]
    },
    {
      "metadata": {
        "id": "-CFhYiCqC7fg",
        "colab_type": "text"
      },
      "cell_type": "markdown",
      "source": [
        "Then, we plotted the results with the **df.plot()** method."
      ]
    },
    {
      "metadata": {
        "id": "fCPmNn0CDDZt",
        "colab_type": "code",
        "outputId": "05b0fc89-f6d0-4721-ed6f-628505ef6ecf",
        "colab": {
          "base_uri": "https://localhost:8080/",
          "height": 380
        }
      },
      "cell_type": "code",
      "source": [
        "#Use the `df.plot()` method to plot the results.\n",
        "means.plot(kind='barh', \n",
        "           title='Mean Happiness Scores by Region', \n",
        "           xlim=(0,10))"
      ],
      "execution_count": 0,
      "outputs": [
        {
          "output_type": "execute_result",
          "data": {
            "text/plain": [
              "<matplotlib.axes._subplots.AxesSubplot at 0x7fe2369c08d0>"
            ]
          },
          "metadata": {
            "tags": []
          },
          "execution_count": 40
        },
        {
          "output_type": "display_data",
          "data": {
            "image/png": "[encoded data removed]",
            "text/plain": [
              "<Figure size 576x396 with 1 Axes>"
            ]
          },
          "metadata": {
            "tags": []
          }
        }
      ]
    },
    {
      "metadata": {
        "id": "FrT0PQgYDJdJ",
        "colab_type": "text"
      },
      "cell_type": "markdown",
      "source": [
        "Let's repeat the same steps, but this time, we'll group the data by the **Year** column. First, let's rename the **Happiness.Score** column so it matches the colum name in **happiness2015** and **happiness2016**:"
      ]
    },
    {
      "metadata": {
        "id": "ZlXi6o1tDayW",
        "colab_type": "code",
        "colab": {}
      },
      "cell_type": "code",
      "source": [
        "happiness2017.rename(columns={'Happiness.Score': 'Happiness Score'}, inplace=True)"
      ],
      "execution_count": 0,
      "outputs": []
    },
    {
      "metadata": {
        "id": "_Slm1YUSDfAr",
        "colab_type": "text"
      },
      "cell_type": "markdown",
      "source": [
        "Next, we need to combine **happiness2015**, **happiness2016**, and **happiness2017**, so that we can group the result by the **Year** column.\n",
        "\n",
        "Let's use what we learned in this lesson to combine the dataframes.\n",
        "\n",
        "\n",
        "**Exercise**\n",
        "\n",
        "<left><img width=\"100\" src=\"https://drive.google.com/uc?export=view&id=1E8tR7B9YYUXsU_rddJAyq0FrM0MSelxZ\"></left>\n",
        "\n",
        "We've already created a **Year** column in **happiness2017** and renamed the **Happiness.Score** column to **Happiness Score**.\n",
        "\n",
        "- Use either the **pd.concat()** function or the **pd.merge()** function to combine **happiness2015**, **happiness2016**, and **happiness2017**. Assign the result to **combined**.\n",
        "  - Think about whether you need to combine the data horizontally or vertically in order to create a dataframe that can be grouped by year, and decide which function (pd.concat() or pd.merge()) you can use to combine the data.\n",
        "- Use the **df.pivot_table()** method to create a pivot table from the combined dataframe. Set **Year** as the index and **Happiness Score** as the values. Assign the result to **pivot_table_combined**.\n",
        "- Use the **df.plot()** method to create a bar chart of the results. Set the kind parameter to **barh**, the title to **'Mean Happiness Scores by Year'**, and the **xlim** parameter to **(0,10)**.\n",
        "- Try to answer the following question based on the results of this exercise: Did world happiness increase, decrease, or stay about the same from 2015 to 2017?"
      ]
    },
    {
      "metadata": {
        "id": "1D8Po8doDton",
        "colab_type": "code",
        "colab": {}
      },
      "cell_type": "code",
      "source": [
        "# put your code here"
      ],
      "execution_count": 0,
      "outputs": []
    },
    {
      "metadata": {
        "id": "xXQyJPJbHDqf",
        "colab_type": "text"
      },
      "cell_type": "markdown",
      "source": [
        "### 1.10 Next steps"
      ]
    },
    {
      "metadata": {
        "id": "MB540yVaHYLg",
        "colab_type": "text"
      },
      "cell_type": "markdown",
      "source": [
        "In the last exercise, we confirmed that the mean world happiness score stayed approximately the same from 2015 to 2017.\n",
        "\n",
        "In this lesson, we learned how to combine data using the **pd.concat()** and **pd.merge()** functions. In your travels with pandas, you may happen upon the **df.append()** and **df.join()** methods, which are basically shortcuts for the **concat()** and **merge()** functions. We didn't cover them in this lesson, as the differences are few, but if you want to learn more about them, check out this [documentation](https://pandas.pydata.org/pandas-docs/stable/merging.html).\n",
        "\n",
        "As we saw in the last section, in order to perform more complex analysis, we have to be able to **clean** and **manipulate** data, whether it be adding data to a dataframe or renaming a column. In the next lessons, we'll continue building on what we've learned so far as we learn ways to **transform** and **reshape** our data."
      ]
    }
  ]
}