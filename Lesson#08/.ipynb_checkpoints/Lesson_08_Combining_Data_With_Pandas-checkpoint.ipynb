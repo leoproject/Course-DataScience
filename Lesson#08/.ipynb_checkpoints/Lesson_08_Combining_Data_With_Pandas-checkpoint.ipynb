{
 "cells": [
  {
   "cell_type": "markdown",
   "metadata": {
    "colab_type": "text",
    "id": "jB-2AC8boOE9"
   },
   "source": [
    "## 1 Combining Data with Pandas"
   ]
  },
  {
   "cell_type": "markdown",
   "metadata": {
    "colab_type": "text",
    "id": "e63THNZXpnvW"
   },
   "source": [
    "### 1.1 Introduction"
   ]
  },
  {
   "cell_type": "markdown",
   "metadata": {
    "colab_type": "text",
    "id": "87BmfzvGppzS"
   },
   "source": [
    "In the last lesson, we worked with just one data set, the 2015 World Happiness Report, to explore **data aggregation**. However, it's very common in practice to **work with more than one data set at a time**.\n",
    "\n",
    "Often, you'll find that you need additional data to perform analysis or you'll find that you have the data, but need to pull it from mulitiple sources. In this lesson, we'll learn a couple of different techniques for combining data using pandas to easily handle situations like these.\n",
    "\n",
    "We'll use what we learned in the last lesson to analyze the **2015**, **2016**, and **2017 World Happiness Reports**. Specifically, we'll look to answer the following question:\n",
    "\n",
    "- Did world happiness increase, decrease, or stay about the same from 2015 to 2017?\n",
    "\n",
    "As a reminder, these reports assign each country a happiness score based on a poll question that asks respondents to rank their life on a scale of 0 - 10, so \"world happiness\" refers to this definition specifically.\n",
    "\n",
    "Below is a preview of the 2015 report:\n",
    "\n",
    "\n",
    "| | Country | Region | Happiness Rank | Happiness Score | Standard Error | Economy (GDP per Capita) | Family | \n",
    "|---------|-------------|----------------|-----------------|----------------|--------------------------|---------|--------------------------|\n",
    "| 0 | Switzerland | Western Europe | 1 | 7.587 | 0.03411 | 1.39651 | 1.34951 |\n",
    "| 1 | Iceland | Western Europe | 2 | 7.561 | 0.04884 | 1.30232 | 1.40223 |\n",
    "| 2 | Denmark | Western Europe | 3 | 7.527 | 0.03328 | 1.32548 | 1.36058 |\n",
    "| 3 | Norway | Western Europe | 4 | 7.522 | 0.03880 | 1.45900 | 1.33095 |\n",
    "| 4 | Canada | North America | 5 | 7.427 | 0.03553 | 1.32629 | 1.32261 |\n",
    "\n",
    "Below are descriptions for some of the columns:\n",
    "\n",
    "- **Country** - Name of the country\n",
    "- **Region** - Name of the region the country belongs to\n",
    "- **Happiness Rank** - The rank of the country, as determined by its happiness score\n",
    "- **Happiness Score** - A score assigned to each country based on the answers to a poll question that asks respondents to rate their happiness on a scale of 0-10\n",
    "\n",
    "Let's start by reading the **2015**, **2016**, and **2017** reports into a pandas dataframe and adding a **Year** column to each to make it easier to distinguish between them.\n",
    "\n",
    "**Exercise**\n",
    "\n",
    "<left><img width=\"100\" src=\"https://drive.google.com/uc?export=view&id=1E8tR7B9YYUXsU_rddJAyq0FrM0MSelxZ\"></left>\n",
    "\n",
    "We've already read the **World_Happiness_2015.csv** file into a dataframe called **happiness2015**.\n",
    "\n",
    "- Use the **pandas.read_csv()** function to read the **World_Happiness_2016.csv** file into a dataframe called **happiness2016** and the **World_Happiness_2017.csv** file into a dataframe called **happiness2017**.\n",
    "- Add a column called **Year** to each dataframe with the corresponding year. For example, the **Year** column in **happiness2015** should contain the value 2015 for each row."
   ]
  },
  {
   "cell_type": "code",
   "execution_count": 1,
   "metadata": {
    "colab": {},
    "colab_type": "code",
    "id": "yqpq3GLlY-EM"
   },
   "outputs": [],
   "source": [
    "import pandas as pd\n",
    "happiness2015 = pd.read_csv(\"World_Happiness_2015.csv\")\n",
    "happiness2015['Year'] = 2015\n",
    "#put your code here\n",
    "happiness2016 = pd.read_csv(\"World_Happiness_2016.csv\")\n",
    "happiness2016['Year'] = 2016\n",
    "happiness2017 = pd.read_csv(\"World_Happiness_2017.csv\")\n",
    "happiness2017['Year'] = 2017 "
   ]
  },
  {
   "cell_type": "markdown",
   "metadata": {
    "colab_type": "text",
    "id": "_lnmqqz9cMV1"
   },
   "source": [
    "### 1.2 Combining Dataframes with the Concat Function"
   ]
  },
  {
   "cell_type": "markdown",
   "metadata": {
    "colab_type": "text",
    "id": "YMqo3lWucu5C"
   },
   "source": [
    "Let's start by exploring the [pd.concat()](https://pandas.pydata.org/pandas-docs/stable/generated/pandas.concat.html) function. The **concat()** function combines dataframes one of two ways:\n",
    "\n",
    "1. Stacked: Axis = 0 (This is the default option.)\n",
    "\n",
    "<left><img width=\"300\" src=\"https://drive.google.com/uc?export=view&id=1CYdRFTWrhkt6MQC-4bo4uOjE8ZfG9jOt\"></left>\n",
    "\n",
    "2. Side by Side: Axis = 1\n",
    "\n",
    "<left><img width=\"600\" src=\"https://drive.google.com/uc?export=view&id=1D5NGhSzGARmchcnpjgcVgN7OsSU7aR7O\"></left>\n",
    "\n",
    "Since **concat** is a function, not a method, we use the syntax below:\n",
    "\n",
    "<left><img width=\"500\" src=\"https://drive.google.com/uc?export=view&id=1e-j71SCj4Ri8EP6QGDnko6w1XFqhKLGX\"></left>\n",
    "\n",
    "In the next exercise, we'll use the **concat()** function to combine subsets of **happiness2015** and **happiness2016** and then debrief the results on the following section.\n",
    "\n",
    "Below are the subsets we'll be working with:\n"
   ]
  },
  {
   "cell_type": "code",
   "execution_count": 3,
   "metadata": {
    "colab": {
     "base_uri": "https://localhost:8080/",
     "height": 138
    },
    "colab_type": "code",
    "id": "Syes__dOd1fY",
    "outputId": "45903f7b-f2c4-480f-92a4-d3c38baa75ed"
   },
   "outputs": [
    {
     "data": {
      "text/html": [
       "<div>\n",
       "<style scoped>\n",
       "    .dataframe tbody tr th:only-of-type {\n",
       "        vertical-align: middle;\n",
       "    }\n",
       "\n",
       "    .dataframe tbody tr th {\n",
       "        vertical-align: top;\n",
       "    }\n",
       "\n",
       "    .dataframe thead th {\n",
       "        text-align: right;\n",
       "    }\n",
       "</style>\n",
       "<table border=\"1\" class=\"dataframe\">\n",
       "  <thead>\n",
       "    <tr style=\"text-align: right;\">\n",
       "      <th></th>\n",
       "      <th>Country</th>\n",
       "      <th>Happiness Score</th>\n",
       "      <th>Year</th>\n",
       "    </tr>\n",
       "  </thead>\n",
       "  <tbody>\n",
       "    <tr>\n",
       "      <th>0</th>\n",
       "      <td>Switzerland</td>\n",
       "      <td>7.587</td>\n",
       "      <td>2015</td>\n",
       "    </tr>\n",
       "    <tr>\n",
       "      <th>1</th>\n",
       "      <td>Iceland</td>\n",
       "      <td>7.561</td>\n",
       "      <td>2015</td>\n",
       "    </tr>\n",
       "    <tr>\n",
       "      <th>2</th>\n",
       "      <td>Denmark</td>\n",
       "      <td>7.527</td>\n",
       "      <td>2015</td>\n",
       "    </tr>\n",
       "  </tbody>\n",
       "</table>\n",
       "</div>"
      ],
      "text/plain": [
       "       Country  Happiness Score  Year\n",
       "0  Switzerland            7.587  2015\n",
       "1      Iceland            7.561  2015\n",
       "2      Denmark            7.527  2015"
      ]
     },
     "execution_count": 3,
     "metadata": {},
     "output_type": "execute_result"
    }
   ],
   "source": [
    "head_2015 = happiness2015[['Country',\n",
    "                           'Happiness Score', \n",
    "                           'Year']].head(3)\n",
    "head_2015"
   ]
  },
  {
   "cell_type": "code",
   "execution_count": 4,
   "metadata": {
    "colab": {
     "base_uri": "https://localhost:8080/",
     "height": 138
    },
    "colab_type": "code",
    "id": "lYP7msSNfqoH",
    "outputId": "a4872af2-4c01-4106-a7a6-24693dece7e7"
   },
   "outputs": [
    {
     "data": {
      "text/html": [
       "<div>\n",
       "<style scoped>\n",
       "    .dataframe tbody tr th:only-of-type {\n",
       "        vertical-align: middle;\n",
       "    }\n",
       "\n",
       "    .dataframe tbody tr th {\n",
       "        vertical-align: top;\n",
       "    }\n",
       "\n",
       "    .dataframe thead th {\n",
       "        text-align: right;\n",
       "    }\n",
       "</style>\n",
       "<table border=\"1\" class=\"dataframe\">\n",
       "  <thead>\n",
       "    <tr style=\"text-align: right;\">\n",
       "      <th></th>\n",
       "      <th>Country</th>\n",
       "      <th>Happiness Score</th>\n",
       "      <th>Year</th>\n",
       "    </tr>\n",
       "  </thead>\n",
       "  <tbody>\n",
       "    <tr>\n",
       "      <th>0</th>\n",
       "      <td>Denmark</td>\n",
       "      <td>7.526</td>\n",
       "      <td>2016</td>\n",
       "    </tr>\n",
       "    <tr>\n",
       "      <th>1</th>\n",
       "      <td>Switzerland</td>\n",
       "      <td>7.509</td>\n",
       "      <td>2016</td>\n",
       "    </tr>\n",
       "    <tr>\n",
       "      <th>2</th>\n",
       "      <td>Iceland</td>\n",
       "      <td>7.501</td>\n",
       "      <td>2016</td>\n",
       "    </tr>\n",
       "  </tbody>\n",
       "</table>\n",
       "</div>"
      ],
      "text/plain": [
       "       Country  Happiness Score  Year\n",
       "0      Denmark            7.526  2016\n",
       "1  Switzerland            7.509  2016\n",
       "2      Iceland            7.501  2016"
      ]
     },
     "execution_count": 4,
     "metadata": {},
     "output_type": "execute_result"
    }
   ],
   "source": [
    "head_2016 = happiness2016[['Country',\n",
    "                           'Happiness Score', \n",
    "                           'Year']].head(3)\n",
    "head_2016"
   ]
  },
  {
   "cell_type": "markdown",
   "metadata": {
    "colab_type": "text",
    "id": "CIhwMxnOfzz9"
   },
   "source": [
    "Let's use the **concat()** function to combine **head_2015** and **head_2016** next.\n",
    "\n",
    "**Exercise**\n",
    "\n",
    "<left><img width=\"100\" src=\"https://drive.google.com/uc?export=view&id=1E8tR7B9YYUXsU_rddJAyq0FrM0MSelxZ\"></left>\n",
    "\n",
    "We've already saved the subsets from **happiness2015** and **happiness2016** to the variables **head_2015** and **head_2016**.\n",
    "\n",
    "- Use the **pd.concat()** function to combine **head_2015** and **head_2016** along **axis = 0**. Remember to pass the **head_2015** and **head_2016** into the function as a list. Assign the result to **concat_axis0**.\n",
    "- Use the **pd.concat()** function to combine **head_2015** and **head_2016** along **axis = 1**. Remember to pass **head_2015** and **head_2016** into the function as a list and set the **axis** parameter equal to 1. Assign the result to **concat_axis1**.\n",
    "- Assign the number of rows in **concat_axis0** to a variable called **question1**.\n",
    "- Assign the number of rows in **concat_axis1** to a variable called **question2**.\n"
   ]
  },
  {
   "cell_type": "code",
   "execution_count": 5,
   "metadata": {
    "colab": {},
    "colab_type": "code",
    "id": "VyqXK6mKgIy2"
   },
   "outputs": [
    {
     "data": {
      "text/html": [
       "<div>\n",
       "<style scoped>\n",
       "    .dataframe tbody tr th:only-of-type {\n",
       "        vertical-align: middle;\n",
       "    }\n",
       "\n",
       "    .dataframe tbody tr th {\n",
       "        vertical-align: top;\n",
       "    }\n",
       "\n",
       "    .dataframe thead th {\n",
       "        text-align: right;\n",
       "    }\n",
       "</style>\n",
       "<table border=\"1\" class=\"dataframe\">\n",
       "  <thead>\n",
       "    <tr style=\"text-align: right;\">\n",
       "      <th></th>\n",
       "      <th>Country</th>\n",
       "      <th>Happiness Score</th>\n",
       "      <th>Year</th>\n",
       "      <th>Country</th>\n",
       "      <th>Happiness Score</th>\n",
       "      <th>Year</th>\n",
       "    </tr>\n",
       "  </thead>\n",
       "  <tbody>\n",
       "    <tr>\n",
       "      <th>0</th>\n",
       "      <td>Switzerland</td>\n",
       "      <td>7.587</td>\n",
       "      <td>2015</td>\n",
       "      <td>Denmark</td>\n",
       "      <td>7.526</td>\n",
       "      <td>2016</td>\n",
       "    </tr>\n",
       "    <tr>\n",
       "      <th>1</th>\n",
       "      <td>Iceland</td>\n",
       "      <td>7.561</td>\n",
       "      <td>2015</td>\n",
       "      <td>Switzerland</td>\n",
       "      <td>7.509</td>\n",
       "      <td>2016</td>\n",
       "    </tr>\n",
       "    <tr>\n",
       "      <th>2</th>\n",
       "      <td>Denmark</td>\n",
       "      <td>7.527</td>\n",
       "      <td>2015</td>\n",
       "      <td>Iceland</td>\n",
       "      <td>7.501</td>\n",
       "      <td>2016</td>\n",
       "    </tr>\n",
       "  </tbody>\n",
       "</table>\n",
       "</div>"
      ],
      "text/plain": [
       "       Country  Happiness Score  Year      Country  Happiness Score  Year\n",
       "0  Switzerland            7.587  2015      Denmark            7.526  2016\n",
       "1      Iceland            7.561  2015  Switzerland            7.509  2016\n",
       "2      Denmark            7.527  2015      Iceland            7.501  2016"
      ]
     },
     "execution_count": 5,
     "metadata": {},
     "output_type": "execute_result"
    }
   ],
   "source": [
    "# put your code here\n",
    "question1 = pd.concat([head_2015,head_2016], axis = 0)\n",
    "question2 = pd.concat([head_2015,head_2016], axis = 1)\n",
    "question1\n",
    "question2"
   ]
  },
  {
   "cell_type": "markdown",
   "metadata": {
    "colab_type": "text",
    "id": "Y4EyM1iSh8QO"
   },
   "source": [
    "### 1.3 Combining Dataframes with the Concat Function Continued"
   ]
  },
  {
   "cell_type": "markdown",
   "metadata": {
    "colab_type": "text",
    "id": "hwZD2nJFicfY"
   },
   "source": [
    "When you reviewed the results from the last exercise, you probably noticed that we merely pushed the dataframes together vertically or horizontally - none of the values, column names, or indexes changed. For this reason, when you use the **concat()** function to combine dataframes with the same shape and index, you can think of the function as \"gluing\" dataframes together.\n",
    "\n",
    "<left><img width=\"500\" src=\"https://drive.google.com/uc?export=view&id=1XJOhkxKMokGHw7HMeSzOYxVJ8-bQiL-Z\"></left>\n",
    "\n",
    "\n",
    "However, what happens if the dataframes have different shapes or columns? Let's confirm the **concat()** function's behavior when we combine dataframes that don't have the same shape in the next exercise.\n",
    "\n",
    "We'll work with the following subsets:"
   ]
  },
  {
   "cell_type": "code",
   "execution_count": null,
   "metadata": {
    "colab": {
     "base_uri": "https://localhost:8080/",
     "height": 168
    },
    "colab_type": "code",
    "id": "wdvKGRYTjyRq",
    "outputId": "72a29a47-8cae-41dc-ceb5-0477667c0997"
   },
   "outputs": [],
   "source": [
    "head_2015 = happiness2015[['Year','Country','Happiness Score', 'Standard Error']].head(4)\n",
    "head_2015"
   ]
  },
  {
   "cell_type": "code",
   "execution_count": null,
   "metadata": {
    "colab": {
     "base_uri": "https://localhost:8080/",
     "height": 138
    },
    "colab_type": "code",
    "id": "arkagdwAkXUx",
    "outputId": "20e38ff7-e51e-424f-d129-797d19d0a7e8"
   },
   "outputs": [],
   "source": [
    "head_2016 = happiness2016[['Country','Happiness Score', 'Year']].head(3)\n",
    "head_2016"
   ]
  },
  {
   "cell_type": "markdown",
   "metadata": {
    "colab_type": "text",
    "id": "vaiCDVNikbm_"
   },
   "source": [
    "Notice in the subsets above that **head_2015** contains one column that **head_2016** does not - the **Standard Error** column. Let's confirm what happens when we concatenate them next.\n",
    "\n",
    "**Exercise**\n",
    "\n",
    "<left><img width=\"100\" src=\"https://drive.google.com/uc?export=view&id=1E8tR7B9YYUXsU_rddJAyq0FrM0MSelxZ\"></left>\n",
    "\n",
    "We've already created the **head_2015** and **head_2016** variables.\n",
    "\n",
    "- Use the **pd.concat()** function to combine **head_2015** and **head_2016** along **axis = 0**. Remember to pass the **head_2015** and **head_2016** into the function as a list. Assign the result to **concat_axis0**.\n"
   ]
  },
  {
   "cell_type": "code",
   "execution_count": null,
   "metadata": {
    "colab": {},
    "colab_type": "code",
    "id": "HYloolBqko0Z"
   },
   "outputs": [],
   "source": [
    "# put your code here\n",
    "concat_axis0 = pd.concat([head_2015,head_2016], axis = 0, sort = True)\n",
    "concat_axis0"
   ]
  },
  {
   "cell_type": "markdown",
   "metadata": {
    "colab_type": "text",
    "id": "4_uxAGkRlbhX"
   },
   "source": [
    "### 1.4 Combining Dataframes with Different Shapes Using the Concat Function"
   ]
  },
  {
   "cell_type": "markdown",
   "metadata": {
    "colab_type": "text",
    "id": "BM2BQfLdnAki"
   },
   "source": [
    "In the last exercise, we saw that the analogy of \"gluing\" dataframes together doesn't fully describe what happens when concatenating dataframes of different shapes. Instead, the function combined the data according to the corresponding column names:\n",
    "\n",
    "<left><img width=\"700\" src=\"https://drive.google.com/uc?export=view&id=19gyEqPO137B0vkALZfcQ4jDKHY504bF1\"></left>\n",
    "\n",
    "\n",
    "Note that because the **Standard Error** column didn't exist in **head_2016**, **NaN** values were created to signify those values are missing. By default, the **concat** function will keep ALL of the data, no matter if missing values are created.\n",
    "\n",
    "Also, notice again the indexes of the original dataframes didn't change. If the indexes aren't meaningful, it can be better to reset them. This is especially true when we create duplicate indexes, because they could cause errors as we perform other data cleaning tasks.\n",
    "\n",
    "Luckily, the **concat** function has a parameter, **ignore_index**, that can be used to clear the existing **index** and **reset** it in the result. Let's practice using it next.\n",
    "\n",
    "**Exercise**\n",
    "\n",
    "<left><img width=\"100\" src=\"https://drive.google.com/uc?export=view&id=1E8tR7B9YYUXsU_rddJAyq0FrM0MSelxZ\"></left>\n",
    "\n",
    "- Use the **pd.concat()** function to combine **head_2015** and **head_2016** along **axis = 0** again. This time, however, set the **ignore_index** parameter to **True** to reset the index in the result. Assign the result to **concat_update_index**."
   ]
  },
  {
   "cell_type": "code",
   "execution_count": null,
   "metadata": {
    "colab": {},
    "colab_type": "code",
    "id": "qOdKTAo4nHE5"
   },
   "outputs": [],
   "source": [
    "# put your code here\n",
    "concat_update_index = pd.concat([head_2015,head_2016], axis = 0 , ignore_index = True, sort= True)\n",
    "concat_update_index"
   ]
  },
  {
   "cell_type": "markdown",
   "metadata": {
    "colab_type": "text",
    "id": "d6lgxrHooTe8"
   },
   "source": [
    "### 1.5 Joining Dataframes with the Merge Function"
   ]
  },
  {
   "cell_type": "markdown",
   "metadata": {
    "colab_type": "text",
    "id": "G0hSnGrN8-Dk"
   },
   "source": [
    "Next, we'll explore the [pd.merge() function](https://pandas.pydata.org/pandas-docs/stable/generated/pandas.DataFrame.merge.html) - a function that can execute high performance database-style joins. Note that unlike the **concat** function, the **merge** function only combines dataframes horizontally (axis=1) and **can only combine two dataframes at a time**. However, it can be valuable when we need to combine very large dataframes quickly and provides more flexibility in terms of how data can be combined, as we'll see in the next couple sections.\n",
    "\n",
    "With the **merge()** function, we'll combine dataframes on a **key**, a **shared index** or **column**. When choosing a key, it's good practice to use keys with unique values to avoid duplicating data.\n",
    "\n",
    "You can think of keys as creating a link from one dataframe to another using the common values or indexes. For example, in the diagram below, we linked the dataframes using common values in the Country columns.\n",
    "\n",
    "<left><img width=\"400\" src=\"https://drive.google.com/uc?export=view&id=1ZBKNem91tjiV0XzcJSQGUgfm90ihmCMr\"></left>\n",
    "\n",
    "In the diagram below, we use those common country values to join or merge the dataframes.\n",
    "\n",
    "<left><img width=\"700\" src=\"https://drive.google.com/uc?export=view&id=1t5ioaNiXdnkWKGwVh3cpFbJLKCqTLoU7\"></left>\n",
    "\n",
    "\n",
    "We'll explore the merge function in the next exercise using just three rows from **happiness2015** and **happiness2016**:"
   ]
  },
  {
   "cell_type": "code",
   "execution_count": null,
   "metadata": {
    "colab": {
     "base_uri": "https://localhost:8080/",
     "height": 138
    },
    "colab_type": "code",
    "id": "F2IkgdNbBGm8",
    "outputId": "9e2b4c96-e231-417b-ffcc-adb15304a1b0"
   },
   "outputs": [],
   "source": [
    "three_2015 = happiness2015[['Country','Happiness Rank','Year']].iloc[2:5]\n",
    "three_2015"
   ]
  },
  {
   "cell_type": "code",
   "execution_count": null,
   "metadata": {
    "colab": {
     "base_uri": "https://localhost:8080/",
     "height": 138
    },
    "colab_type": "code",
    "id": "CtxxVa9YCHuM",
    "outputId": "dc59e83f-0046-4530-f777-9513951a6522"
   },
   "outputs": [],
   "source": [
    "three_2016 = happiness2016[['Country','Happiness Rank','Year']].iloc[2:5]\n",
    "three_2016"
   ]
  },
  {
   "cell_type": "markdown",
   "metadata": {
    "colab_type": "text",
    "id": "5YuuZILJCNnL"
   },
   "source": [
    "We'll use the following syntax:\n",
    "\n",
    "<left><img width=\"600\" src=\"https://drive.google.com/uc?export=view&id=1mApwE1qMRnbUmBSa7D5jf93XuTbmQDB3\"></left>\n",
    "\n",
    "**Exercise**\n",
    "\n",
    "<left><img width=\"100\" src=\"https://drive.google.com/uc?export=view&id=1E8tR7B9YYUXsU_rddJAyq0FrM0MSelxZ\"></left>\n",
    "\n",
    "\n",
    "We've already saved three rows from **happiness2015** and **happiness2016** to variables named **three_2015** and **three_2016**.\n",
    "\n",
    "- Use the **pd.merge()** function to join **three_2015** and **three_2016** on the **Country** column. Assign the result to **merged**.\n"
   ]
  },
  {
   "cell_type": "code",
   "execution_count": null,
   "metadata": {
    "colab": {},
    "colab_type": "code",
    "id": "muHih_D5Cm3a"
   },
   "outputs": [],
   "source": [
    "# put your code here\n",
    "merged = pd.merge(left = three_2015, right = three_2016, on = 'Country')\n",
    "merged"
   ]
  },
  {
   "cell_type": "markdown",
   "metadata": {
    "colab_type": "text",
    "id": "fJCSkgUHDV94"
   },
   "source": [
    "### 1.6 Joining on Columns with the Merge Function"
   ]
  },
  {
   "cell_type": "markdown",
   "metadata": {
    "colab_type": "text",
    "id": "G9UwPEeKDlof"
   },
   "source": [
    "Joining three_2015 and three_2016 in the last exercise resulted in a dataframe with just one row.\n",
    "\n",
    "Let's look back to **three_2015** and **three_2016** to understand why. Since we joined the dataframes on the **Country** column, or used it as the **key**, the **merge()** function looked to match elements in the **Country** column in **BOTH** dataframes.\n",
    "\n",
    "<left><img width=\"600\" src=\"https://drive.google.com/uc?export=view&id=1z300DyQ7dUwHNlnz--gfcCh7x6rkGunL\"></left>\n",
    "\n",
    "\n",
    "The one country returned in **merged** was **\"Norway\"**, the only element that appeared in the **Country** column in **BOTH** **three_2015** and **three_2016**.\n",
    "\n",
    "This way of combining, or joining, data is called an **inner join**. An **inner join returns only the intersection of the keys**, or the elements that appear in both dataframes with a common key.\n",
    "\n",
    "The term **\"join\"** originates from **SQL** (or structured query language), a language used to work with databases. If you're a SQL user, you'll recognize the following concepts. If you've never used SQL, don't worry! No prior knowledge is neccessary for this lesson.\n",
    "\n",
    "There are actually four different types of joins:\n",
    "\n",
    "- **Inner**: only includes elements that appear in both dataframes with a common key\n",
    "- **Outer**: includes all data from both dataframes\n",
    "- **Left**: includes all of the rows from the \"left\" dataframe along with any rows from the \"right\" dataframe with a common key; the result retains all columns from both of the original dataframes\n",
    "- **Right**: includes all of the rows from the \"right\" dataframe along with any rows from the \"left\" dataframe with a common key; the result retains all columns from both of the original dataframes\n",
    "\n",
    "If the definition for outer joins sounds familiar, it's because we've already seen examples of outer joins! Recall that when we combined data using the **concat** function, it kept all of the data from all dataframes, no matter if missing values were created.\n",
    "\n",
    "Since it's much more common to use **inner** and **left joins** for database-style joins, we'll focus on these join types for the remainder of the lesson, but encourage you to explore the other options on your own.\n",
    "\n",
    "Let's experiment with changing the join type next.\n",
    "\n",
    "**Exercise**\n",
    "\n",
    "<left><img width=\"100\" src=\"https://drive.google.com/uc?export=view&id=1E8tR7B9YYUXsU_rddJAyq0FrM0MSelxZ\"></left>\n",
    "\n",
    "\n",
    "- Update **merged** to use a **left join** instead of an **inner join**. Set the **how** parameter to **'left'** in **merge()**. Assign the result to **merged_left**.\n",
    "- Update **merged_left** so that the **left** parameter equals **three_2016** and the **right** parameter equals **three_2015**. Assign the result to **merged_left_updated**.\n",
    "- Based on the results of this exercise, when using a **left join**, does changing the dataframe assigned to the left and right parameters change the result? Try to answer this question before moving onto the next section"
   ]
  },
  {
   "cell_type": "code",
   "execution_count": null,
   "metadata": {
    "colab": {},
    "colab_type": "code",
    "id": "boGqEt4lEGvW"
   },
   "outputs": [],
   "source": [
    "three_2015 = happiness2015[['Country','Happiness Rank','Year']].iloc[2:5]\n",
    "three_2016 = happiness2016[['Country','Happiness Rank','Year']].iloc[2:5]\n",
    "merged = pd.merge(left=three_2015, right=three_2016, on='Country')\n",
    "\n",
    "#put your code here\n",
    "merged_left = pd.merge(left=three_2015, right=three_2016,how ='left', on='Country')\n",
    "merged_left\n",
    "merged_left_updated = pd.merge(left=three_2016, right=three_2015,how ='left', on='Country')\n",
    "merged_left_updated"
   ]
  },
  {
   "cell_type": "markdown",
   "metadata": {
    "colab_type": "text",
    "id": "1HzDC-unGs_n"
   },
   "source": [
    "### 1.7 Left Joins with the Merge Function"
   ]
  },
  {
   "cell_type": "markdown",
   "metadata": {
    "colab_type": "text",
    "id": "8a2BYW1gHDEG"
   },
   "source": [
    "Let's summarize what we learned in the last exercise:\n",
    "\n",
    "- Changing the join type from an **inner join** to a **left join** resulted in a dataframe with more rows and created **NaNs**.\n",
    "- When using a **left join**, interchanging the dataframes assigned to the left and right parameters changes the results.\n",
    "\n",
    "Let's look into the results in more detail. First, let's look at the case in which the \"left\" dataframe is **three_2015** and the \"right\" dataframe is **three_2016**:"
   ]
  },
  {
   "cell_type": "code",
   "execution_count": null,
   "metadata": {
    "colab": {
     "base_uri": "https://localhost:8080/",
     "height": 138
    },
    "colab_type": "code",
    "id": "VPzrpBe2H_Ua",
    "outputId": "35f97913-e7a7-4765-a613-b5214929719c"
   },
   "outputs": [],
   "source": [
    "pd.merge(left=three_2015, right=three_2016, how='left', on='Country')"
   ]
  },
  {
   "cell_type": "markdown",
   "metadata": {
    "colab_type": "text",
    "id": "hqU2X9bUIRX0"
   },
   "source": [
    "Recall that a left join includes all of the rows from the \"left\" dataframe along with any rows from the \"right\" dataframe with a common key.\n",
    "\n",
    "<left><img width=\"700\" src=\"https://drive.google.com/uc?export=view&id=1IGRy--ZJcljf0th7y9VK7HNN5M-q9Oq3\"></left>\n",
    "\n",
    "\n",
    "Since the **Country** column was used as the key, only countries that appear in **BOTH** dataframes have a value in every column. **\"Norway\"** was the only value in the **Country** column in **BOTH** dataframes, so it's the only row with a value in every column.\n",
    "\n",
    "When we interchanged the \"left\" and the \"right\" dataframes, the values changed:\n",
    "\n",
    "\n"
   ]
  },
  {
   "cell_type": "code",
   "execution_count": null,
   "metadata": {
    "colab": {
     "base_uri": "https://localhost:8080/",
     "height": 138
    },
    "colab_type": "code",
    "id": "eYmuo9fYIm8J",
    "outputId": "b763550a-82f4-441d-c899-0d74c351a187"
   },
   "outputs": [],
   "source": [
    "pd.merge(left=three_2016, right=three_2015, how='left', on='Country')"
   ]
  },
  {
   "cell_type": "markdown",
   "metadata": {
    "colab_type": "text",
    "id": "x5KONr__JCPh"
   },
   "source": [
    "This time, we kept all of the rows from **three_2016**. **\"Norway\"** was still the only value in the **Country** column in **BOTH** dataframes, so it's the only row with a value in every column.\n",
    "\n",
    "<left><img width=\"700\" src=\"https://drive.google.com/uc?export=view&id=1tG4WWHIM1Fc41R2-CJrG8IBlBam2lGh0\"></left>\n",
    "\n",
    "In summary, we'd use a **left join** when we don't want to drop any data from the left dataframe.\n",
    "\n",
    "Note that a **right join** works the same as a **left join**, except it includes all of the rows from the \"right\" dataframe. Since it's far more common in practice to use a left join, we won't cover right joins in detail.\n",
    "\n",
    "You may have also noticed above that the merge function added a suffix of either **_x** or **_y** to columns of the same name to distinguish between them.\n",
    "\n",
    "Let's update those suffixes next to make our results easier to read.\n",
    "\n",
    "**Exercise**\n",
    "\n",
    "<left><img width=\"100\" src=\"https://drive.google.com/uc?export=view&id=1E8tR7B9YYUXsU_rddJAyq0FrM0MSelxZ\"></left>\n",
    "\n",
    "- Update **merged** to use the suffixes **_2015** and **_2016**. Set the **suffixes** parameter to **('_2015', '_2016')** in **merge()**. Assign the result to **merged_suffixes**.\n",
    "- Update **merged_updated** to use the suffixes **_2015** and **_2016**. Notice that the \"left\" dataframe is **three_2016** and the \"right\" dataframe is **three_2015**. Assign the result to **merged_updated_suffixes**."
   ]
  },
  {
   "cell_type": "code",
   "execution_count": null,
   "metadata": {
    "colab": {},
    "colab_type": "code",
    "id": "dQ2v6_CUJNaS"
   },
   "outputs": [],
   "source": [
    "three_2015 = happiness2015[['Country','Happiness Rank','Year']].iloc[2:5]\n",
    "three_2016 = happiness2016[['Country','Happiness Rank','Year']].iloc[2:5]\n",
    "merged = pd.merge(left=three_2015, right=three_2016, how='left', on='Country')\n",
    "merged_updated = pd.merge(left=three_2016, right=three_2015, how = 'left', on='Country')\n",
    "# put your code here\n",
    "merged_left_updated\n",
    "marged_suffixes = pd.merge(left=three_2015, right=three_2016, how = 'left', on='Country', suffixes=['_2015','_2016'])\n",
    "marged_suffixes\n",
    "merged_updated_suffixes =  pd.merge(left=three_2016, right=three_2015, how = 'left', on='Country', suffixes=['_2016','_2015'])\n",
    "merged_updated_suffixes"
   ]
  },
  {
   "cell_type": "markdown",
   "metadata": {
    "colab_type": "text",
    "id": "v4qy3BdFK2mN"
   },
   "source": [
    "### 1.8 Join on Index with the Merge Function"
   ]
  },
  {
   "cell_type": "markdown",
   "metadata": {
    "colab_type": "text",
    "id": "zf6lezqJ75ma"
   },
   "source": [
    "Now that we have a good understanding of how to join dataframes on specific columns, let's look at another way to join dataframes - **on the index**.\n",
    "\n",
    "<left><img width=\"200\" src=\"https://drive.google.com/uc?export=view&id=1qFNgVIytv1vkBGr0QTMyDPIqm4aG8JCQ\"></left>\n",
    "\n",
    "\n",
    "In this section, we'll work with the following two subsets of **happiness2015** and **happiness2016**:\n",
    "\n"
   ]
  },
  {
   "cell_type": "code",
   "execution_count": null,
   "metadata": {
    "colab": {
     "base_uri": "https://localhost:8080/",
     "height": 168
    },
    "colab_type": "code",
    "id": "rYs6RIl_8e4e",
    "outputId": "04ba993b-d2a5-421c-9f71-475e25d97eaa"
   },
   "outputs": [],
   "source": [
    "four_2015 = happiness2015[['Country','Happiness Rank','Year']].iloc[2:6]\n",
    "four_2015"
   ]
  },
  {
   "cell_type": "code",
   "execution_count": null,
   "metadata": {
    "colab": {
     "base_uri": "https://localhost:8080/",
     "height": 138
    },
    "colab_type": "code",
    "id": "_RYAI7xv8Uz0",
    "outputId": "7ae7ca96-ab5a-4976-87bb-0ea45a69d1cf"
   },
   "outputs": [],
   "source": [
    "three_2016 = happiness2016[['Country','Happiness Rank','Year']].iloc[2:5]\n",
    "three_2016"
   ]
  },
  {
   "cell_type": "markdown",
   "metadata": {
    "colab_type": "text",
    "id": "Qhood53K8nWF"
   },
   "source": [
    "We'll join **happiness2015** and **happiness2016** **on index** using an **inner join**, so that the result contains only the elements in the key that appear in BOTH dataframes. First, though, let's make a prediction. How many rows and columns do you think the result will have? Write down your answer before you continue reading.\n",
    "\n",
    "To join on the index, we'll set the **left_index** and **right_index** parameters to **True**:"
   ]
  },
  {
   "cell_type": "code",
   "execution_count": null,
   "metadata": {
    "colab": {
     "base_uri": "https://localhost:8080/",
     "height": 138
    },
    "colab_type": "code",
    "id": "F9AhwbdJ9Cnv",
    "outputId": "ebf9ac20-623c-4b00-97ca-62dfe4b28bc8"
   },
   "outputs": [],
   "source": [
    "pd.merge(left=four_2015, right=three_2016, left_index=True, right_index=True, suffixes=('_2015','_2016'))"
   ]
  },
  {
   "cell_type": "markdown",
   "metadata": {
    "colab_type": "text",
    "id": "uEP9npo59HDQ"
   },
   "source": [
    "Was your prediction correct? Based on our experience with joining on columns, you may have predicted the output would have just two rows, since only \"Finland\" and \"Norway\" appear in both dataframes. When we join on index, however, our result will contain only common indexes.\n",
    "\n",
    "<left><img width=\"400\" src=\"https://drive.google.com/uc?export=view&id=1DPEg-1Y2fVWZLAh_axHVJN6bjPWBV2tS\"></left>\n",
    "\n",
    "Let's explore what happens when we join on index with a left join instead.\n",
    "\n",
    "**Exercise**\n",
    "\n",
    "<left><img width=\"100\" src=\"https://drive.google.com/uc?export=view&id=1E8tR7B9YYUXsU_rddJAyq0FrM0MSelxZ\"></left>\n",
    "\n",
    "\n",
    "We've already saved **four_2015** and **three_2016**. In this exercise, we'll use a **left join** to combine **four_2015** and **three_2016**.\n",
    "\n",
    "- Predict the number of rows and columns the resulting dataframe will have. Assign the number of rows to a variable called **rows** and the number of columns to a variable called **columns**.\n",
    "- To change the join type used in **merge_index** to a left join, set the **how** parameter equal to 'left'. Save the result to **merge_index_left**.\n",
    "- Update **rows** and **columns** so that each contains the correct number of rows and columns in **merge_index_left**."
   ]
  },
  {
   "cell_type": "code",
   "execution_count": null,
   "metadata": {
    "colab": {},
    "colab_type": "code",
    "id": "o4dgCqDx9S_J"
   },
   "outputs": [],
   "source": [
    "import pandas as pd\n",
    "four_2015 = happiness2015[['Country','Happiness Rank','Year']].iloc[2:6]\n",
    "three_2016 = happiness2016[['Country','Happiness Rank','Year']].iloc[2:5]\n",
    "merge_index = pd.merge(left = four_2015,\n",
    "                       right = three_2016, \n",
    "                       left_index = True, \n",
    "                       right_index = True, \n",
    "                       suffixes = ('_2015','_2016'))\n",
    "# put your code here\n",
    "linhas = 7\n",
    "colunas = 6\n",
    "\n",
    "merge_index_left = pd.merge(left = four_2015,\n",
    "                       right = three_2016, \n",
    "                        how = 'left',\n",
    "                       left_index = True, \n",
    "                       right_index = True, \n",
    "                       suffixes = ('_2015','_2016'))\n",
    "# wrong in the columns I puted 4 but really 6\n",
    "linhas = 7\n",
    "colunas = 4\n",
    "\n",
    "merge_index"
   ]
  },
  {
   "cell_type": "markdown",
   "metadata": {
    "colab_type": "text",
    "id": "ZR_rtCv8-3aM"
   },
   "source": [
    "### 1.9 Challenge: Combine Data and Create a Visualization"
   ]
  },
  {
   "cell_type": "markdown",
   "metadata": {
    "colab_type": "text",
    "id": "fQpNIZjd_RNK"
   },
   "source": [
    "Let's summarize what we learned in this mission:\n",
    "\n",
    "<left><img width=\"600\" src=\"https://drive.google.com/uc?export=view&id=1DTt7S1NSRCbIC1NMepRWsw-hyz0YjVRG\"></left>\n",
    "\n",
    "\n",
    "You may still be wondering about when to use each of the functions and methods we've learned. This table can help you understand the limitations of each, but that decision will mostly depend on the problem you're trying to solve.\n",
    "\n",
    "Let's review our original question next:\n",
    "\n",
    "- **Did world happiness increase, decrease, or stay about the same from 2015 to 2017**?\n",
    "\n",
    "To answer this question, we'll create a bar plot in which each bar represented the mean happiness score for one of the years. We completed a similar task in the last lesson when we calculated the mean happiness score for each region using the **df.pivot_table()** method:"
   ]
  },
  {
   "cell_type": "code",
   "execution_count": null,
   "metadata": {
    "colab": {
     "base_uri": "https://localhost:8080/",
     "height": 378
    },
    "colab_type": "code",
    "id": "Z1uGC5ZqBbHP",
    "outputId": "fd564e32-bb1b-485e-ce09-4a519f32682c"
   },
   "outputs": [],
   "source": [
    "import numpy as np\n",
    "#Use a pivot table to aggregate the data according to Region.\n",
    "means = happiness2015.pivot_table('Happiness Score', 'Region', aggfunc=np.mean)\n",
    "means"
   ]
  },
  {
   "cell_type": "markdown",
   "metadata": {
    "colab_type": "text",
    "id": "-CFhYiCqC7fg"
   },
   "source": [
    "Then, we plotted the results with the **df.plot()** method."
   ]
  },
  {
   "cell_type": "code",
   "execution_count": null,
   "metadata": {
    "colab": {
     "base_uri": "https://localhost:8080/",
     "height": 380
    },
    "colab_type": "code",
    "id": "fCPmNn0CDDZt",
    "outputId": "05b0fc89-f6d0-4721-ed6f-628505ef6ecf"
   },
   "outputs": [],
   "source": [
    "#Use the `df.plot()` method to plot the results.\n",
    "means.plot(kind='barh', \n",
    "           title='Mean Happiness Scores by Region', \n",
    "           xlim=(0,10))"
   ]
  },
  {
   "cell_type": "markdown",
   "metadata": {
    "colab_type": "text",
    "id": "FrT0PQgYDJdJ"
   },
   "source": [
    "Let's repeat the same steps, but this time, we'll group the data by the **Year** column. First, let's rename the **Happiness.Score** column so it matches the colum name in **happiness2015** and **happiness2016**:"
   ]
  },
  {
   "cell_type": "code",
   "execution_count": null,
   "metadata": {
    "colab": {},
    "colab_type": "code",
    "id": "ZlXi6o1tDayW"
   },
   "outputs": [],
   "source": [
    "happiness2017.rename(columns={'Happiness.Score': 'Happiness Score'}, inplace=True)"
   ]
  },
  {
   "cell_type": "markdown",
   "metadata": {
    "colab_type": "text",
    "id": "_Slm1YUSDfAr"
   },
   "source": [
    "Next, we need to combine **happiness2015**, **happiness2016**, and **happiness2017**, so that we can group the result by the **Year** column.\n",
    "\n",
    "Let's use what we learned in this lesson to combine the dataframes.\n",
    "\n",
    "\n",
    "**Exercise**\n",
    "\n",
    "<left><img width=\"100\" src=\"https://drive.google.com/uc?export=view&id=1E8tR7B9YYUXsU_rddJAyq0FrM0MSelxZ\"></left>\n",
    "\n",
    "We've already created a **Year** column in **happiness2017** and renamed the **Happiness.Score** column to **Happiness Score**.\n",
    "\n",
    "- Use either the **pd.concat()** function or the **pd.merge()** function to combine **happiness2015**, **happiness2016**, and **happiness2017**. Assign the result to **combined**.\n",
    "  - Think about whether you need to combine the data horizontally or vertically in order to create a dataframe that can be grouped by year, and decide which function (pd.concat() or pd.merge()) you can use to combine the data.\n",
    "- Use the **df.pivot_table()** method to create a pivot table from the combined dataframe. Set **Year** as the index and **Happiness Score** as the values. Assign the result to **pivot_table_combined**.\n",
    "- Use the **df.plot()** method to create a bar chart of the results. Set the kind parameter to **barh**, the title to **'Mean Happiness Scores by Year'**, and the **xlim** parameter to **(0,10)**.\n",
    "- Try to answer the following question based on the results of this exercise: Did world happiness increase, decrease, or stay about the same from 2015 to 2017?"
   ]
  },
  {
   "cell_type": "code",
   "execution_count": 15,
   "metadata": {
    "colab": {},
    "colab_type": "code",
    "id": "1D8Po8doDton"
   },
   "outputs": [
    {
     "name": "stderr",
     "output_type": "stream",
     "text": [
      "/home/leonardo/anaconda3/lib/python3.7/site-packages/ipykernel_launcher.py:17: FutureWarning: Sorting because non-concatenation axis is not aligned. A future version\n",
      "of pandas will change to not sort by default.\n",
      "\n",
      "To accept the future behavior, pass 'sort=False'.\n",
      "\n",
      "To retain the current behavior and silence the warning, pass 'sort=True'.\n",
      "\n"
     ]
    },
    {
     "data": {
      "text/plain": [
       "['Country',\n",
       " 'Region',\n",
       " 'Happiness Rank',\n",
       " 'Happiness Score',\n",
       " 'Standard Error',\n",
       " 'Economy (GDP per Capita)',\n",
       " 'Family',\n",
       " 'Health (Life Expectancy)',\n",
       " 'Freedom',\n",
       " 'Trust (Government Corruption)',\n",
       " 'Generosity',\n",
       " 'Dystopia Residual',\n",
       " 'Year']"
      ]
     },
     "execution_count": 15,
     "metadata": {},
     "output_type": "execute_result"
    }
   ],
   "source": [
    "# put your code here\n",
    "\n",
    "cols = ['Country',\n",
    " 'Region',\n",
    " 'Happiness Rank',\n",
    " 'Happiness Score',\n",
    " 'Standard Error',\n",
    " 'Economy (GDP per Capita)',\n",
    " 'Family',\n",
    " 'Health (Life Expectancy)',\n",
    " 'Freedom',\n",
    " 'Trust (Government Corruption)',\n",
    " 'Generosity',\n",
    " 'Dystopia Residual',\n",
    " 'Year']\n",
    "\n",
    "\n",
    "\n",
    "# put your code here\n",
    "\n",
    "# laptops2 = laptops2.reindex(columns=cols)\n",
    "\n",
    "\n",
    "\n",
    "combine = pd.concat([happiness2015,happiness2017], axis = 0 )\n",
    "happiness2015.columns.tolist()\n",
    "# happiness2016 = happiness2016.drop(['Dystopia Residual'], axis=1)\n",
    "# happiness2016.info()"
   ]
  },
  {
   "cell_type": "code",
   "execution_count": null,
   "metadata": {},
   "outputs": [],
   "source": []
  },
  {
   "cell_type": "markdown",
   "metadata": {
    "colab_type": "text",
    "id": "xXQyJPJbHDqf"
   },
   "source": [
    "### 1.10 Next steps"
   ]
  },
  {
   "cell_type": "markdown",
   "metadata": {
    "colab_type": "text",
    "id": "MB540yVaHYLg"
   },
   "source": [
    "In the last exercise, we confirmed that the mean world happiness score stayed approximately the same from 2015 to 2017.\n",
    "\n",
    "In this lesson, we learned how to combine data using the **pd.concat()** and **pd.merge()** functions. In your travels with pandas, you may happen upon the **df.append()** and **df.join()** methods, which are basically shortcuts for the **concat()** and **merge()** functions. We didn't cover them in this lesson, as the differences are few, but if you want to learn more about them, check out this [documentation](https://pandas.pydata.org/pandas-docs/stable/merging.html).\n",
    "\n",
    "As we saw in the last section, in order to perform more complex analysis, we have to be able to **clean** and **manipulate** data, whether it be adding data to a dataframe or renaming a column. In the next lessons, we'll continue building on what we've learned so far as we learn ways to **transform** and **reshape** our data."
   ]
  }
 ],
 "metadata": {
  "colab": {
   "name": "Lesson #08 - Combining Data With Pandas.ipynb",
   "provenance": [],
   "version": "0.3.2"
  },
  "kernelspec": {
   "display_name": "Python 3",
   "language": "python",
   "name": "python3"
  },
  "language_info": {
   "codemirror_mode": {
    "name": "ipython",
    "version": 3
   },
   "file_extension": ".py",
   "mimetype": "text/x-python",
   "name": "python",
   "nbconvert_exporter": "python",
   "pygments_lexer": "ipython3",
   "version": "3.7.1"
  }
 },
 "nbformat": 4,
 "nbformat_minor": 2
}
