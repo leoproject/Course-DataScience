{
 "cells": [
  {
   "cell_type": "markdown",
   "metadata": {
    "colab_type": "text",
    "id": "HERoK7yQGQrn"
   },
   "source": [
    "## 1 Data Aggregation"
   ]
  },
  {
   "cell_type": "markdown",
   "metadata": {
    "colab_type": "text",
    "id": "8hcgeIlqFkD1"
   },
   "source": [
    "### 1.1 Introduction"
   ]
  },
  {
   "cell_type": "markdown",
   "metadata": {
    "colab_type": "text",
    "id": "v0PCbpJIF3Ux"
   },
   "source": [
    "So far, we've learned how to use the **pandas library** with data sets that didn't require much cleanup. However, most data sets in real life require extensive cleaning and manipulation to extract any meaningful insights. In fact, [Forbes](https://www.forbes.com/sites/gilpress/2016/03/23/data-preparation-most-time-consuming-least-enjoyable-data-science-task-survey-says/#422844586f63) estimates that data scientists spend about 60% of their time cleaning and organizing data, so it's critical to be able to manipulate data quickly and efficiently.\n",
    "\n",
    "In the next four or five lessons, we'll learn the following:\n",
    "\n",
    "- Data aggregation\n",
    "- How to combine data\n",
    "- How to transform data\n",
    "- How to clean strings with pandas\n",
    "- How to handle missing and duplicate data\n",
    "\n",
    "\n",
    "In that lessons, we'll work with the **World Happiness Report**, an annual report created by the **UN Sustainable Development Solutions Network** with the intent of guiding policy. The report assigns each country a happiness score based on the answers to a poll question that asks respondents to rank their life on a scale of 0 - 10.\n",
    "\n",
    "It also includes estimates of factors that may contribute to each country's happiness, including **economic production**, **social support**, **life expectancy**, **freedom**, **absence of corruption**, and **generosity**, to provide context for the score. Although these factors aren't actually used in the calculation of the happiness score, they can help illustrate why a country received a certain score.\n",
    "\n",
    "Throughout that lessons, we'll work to answer the following questions:\n",
    "\n",
    "- How can aggregating the data give us more insight into happiness scores?\n",
    "- How did world happiness change from 2015 to 2017?\n",
    "- Which factors contribute the most to the happiness score?\n",
    "\n",
    "In this first part of lesson, we'll start by learning how to **aggregate data**. Then, we'll learn different data cleaning skills that can help us aggregate and analyze the data in different ways. We'll start by learning each topic in isolation, but build towards a more complete data cleaning workflow by the end of the next four or five lessons."
   ]
  },
  {
   "cell_type": "markdown",
   "metadata": {
    "colab_type": "text",
    "id": "m5oSKoqTGMEN"
   },
   "source": [
    "### 1.2 Introduction to the Data"
   ]
  },
  {
   "cell_type": "markdown",
   "metadata": {
    "colab_type": "text",
    "id": "EGw1u8sENKq9"
   },
   "source": [
    "Let's start by looking at the World Happiness Report for 2015. You can find the data [here](https://www.kaggle.com/unsdsn/world-happiness).\n",
    "\n",
    "Below is a preview of the data set:\n",
    "\n",
    "| | Country | Region | Happiness Rank | Happiness Score | Standard Error | Economy (GDP per Capita) | Family | Health (Life Expectancy) | \n",
    "|---------|-------------|----------------|-----------------|----------------|--------------------------|---------|--------------------------|---------|\n",
    "| 0 | Switzerland | Western Europe | 1 | 7.587 | 0.03411 | 1.39651 | 1.34951 | 0.94143 |\n",
    "| 1 | Iceland | Western Europe | 2 | 7.561 | 0.04884 | 1.30232 | 1.40223 | 0.94784 |\n",
    "| 2 | Denmark | Western Europe | 3 | 7.527 | 0.03328 | 1.32548 | 1.36058 | 0.87464 |\n",
    "| 3 | Norway | Western Europe | 4 | 7.522 | 0.03880 | 1.45900 | 1.33095 | 0.88521 |\n",
    "| 4 | Canada | North America | 5 | 7.427 | 0.03553 | 1.32629 | 1.32261 | 0.90563 |\n",
    "\n",
    "The data set is a CSV file called **World_Happiness_2015.csv**. Below are descriptions for some of the columns we'll be working with:\n",
    "\n",
    "- **Country** - Name of the country.\n",
    "- **Region** - Name of the region the country belongs to.\n",
    "- **Happiness Rank** - The rank of the country, as determined by its happiness score.\n",
    "- **Happiness Score** - A score assigned to each country based on the answers to a poll question that asks respondents to rate their happiness on a scale of 0-10.\n",
    "- **Family** - The estimated extent to which family contributes to the happiness score.\n",
    "- **Freedom** - The estimated extent to which freedom contributes to the happiness score.\n",
    "- **Generosity** - The estimated extent to which generosity contributes to the happiness score.\n",
    "\n",
    "To start, let's read our data set into a pandas dataframe and inspect it.\n",
    "\n",
    "**Exercise**\n",
    "\n",
    "<left><img width=\"100\" src=\"https://drive.google.com/uc?export=view&id=1E8tR7B9YYUXsU_rddJAyq0FrM0MSelxZ\"></left>\n",
    "\n",
    "\n",
    "- Use the **pd.read_csv()** function to read the **World_Happiness_2015.csv** file into a dataframe called **happiness2015**.\n",
    "- Store the first five rows of the dataframe in a variable called **first_5**.\n",
    "- Use the **DataFrame.info()** method to store information about the dataframe in a variable called **info**.\n"
   ]
  },
  {
   "cell_type": "code",
   "execution_count": 4,
   "metadata": {
    "colab": {},
    "colab_type": "code",
    "id": "U9z3SQMCNaPc"
   },
   "outputs": [
    {
     "name": "stdout",
     "output_type": "stream",
     "text": [
      "<class 'pandas.core.frame.DataFrame'>\n",
      "RangeIndex: 158 entries, 0 to 157\n",
      "Data columns (total 12 columns):\n",
      "Country                          158 non-null object\n",
      "Region                           158 non-null object\n",
      "Happiness Rank                   158 non-null int64\n",
      "Happiness Score                  158 non-null float64\n",
      "Standard Error                   158 non-null float64\n",
      "Economy (GDP per Capita)         158 non-null float64\n",
      "Family                           158 non-null float64\n",
      "Health (Life Expectancy)         158 non-null float64\n",
      "Freedom                          158 non-null float64\n",
      "Trust (Government Corruption)    158 non-null float64\n",
      "Generosity                       158 non-null float64\n",
      "Dystopia Residual                158 non-null float64\n",
      "dtypes: float64(9), int64(1), object(2)\n",
      "memory usage: 14.9+ KB\n"
     ]
    }
   ],
   "source": [
    "# put your code here\n",
    "import pandas as pd\n",
    "\n",
    "happiness2015 = pd.read_csv('World_Happiness_2015.csv')\n",
    "first_5 = happiness2015.iloc[:5]\n",
    "info = happiness2015.info()\n"
   ]
  },
  {
   "cell_type": "markdown",
   "metadata": {
    "colab_type": "text",
    "id": "vHclcdO-PRtx"
   },
   "source": [
    "### 1.3 Using Loops to Aggregate Data"
   ]
  },
  {
   "cell_type": "markdown",
   "metadata": {
    "colab_type": "text",
    "id": "9TowFI6OPnbL"
   },
   "source": [
    "First, let's visualize the happiness score of each country in **happiness2015**:\n",
    "\n",
    "\n",
    "\n"
   ]
  },
  {
   "cell_type": "code",
   "execution_count": null,
   "metadata": {
    "colab": {},
    "colab_type": "code",
    "id": "-u7_V7orPtjT"
   },
   "outputs": [],
   "source": [
    "import matplotlib.pyplot as plt\n",
    "happiness2015['Happiness Score'].plot(kind='bar', \n",
    "                                      title='Happiness Scores',\n",
    "                                      ylim=(0,10))\n",
    "plt.show()"
   ]
  },
  {
   "cell_type": "markdown",
   "metadata": {
    "colab_type": "text",
    "id": "5THn9eC3P--j"
   },
   "source": [
    "Plotting the data in its current form isn't helpful at all! There are so many data points that we can't see any of the values or labels.\n",
    "\n",
    "You may have noticed that each country in the happiness2015 dataframe is assigned to a **region**, specified in the **Region** column. We can use the **Series.unique()** method to confirm the unique regions:\n",
    "\n"
   ]
  },
  {
   "cell_type": "code",
   "execution_count": null,
   "metadata": {
    "colab": {
     "base_uri": "https://localhost:8080/",
     "height": 86
    },
    "colab_type": "code",
    "id": "OQdO1JiZQU7h",
    "outputId": "dfdf027d-aae0-4889-cf1b-53ad79ab962f"
   },
   "outputs": [
    {
     "data": {
      "text/plain": [
       "array(['Western Europe', 'North America', 'Australia and New Zealand',\n",
       "       'Middle East and Northern Africa', 'Latin America and Caribbean',\n",
       "       'Southeastern Asia', 'Central and Eastern Europe', 'Eastern Asia',\n",
       "       'Sub-Saharan Africa', 'Southern Asia'], dtype=object)"
      ]
     },
     "execution_count": 2,
     "metadata": {
      "tags": []
     },
     "output_type": "execute_result"
    }
   ],
   "source": [
    "happiness2015['Region'].unique()"
   ]
  },
  {
   "cell_type": "markdown",
   "metadata": {
    "colab_type": "text",
    "id": "mYquRejiQXZQ"
   },
   "source": [
    "Let's try plotting just one region next:"
   ]
  },
  {
   "cell_type": "code",
   "execution_count": null,
   "metadata": {
    "colab": {
     "base_uri": "https://localhost:8080/",
     "height": 363
    },
    "colab_type": "code",
    "id": "xKyroBgYQfI-",
    "outputId": "417f6d21-bd9b-4f96-cf5c-b46ba14e241b"
   },
   "outputs": [
    {
     "data": {
      "image/png": "[encoded data removed]",
      "text/plain": [
       "<Figure size 576x396 with 1 Axes>"
      ]
     },
     "metadata": {
      "tags": []
     },
     "output_type": "display_data"
    }
   ],
   "source": [
    "so_asia = happiness2015[happiness2015['Region'] == 'Southern Asia']\n",
    "so_asia.plot(x='Country',\n",
    "             y='Happiness Score', \n",
    "             kind='barh', \n",
    "             title='Southern Asia Happiness Scores', \n",
    "             xlim=(0,10))\n",
    "plt.show()"
   ]
  },
  {
   "cell_type": "markdown",
   "metadata": {
    "colab_type": "text",
    "id": "0OgKSESSQsrJ"
   },
   "source": [
    "It's much easier to read this visualization - we can clearly see the labels and values. However, we wouldn't know if the Southern Asia region is representative of the entire world unless we look at the other regions. What we really want is to create a visualization that uses one number, a summary statistic like the mean, to summarize the data for each region.\n",
    "\n",
    "<left><img width=\"500\" src=\"https://drive.google.com/uc?export=view&id=1hAGXGQD52Az6I0ESC06eB-F9vwVFcQUH\"></left>\n",
    "\n",
    "In this lesson, we'll learn how to perform different kinds of **aggregations**, applying a statistical operation to groups of our data, and create visualizations like the one above.\n",
    "\n",
    "Recall that in the **Pandas Fundamentals lessons**, we learned a way to use loops for aggregation. Our process looked like this:\n",
    "\n",
    "- Identify each unique group in the data set.\n",
    "- For each group:\n",
    "  - Select only the rows corresponding to that group.\n",
    "  - Calculate the average for those rows.\n",
    "\n",
    "Let's use the same process to find the mean happiness score for each region.\n",
    "\n",
    "\n",
    "**Exercise**\n",
    "\n",
    "<left><img width=\"100\" src=\"https://drive.google.com/uc?export=view&id=1E8tR7B9YYUXsU_rddJAyq0FrM0MSelxZ\"></left>\n",
    "\n",
    "\n",
    "- Create an empty dictionary named **mean_happiness** to store the results of this exercise.\n",
    "- Use the **Series.unique()** method to create an array of unique values for the Region column.\n",
    "- Use a for loop to iterate over the unique region values from the **Region** column.\n",
    "  - Assign the rows belonging to the current region to a variable named **region_group**.\n",
    "  - Use the **Series.mean()** method to calculate the mean happiness score for **region_group**.\n",
    "  - Assign the **mean** value to the **mean_happiness** dictionary, using the **region name** as the **key** and the **mean happiness** score as the **value**."
   ]
  },
  {
   "cell_type": "code",
   "execution_count": null,
   "metadata": {
    "colab": {},
    "colab_type": "code",
    "id": "hxOLPRE9Q8ou"
   },
   "outputs": [],
   "source": [
    "# put your code here"
   ]
  },
  {
   "cell_type": "markdown",
   "metadata": {
    "colab_type": "text",
    "id": "8UyVhXLJTUVa"
   },
   "source": [
    "### 1.4 The GroupBy Operation"
   ]
  },
  {
   "cell_type": "markdown",
   "metadata": {
    "colab_type": "text",
    "id": "f8xC2Qn1Tx1I"
   },
   "source": [
    "Let's break down the code we wrote in the previous section into three steps:\n",
    "\n",
    "- Split the dataframe into groups.\n",
    "- Apply a function to each group.\n",
    "- Combine the results into one data structure."
   ]
  },
  {
   "cell_type": "code",
   "execution_count": null,
   "metadata": {
    "colab": {},
    "colab_type": "code",
    "id": "G9aDJyGBT9AV"
   },
   "outputs": [],
   "source": [
    "mean_happiness = {}\n",
    "regions = happiness2015['Region'].unique()\n",
    "\n",
    "for r in regions:\n",
    "    #1. Split the dataframe into groups.\n",
    "    region_group = happiness2015[happiness2015['Region'] == r]\n",
    "    #2. Apply a function to each group.\n",
    "    region_mean = region_group['Happiness Score'].mean()\n",
    "    #3. Combine the results into one data structure.\n",
    "    mean_happiness[r] = region_mean"
   ]
  },
  {
   "cell_type": "markdown",
   "metadata": {
    "colab_type": "text",
    "id": "8f55YHfZUHM3"
   },
   "source": [
    "<left><img width=\"800\" src=\"https://drive.google.com/uc?export=view&id=1Ct5QoT7yte-NABSqTJVaCqyfd4YIVcUz\"></left>\n",
    "\n",
    "As with many other common tasks, pandas has a built-in operation for this process. The [groupby operation](https://pandas.pydata.org/pandas-docs/stable/user_guide/groupby.html) performs the \"split-apply-combine\" process on a dataframe, but condenses it into two steps:\n",
    "\n",
    "- Create a GroupBy object.\n",
    "- Call a function on the GroupBy object.\n",
    "\n",
    "The GroupBy object, distinct from a dataframe or series object, allows us to split the dataframe into groups, but only in an abstract sense. Nothing is actually computed until a function is called on the GroupBy object.\n",
    "\n",
    "You can think of the **groupby** operation like this. Imagine a dataframe as a structure made of stacking blocks in all different colors and sizes.\n",
    "\n",
    "<left><img width=\"100\" src=\"https://drive.google.com/uc?export=view&id=1av5ulwcPgJ9pYaUNg6GWmlS5hIPIUc9a\"></left>\n",
    "\n",
    "\n",
    "You know you'll eventually want to group the blocks according to color instead, but you don't know yet what you want to do with them after. Using the groupby process, we would first create a mapping document, the **GroupBy** object, containing information on how to group the blocks by color and where each block is located in the original structure.\n",
    "\n",
    "<left><img width=\"300\" src=\"https://drive.google.com/uc?export=view&id=1hjjpvG7WDzus9CShLGtzOv4MTvQooeBG\"></left>\n",
    "\n",
    "Once we create the mapping document, we can use it to easily rearrange the blocks into different structures. For example, let's say our manager asks us first to build another structure using the biggest block from each color.\n",
    "\n",
    "<left><img width=\"300\" src=\"https://drive.google.com/uc?export=view&id=1aUkogBQd30RTfV-RC45w1ht3w-x9Nld0\"></left>\n",
    "\n",
    "Then, he or she asks us to build another structure using the block size the appears most frequently in each color.\n",
    "\n",
    "\n",
    "<left><img width=\"300\" src=\"https://drive.google.com/uc?export=view&id=17H8cMLKjX535hhIYGJKvOKCT_GQd8Qjo\"></left>\n",
    "\n",
    "Creating the initial mapping document, or GroupBy object, allows us to optimize our work, because we no longer have to refer back to the original dataframe. By working with the **groupby** operation, we make our code faster, more flexible, and easier to read."
   ]
  },
  {
   "cell_type": "markdown",
   "metadata": {
    "colab_type": "text",
    "id": "glnOxfebUcBI"
   },
   "source": [
    "### 1.5 Creating GroupBy Objects"
   ]
  },
  {
   "cell_type": "markdown",
   "metadata": {
    "colab_type": "text",
    "id": "72SRJ_tbXMsw"
   },
   "source": [
    "The first step in the groupby operation is to create a GroupBy object:\n",
    "\n",
    "<left><img width=\"500\" src=\"https://drive.google.com/uc?export=view&id=1QwWrh1Ry0grtGtBkC9Nj9IMxkypYXypA\"></left>\n",
    "\n",
    "To create a GroupBy object, we use the [DataFrame.groupby()](https://pandas.pydata.org/pandas-docs/stable/generated/pandas.DataFrame.groupby.html) method:\n",
    "\n",
    "```python\n",
    "df.groupby('col')\n",
    "```\n",
    "\n",
    "where **col** is the column you want to use to group the data set. Note that you can also group the data set on multiple columns by passing a list into the **DataFrame.groupby()** method. However, for teaching purposes, we'll focus on grouping the data by just one column in this lesson.\n",
    "\n",
    "When choosing the column, think about which columns could be used to split the data set into groups. To put it another way, look at columns with the same value for multiple rows.\n",
    "\n",
    "<left><img width=\"700\" src=\"https://drive.google.com/uc?export=view&id=1D41O6Wo_6CrS20ptrRl2q5iBFDWb1ulR\"></left>\n",
    "\n",
    "We can see from the couple of rows above that the **Region** column fits this criteria. Let's confirm the number of regions and the number of unique values in each region for the entire dataframe with the **Series.value_counts()** method next:"
   ]
  },
  {
   "cell_type": "code",
   "execution_count": null,
   "metadata": {
    "colab": {
     "base_uri": "https://localhost:8080/",
     "height": 207
    },
    "colab_type": "code",
    "id": "eCaJU2iUXgdl",
    "outputId": "a2152247-0d91-4207-ed3a-6140707daccf"
   },
   "outputs": [
    {
     "data": {
      "text/plain": [
       "Sub-Saharan Africa                 40\n",
       "Central and Eastern Europe         29\n",
       "Latin America and Caribbean        22\n",
       "Western Europe                     21\n",
       "Middle East and Northern Africa    20\n",
       "Southeastern Asia                   9\n",
       "Southern Asia                       7\n",
       "Eastern Asia                        6\n",
       "Australia and New Zealand           2\n",
       "North America                       2\n",
       "Name: Region, dtype: int64"
      ]
     },
     "execution_count": 17,
     "metadata": {
      "tags": []
     },
     "output_type": "execute_result"
    }
   ],
   "source": [
    "happiness2015['Region'].value_counts()"
   ]
  },
  {
   "cell_type": "markdown",
   "metadata": {
    "colab_type": "text",
    "id": "uJH7TQVOYhHY"
   },
   "source": [
    "Since there's a small number of groups and each group contains more than one unique value, we can confirm the **Region** column is a good candidate to group by.\n",
    "\n",
    "Next, let's create a Groupby object and group the dataframe by the **Region** column:"
   ]
  },
  {
   "cell_type": "code",
   "execution_count": null,
   "metadata": {
    "colab": {
     "base_uri": "https://localhost:8080/",
     "height": 35
    },
    "colab_type": "code",
    "id": "GK0gnCYIYrOk",
    "outputId": "852773f4-cc06-416d-a315-6626ab88a754"
   },
   "outputs": [
    {
     "data": {
      "text/plain": [
       "<pandas.core.groupby.DataFrameGroupBy object at 0x7f2fcf380d30>"
      ]
     },
     "execution_count": 8,
     "metadata": {
      "tags": []
     },
     "output_type": "execute_result"
    }
   ],
   "source": [
    "happiness2015.groupby('Region')"
   ]
  },
  {
   "cell_type": "markdown",
   "metadata": {
    "colab_type": "text",
    "id": "EHlfBcNPYuKk"
   },
   "source": [
    "Don't be alarmed! This isn't an error. This is telling us that an object of type **GroupBy** was returned, just like we expected.\n",
    "\n",
    "Before our we start aggregating data, we'll build some intuition around GroupBy objects. We'll start by using the **GroupBy.get_group()** method to select data for a certain group.\n",
    "\n",
    "As an example, to select the data for just the **North America** group, we'd pass 'North America' into the **get_group()** method as follows:\n",
    "\n"
   ]
  },
  {
   "cell_type": "code",
   "execution_count": null,
   "metadata": {
    "colab": {
     "base_uri": "https://localhost:8080/",
     "height": 215
    },
    "colab_type": "code",
    "id": "gwB4iEioYyy6",
    "outputId": "f20a459c-4a1f-4812-b6b4-19d067a5de99"
   },
   "outputs": [
    {
     "data": {
      "text/html": [
       "<div>\n",
       "<style scoped>\n",
       "    .dataframe tbody tr th:only-of-type {\n",
       "        vertical-align: middle;\n",
       "    }\n",
       "\n",
       "    .dataframe tbody tr th {\n",
       "        vertical-align: top;\n",
       "    }\n",
       "\n",
       "    .dataframe thead th {\n",
       "        text-align: right;\n",
       "    }\n",
       "</style>\n",
       "<table border=\"1\" class=\"dataframe\">\n",
       "  <thead>\n",
       "    <tr style=\"text-align: right;\">\n",
       "      <th></th>\n",
       "      <th>Country</th>\n",
       "      <th>Region</th>\n",
       "      <th>Happiness Rank</th>\n",
       "      <th>Happiness Score</th>\n",
       "      <th>Standard Error</th>\n",
       "      <th>Economy (GDP per Capita)</th>\n",
       "      <th>Family</th>\n",
       "      <th>Health (Life Expectancy)</th>\n",
       "      <th>Freedom</th>\n",
       "      <th>Trust (Government Corruption)</th>\n",
       "      <th>Generosity</th>\n",
       "      <th>Dystopia Residual</th>\n",
       "    </tr>\n",
       "  </thead>\n",
       "  <tbody>\n",
       "    <tr>\n",
       "      <th>4</th>\n",
       "      <td>Canada</td>\n",
       "      <td>North America</td>\n",
       "      <td>5</td>\n",
       "      <td>7.427</td>\n",
       "      <td>0.03553</td>\n",
       "      <td>1.32629</td>\n",
       "      <td>1.32261</td>\n",
       "      <td>0.90563</td>\n",
       "      <td>0.63297</td>\n",
       "      <td>0.32957</td>\n",
       "      <td>0.45811</td>\n",
       "      <td>2.45176</td>\n",
       "    </tr>\n",
       "    <tr>\n",
       "      <th>14</th>\n",
       "      <td>United States</td>\n",
       "      <td>North America</td>\n",
       "      <td>15</td>\n",
       "      <td>7.119</td>\n",
       "      <td>0.03839</td>\n",
       "      <td>1.39451</td>\n",
       "      <td>1.24711</td>\n",
       "      <td>0.86179</td>\n",
       "      <td>0.54604</td>\n",
       "      <td>0.15890</td>\n",
       "      <td>0.40105</td>\n",
       "      <td>2.51011</td>\n",
       "    </tr>\n",
       "  </tbody>\n",
       "</table>\n",
       "</div>"
      ],
      "text/plain": [
       "          Country         Region  Happiness Rank  Happiness Score  \\\n",
       "4          Canada  North America               5            7.427   \n",
       "14  United States  North America              15            7.119   \n",
       "\n",
       "    Standard Error  Economy (GDP per Capita)   Family  \\\n",
       "4          0.03553                   1.32629  1.32261   \n",
       "14         0.03839                   1.39451  1.24711   \n",
       "\n",
       "    Health (Life Expectancy)  Freedom  Trust (Government Corruption)  \\\n",
       "4                    0.90563  0.63297                        0.32957   \n",
       "14                   0.86179  0.54604                        0.15890   \n",
       "\n",
       "    Generosity  Dystopia Residual  \n",
       "4      0.45811            2.45176  \n",
       "14     0.40105            2.51011  "
      ]
     },
     "execution_count": 19,
     "metadata": {
      "tags": []
     },
     "output_type": "execute_result"
    }
   ],
   "source": [
    "grouped = happiness2015.groupby('Region')\n",
    "grouped.get_group('North America')"
   ]
  },
  {
   "cell_type": "markdown",
   "metadata": {
    "colab_type": "text",
    "id": "H_zIecRVZJ4z"
   },
   "source": [
    "\n",
    "**Exercise**\n",
    "\n",
    "<left><img width=\"100\" src=\"https://drive.google.com/uc?export=view&id=1E8tR7B9YYUXsU_rddJAyq0FrM0MSelxZ\"></left>\n",
    "\n",
    "- Use the **df.groupby()** method to group **happiness2015** by the **Region** column. Assign the result to **grouped**.\n",
    "- Use the **GroupBy.get_group()** method to select the data for the **Australia and New Zealand** group only. Assign the result to **aus_nz**."
   ]
  },
  {
   "cell_type": "code",
   "execution_count": null,
   "metadata": {
    "colab": {},
    "colab_type": "code",
    "id": "TFEtCx5oZlB8"
   },
   "outputs": [],
   "source": [
    "# put your code here"
   ]
  },
  {
   "cell_type": "markdown",
   "metadata": {
    "colab_type": "text",
    "id": "fAD4LgyebL7O"
   },
   "source": [
    "### 1.6 Exploring GroupBy Objects"
   ]
  },
  {
   "cell_type": "markdown",
   "metadata": {
    "colab_type": "text",
    "id": "RaOjQ9VkbVJ0"
   },
   "source": [
    "We can also use the GroupBy.groups attribute to get more information about the GroupBy object:\n"
   ]
  },
  {
   "cell_type": "code",
   "execution_count": null,
   "metadata": {
    "colab": {
     "base_uri": "https://localhost:8080/",
     "height": 415
    },
    "colab_type": "code",
    "id": "N-Y_1rTgbctL",
    "outputId": "10cc7520-09d1-4a38-ffef-a647d49db2a6"
   },
   "outputs": [
    {
     "data": {
      "text/plain": [
       "{'Australia and New Zealand': Int64Index([8, 9], dtype='int64'),\n",
       " 'Central and Eastern Europe': Int64Index([ 30,  43,  44,  51,  53,  54,  55,  58,  59,  61,  63,  68,  69,\n",
       "              72,  76,  79,  82,  85,  86,  88,  92,  94,  95, 103, 105, 110,\n",
       "             126, 129, 133],\n",
       "            dtype='int64'),\n",
       " 'Eastern Asia': Int64Index([37, 45, 46, 71, 83, 99], dtype='int64'),\n",
       " 'Latin America and Caribbean': Int64Index([ 11,  13,  15,  22,  24,  26,  29,  31,  32,  39,  40,  41,  42,\n",
       "              47,  50,  52,  56,  57,  64,  97, 104, 118],\n",
       "            dtype='int64'),\n",
       " 'Middle East and Northern Africa': Int64Index([ 10,  19,  21,  27,  34,  38,  48,  62,  67,  75,  81,  91, 102,\n",
       "             106, 107, 109, 111, 134, 135, 155],\n",
       "            dtype='int64'),\n",
       " 'North America': Int64Index([4, 14], dtype='int64'),\n",
       " 'Southeastern Asia': Int64Index([23, 33, 60, 73, 74, 89, 98, 128, 144], dtype='int64'),\n",
       " 'Southern Asia': Int64Index([78, 80, 108, 116, 120, 131, 152], dtype='int64'),\n",
       " 'Sub-Saharan Africa': Int64Index([ 70,  77,  84,  90,  93,  96, 100, 112, 113, 114, 115, 117, 119,\n",
       "             121, 122, 123, 124, 125, 127, 130, 132, 136, 137, 138, 139, 140,\n",
       "             141, 142, 143, 145, 146, 147, 148, 149, 150, 151, 153, 154, 156,\n",
       "             157],\n",
       "            dtype='int64'),\n",
       " 'Western Europe': Int64Index([0, 1, 2, 3, 5, 6, 7, 12, 16, 17, 18, 20, 25, 28, 35, 36, 49, 65,\n",
       "             66, 87, 101],\n",
       "            dtype='int64')}"
      ]
     },
     "execution_count": 22,
     "metadata": {
      "tags": []
     },
     "output_type": "execute_result"
    }
   ],
   "source": [
    "grouped = happiness2015.groupby('Region')\n",
    "grouped.groups"
   ]
  },
  {
   "cell_type": "markdown",
   "metadata": {
    "colab_type": "text",
    "id": "ng32KsYZbe7J"
   },
   "source": [
    "The result is a dictionary in which each key corresponds to a region name. \n",
    "\n",
    "Notice that the values include the index for each row in the original **happiness2015** dataframe with the corresponding region name. To prove this, let's again look at the data for the **Australia and New Zealand** group:\n",
    "\n",
    "```python\n",
    "'Australia and New Zealand': Int64Index([8, 9], dtype='int64')\n",
    "```\n",
    "\n"
   ]
  },
  {
   "cell_type": "markdown",
   "metadata": {
    "colab_type": "text",
    "id": "koKMfVJkb5kj"
   },
   "source": [
    "\n",
    "Then, let's filter on indexes 8 and 9 in **happiness2015**:\n"
   ]
  },
  {
   "cell_type": "code",
   "execution_count": null,
   "metadata": {
    "colab": {
     "base_uri": "https://localhost:8080/",
     "height": 284
    },
    "colab_type": "code",
    "id": "fE9V0XC0cEZa",
    "outputId": "1be10844-8125-4643-9737-fd7f1a65b51e"
   },
   "outputs": [
    {
     "data": {
      "text/html": [
       "<div>\n",
       "<style scoped>\n",
       "    .dataframe tbody tr th:only-of-type {\n",
       "        vertical-align: middle;\n",
       "    }\n",
       "\n",
       "    .dataframe tbody tr th {\n",
       "        vertical-align: top;\n",
       "    }\n",
       "\n",
       "    .dataframe thead th {\n",
       "        text-align: right;\n",
       "    }\n",
       "</style>\n",
       "<table border=\"1\" class=\"dataframe\">\n",
       "  <thead>\n",
       "    <tr style=\"text-align: right;\">\n",
       "      <th></th>\n",
       "      <th>Country</th>\n",
       "      <th>Region</th>\n",
       "      <th>Happiness Rank</th>\n",
       "      <th>Happiness Score</th>\n",
       "      <th>Standard Error</th>\n",
       "      <th>Economy (GDP per Capita)</th>\n",
       "      <th>Family</th>\n",
       "      <th>Health (Life Expectancy)</th>\n",
       "      <th>Freedom</th>\n",
       "      <th>Trust (Government Corruption)</th>\n",
       "      <th>Generosity</th>\n",
       "      <th>Dystopia Residual</th>\n",
       "    </tr>\n",
       "  </thead>\n",
       "  <tbody>\n",
       "    <tr>\n",
       "      <th>8</th>\n",
       "      <td>New Zealand</td>\n",
       "      <td>Australia and New Zealand</td>\n",
       "      <td>9</td>\n",
       "      <td>7.286</td>\n",
       "      <td>0.03371</td>\n",
       "      <td>1.25018</td>\n",
       "      <td>1.31967</td>\n",
       "      <td>0.90837</td>\n",
       "      <td>0.63938</td>\n",
       "      <td>0.42922</td>\n",
       "      <td>0.47501</td>\n",
       "      <td>2.26425</td>\n",
       "    </tr>\n",
       "    <tr>\n",
       "      <th>9</th>\n",
       "      <td>Australia</td>\n",
       "      <td>Australia and New Zealand</td>\n",
       "      <td>10</td>\n",
       "      <td>7.284</td>\n",
       "      <td>0.04083</td>\n",
       "      <td>1.33358</td>\n",
       "      <td>1.30923</td>\n",
       "      <td>0.93156</td>\n",
       "      <td>0.65124</td>\n",
       "      <td>0.35637</td>\n",
       "      <td>0.43562</td>\n",
       "      <td>2.26646</td>\n",
       "    </tr>\n",
       "  </tbody>\n",
       "</table>\n",
       "</div>"
      ],
      "text/plain": [
       "       Country                     Region  Happiness Rank  Happiness Score  \\\n",
       "8  New Zealand  Australia and New Zealand               9            7.286   \n",
       "9    Australia  Australia and New Zealand              10            7.284   \n",
       "\n",
       "   Standard Error  Economy (GDP per Capita)   Family  \\\n",
       "8         0.03371                   1.25018  1.31967   \n",
       "9         0.04083                   1.33358  1.30923   \n",
       "\n",
       "   Health (Life Expectancy)  Freedom  Trust (Government Corruption)  \\\n",
       "8                   0.90837  0.63938                        0.42922   \n",
       "9                   0.93156  0.65124                        0.35637   \n",
       "\n",
       "   Generosity  Dystopia Residual  \n",
       "8     0.47501            2.26425  \n",
       "9     0.43562            2.26646  "
      ]
     },
     "execution_count": 23,
     "metadata": {
      "tags": []
     },
     "output_type": "execute_result"
    }
   ],
   "source": [
    "happiness2015.iloc[8:10]"
   ]
  },
  {
   "cell_type": "markdown",
   "metadata": {
    "colab_type": "text",
    "id": "fUNnyBmtcKmS"
   },
   "source": [
    "And we see that those rows correspond to Australia and New Zealand! Notice that the **get_group()** method also returned the same dataframe above.\n",
    "\n",
    "Next, let's continue building our intuition by practicing using the groups attribute and **get_group()** method.\n",
    "\n",
    "\n",
    "**Exercise**\n",
    "\n",
    "<left><img width=\"100\" src=\"https://drive.google.com/uc?export=view&id=1E8tR7B9YYUXsU_rddJAyq0FrM0MSelxZ\"></left>\n",
    "\n",
    "\n",
    "For the following exercise, use the result from the dictionary returned by grouped.groups shown below:\n",
    "\n",
    "```python\n",
    "'North America': Int64Index([4, 14], dtype='int64'\n",
    "```\n",
    "\n",
    "- Prove that the values for the **'North America'** group in the dictionary returned by **grouped.groups** above correspond to countries in **North America** in the **happiness2015** dataframe.\n",
    "  - Use the snippet above to identify the indexes of the countries in **happiness2015** that belong to the **North America** group.\n",
    "  - Use the indexes to assign just the countries in North America in **happiness2015** to **north_america**.\n",
    "- Use the **GroupBy.get_group()** method to select the data for the North America group only. Assign the result to **na_group**.\n",
    "- Set **north_america** equal to **na_group**. Assign the result to **equal**."
   ]
  },
  {
   "cell_type": "code",
   "execution_count": null,
   "metadata": {
    "colab": {},
    "colab_type": "code",
    "id": "SMa620G9cUVh"
   },
   "outputs": [],
   "source": [
    "grouped = happiness2015.groupby('Region')\n",
    "# put your code here"
   ]
  },
  {
   "cell_type": "markdown",
   "metadata": {
    "colab_type": "text",
    "id": "OPmllH4JeENL"
   },
   "source": [
    "### 1.7 Common Aggregation Methods with Groupby"
   ]
  },
  {
   "cell_type": "markdown",
   "metadata": {
    "colab_type": "text",
    "id": "aLe7I7u_eGQr"
   },
   "source": [
    "Now that we have a good understanding of GroupBy objects, let's use them to aggregate our data. In order to aggregate our data, we must call a function on the GroupBy object.\n",
    "\n",
    "A basic example of aggregation is computing the number of rows for each of the groups. We can use the **GroupBy.size()** method to confirm the size of each region group:"
   ]
  },
  {
   "cell_type": "code",
   "execution_count": null,
   "metadata": {
    "colab": {
     "base_uri": "https://localhost:8080/",
     "height": 225
    },
    "colab_type": "code",
    "id": "LUUnUeIieNxJ",
    "outputId": "cf3eda11-faf4-462c-b121-40239e05b45b"
   },
   "outputs": [
    {
     "data": {
      "text/plain": [
       "Region\n",
       "Australia and New Zealand           2\n",
       "Central and Eastern Europe         29\n",
       "Eastern Asia                        6\n",
       "Latin America and Caribbean        22\n",
       "Middle East and Northern Africa    20\n",
       "North America                       2\n",
       "Southeastern Asia                   9\n",
       "Southern Asia                       7\n",
       "Sub-Saharan Africa                 40\n",
       "Western Europe                     21\n",
       "dtype: int64"
      ]
     },
     "execution_count": 29,
     "metadata": {
      "tags": []
     },
     "output_type": "execute_result"
    }
   ],
   "source": [
    "grouped = happiness2015.groupby('Region')\n",
    "grouped.size()"
   ]
  },
  {
   "cell_type": "markdown",
   "metadata": {
    "colab_type": "text",
    "id": "_5fAzdpDeZMo"
   },
   "source": [
    "Notice that the result is a Series and contains just one value for each group. Each value represents the number of rows in each group. For example, the 'Australia and New Zealand' group contains two rows.\n",
    "\n",
    "Pandas has built in a number of other common [aggregation methods](https://pandas.pydata.org/pandas-docs/stable/user_guide/groupby.html):\n",
    "\n",
    "| Methods | Description |\n",
    "|---------|-------------------------------------------|\n",
    "| mean() | Calculates the mean of groups. |\n",
    "| sum() | Calculates the sum of group values. |\n",
    "| size() | Calculates the size of the groups. |\n",
    "| count() | Calculates the count of values in groups. |\n",
    "| min() | Calculates the minimum of group values. |\n",
    "| max() | Calculates the maximum of group values. |\n",
    "\n",
    "**Exercise**\n",
    "\n",
    "<left><img width=\"100\" src=\"https://drive.google.com/uc?export=view&id=1E8tR7B9YYUXsU_rddJAyq0FrM0MSelxZ\"></left>\n",
    "\n",
    "- Apply the **GroupBy.mean()** method to **grouped**. Assign the result to **means**."
   ]
  },
  {
   "cell_type": "code",
   "execution_count": null,
   "metadata": {
    "colab": {},
    "colab_type": "code",
    "id": "McvQGjzte7OF"
   },
   "outputs": [],
   "source": [
    "# put your code here"
   ]
  },
  {
   "cell_type": "markdown",
   "metadata": {
    "colab_type": "text",
    "id": "ZQsNnCeNfXoP"
   },
   "source": [
    "### 1.8 Aggregating Specific Columns with Groupby"
   ]
  },
  {
   "cell_type": "markdown",
   "metadata": {
    "colab_type": "text",
    "id": "QVdfXRCdhGlX"
   },
   "source": [
    "You may have noticed that **Region** appears in a different row than the rest of the column names. Because we grouped the dataframe by region, the unique values in **Region** are used as the index. Up until now, we've mostly worked with dataframes with a numeric index.\n",
    "\n",
    "<left><img width=\"500\" src=\"https://drive.google.com/uc?export=view&id=1EXmHZtkiKiTS0De2LbSrsHO3YPrQAX2n\"></left>\n",
    "\n",
    "In some cases, we may only wish to aggregate one particular column in the original dataframe. GroupBy objects actually support column indexing, just like dataframes. You can select specific columns for a GroupBy object the same way you would for a dataframe:\n",
    "\n",
    "\n",
    "| Select by Label | Syntax |\n",
    "|-----------------|---------------------------|\n",
    "| Single column | GroupBy[\"col1\"] |\n",
    "| List of columns | GroupBy[[\"col1\", \"col2\"]] |\n",
    "\n",
    "**Exercise**\n",
    "\n",
    "<left><img width=\"100\" src=\"https://drive.google.com/uc?export=view&id=1E8tR7B9YYUXsU_rddJAyq0FrM0MSelxZ\"></left>\n",
    "\n",
    "\n",
    "- Select just the **Happiness Score** column from **grouped**. Assign the result to **happy_grouped**.\n",
    "- Use the **GroupBy.mean()** method to compute the mean of **happy_grouped**. Assign the result to **happy_mean**."
   ]
  },
  {
   "cell_type": "code",
   "execution_count": null,
   "metadata": {
    "colab": {},
    "colab_type": "code",
    "id": "YOh1su14hWqU"
   },
   "outputs": [],
   "source": [
    "grouped = happiness2015.groupby('Region')\n",
    "# put your code here"
   ]
  },
  {
   "cell_type": "markdown",
   "metadata": {
    "colab_type": "text",
    "id": "Pf9-wpMxk08E"
   },
   "source": [
    "### 1.9 Introduction to the Agg() Method"
   ]
  },
  {
   "cell_type": "markdown",
   "metadata": {
    "colab_type": "text",
    "id": "kgUUW0oXlIf9"
   },
   "source": [
    "We learned in the last exercise that we can use indexing to aggregate just one column at a time.\n",
    "\n",
    "However, what if we wanted to apply more than one kind of aggregation to a column at a time?\n",
    "\n",
    "For example, suppose we wanted to calculate both the mean and maximum happiness score for each region. Using what we learned so far, we'd have to first calculate the mean, like we did above, and then calculate the maximum separately.\n",
    "\n",
    "Luckily, however, the [GroupBy.agg() method](https://pandas.pydata.org/pandas-docs/version/0.22/generated/pandas.core.groupby.DataFrameGroupBy.agg.html) can perform both aggregations at once. We can use the following syntax:\n",
    "\n",
    "<left><img width=\"400\" src=\"https://drive.google.com/uc?export=view&id=1zP3hrTHmkLCl42BHrSlgZ-ZbB23NK99b\"></left>\n",
    "\n",
    "Note that when we pass the functions into the **agg()** method as arguments, we don't use parentheses after the function names. For example, when we use **np.mean**, we refer to the function object itself and treat it like a variable, whereas **np.mean()** would be used to call the function and get the returned value.\n",
    "\n",
    "The function names can also be passed in as strings, but we won't cover that explicitly in this lesson. You can refer to this [documentation](https://pandas.pydata.org/pandas-docs/stable/groupby.html) for more information on this topic.\n",
    "\n",
    "**Exercise**\n",
    "\n",
    "<left><img width=\"100\" src=\"https://drive.google.com/uc?export=view&id=1E8tR7B9YYUXsU_rddJAyq0FrM0MSelxZ\"></left>\n",
    "\n",
    "- Apply the **GroupBy.agg()** method to **happy_grouped**. Pass a list containing **np.mean** and **np.max** into the method. Assign the result to **happy_mean_max**.\n",
    "- As noted above, passing **'mean'** and **'max'** into the **GroupBy.agg()** method will also return the same results. "
   ]
  },
  {
   "cell_type": "code",
   "execution_count": null,
   "metadata": {
    "colab": {},
    "colab_type": "code",
    "id": "U3CEqDQ9lZ-U"
   },
   "outputs": [],
   "source": [
    "import numpy as np\n",
    "grouped = happiness2015.groupby('Region')\n",
    "happy_grouped = grouped['Happiness Score']\n",
    "#put your code here"
   ]
  },
  {
   "cell_type": "markdown",
   "metadata": {
    "colab_type": "text",
    "id": "H7eqhnjSnCy6"
   },
   "source": [
    "### 1.10 Computing Multiple and Custom Aggregations with the Agg() Method"
   ]
  },
  {
   "cell_type": "markdown",
   "metadata": {
    "colab_type": "text",
    "id": "J0KuSERdoJn-"
   },
   "source": [
    "In the last exercise, we learned we can use the **GroupBy.agg()** method to:\n",
    "\n",
    "- Perform more than one aggregation at once.\n",
    "- Compute custom aggregations.\n",
    "\n",
    "To compute multiple aggregations at once, we passed a list of the function names into the **agg** method.\n",
    "\n",
    "The result was a dataframe containing both the **mean** and **maximum** happiness scores for each region. Note that the columns are named for the functions themselves. Because **np.max** is an alias for **np.amax**, the column for the maximum is named **amax**.\n",
    "\n",
    "We also used a custom function to aggregate the data:\n",
    "\n"
   ]
  },
  {
   "cell_type": "code",
   "execution_count": null,
   "metadata": {
    "colab": {
     "base_uri": "https://localhost:8080/",
     "height": 378
    },
    "colab_type": "code",
    "id": "FL5Tq2rVorUp",
    "outputId": "645a471c-96ac-4fd5-8177-e880156f3d16"
   },
   "outputs": [
    {
     "data": {
      "text/html": [
       "<div>\n",
       "<style scoped>\n",
       "    .dataframe tbody tr th:only-of-type {\n",
       "        vertical-align: middle;\n",
       "    }\n",
       "\n",
       "    .dataframe tbody tr th {\n",
       "        vertical-align: top;\n",
       "    }\n",
       "\n",
       "    .dataframe thead th {\n",
       "        text-align: right;\n",
       "    }\n",
       "</style>\n",
       "<table border=\"1\" class=\"dataframe\">\n",
       "  <thead>\n",
       "    <tr style=\"text-align: right;\">\n",
       "      <th></th>\n",
       "      <th>Happiness Score</th>\n",
       "      <th>Family</th>\n",
       "    </tr>\n",
       "    <tr>\n",
       "      <th>Region</th>\n",
       "      <th></th>\n",
       "      <th></th>\n",
       "    </tr>\n",
       "  </thead>\n",
       "  <tbody>\n",
       "    <tr>\n",
       "      <th>Australia and New Zealand</th>\n",
       "      <td>0.001000</td>\n",
       "      <td>0.005220</td>\n",
       "    </tr>\n",
       "    <tr>\n",
       "      <th>Central and Eastern Europe</th>\n",
       "      <td>1.172069</td>\n",
       "      <td>0.287388</td>\n",
       "    </tr>\n",
       "    <tr>\n",
       "      <th>Eastern Asia</th>\n",
       "      <td>0.671833</td>\n",
       "      <td>0.201173</td>\n",
       "    </tr>\n",
       "    <tr>\n",
       "      <th>Latin America and Caribbean</th>\n",
       "      <td>1.081318</td>\n",
       "      <td>0.200050</td>\n",
       "    </tr>\n",
       "    <tr>\n",
       "      <th>Middle East and Northern Africa</th>\n",
       "      <td>1.871100</td>\n",
       "      <td>0.303440</td>\n",
       "    </tr>\n",
       "    <tr>\n",
       "      <th>North America</th>\n",
       "      <td>0.154000</td>\n",
       "      <td>0.037750</td>\n",
       "    </tr>\n",
       "    <tr>\n",
       "      <th>Southeastern Asia</th>\n",
       "      <td>1.480556</td>\n",
       "      <td>0.324572</td>\n",
       "    </tr>\n",
       "    <tr>\n",
       "      <th>Southern Asia</th>\n",
       "      <td>0.672143</td>\n",
       "      <td>0.458629</td>\n",
       "    </tr>\n",
       "    <tr>\n",
       "      <th>Sub-Saharan Africa</th>\n",
       "      <td>1.274200</td>\n",
       "      <td>0.375595</td>\n",
       "    </tr>\n",
       "    <tr>\n",
       "      <th>Western Europe</th>\n",
       "      <td>0.897381</td>\n",
       "      <td>0.154928</td>\n",
       "    </tr>\n",
       "  </tbody>\n",
       "</table>\n",
       "</div>"
      ],
      "text/plain": [
       "                                 Happiness Score    Family\n",
       "Region                                                    \n",
       "Australia and New Zealand               0.001000  0.005220\n",
       "Central and Eastern Europe              1.172069  0.287388\n",
       "Eastern Asia                            0.671833  0.201173\n",
       "Latin America and Caribbean             1.081318  0.200050\n",
       "Middle East and Northern Africa         1.871100  0.303440\n",
       "North America                           0.154000  0.037750\n",
       "Southeastern Asia                       1.480556  0.324572\n",
       "Southern Asia                           0.672143  0.458629\n",
       "Sub-Saharan Africa                      1.274200  0.375595\n",
       "Western Europe                          0.897381  0.154928"
      ]
     },
     "execution_count": 22,
     "metadata": {
      "tags": []
     },
     "output_type": "execute_result"
    }
   ],
   "source": [
    "def dif(group):\n",
    "    return(group.max() - group.mean())\n",
    "happy_grouped.agg(dif)"
   ]
  },
  {
   "cell_type": "markdown",
   "metadata": {
    "colab_type": "text",
    "id": "bIAbD0Gdos_E"
   },
   "source": [
    "Above, we calculated the difference between the mean and maximum values for each region. Because the **agg()** method allows us to create custom aggregation functions, it gives us much more flexibility in how we can transform our data.\n",
    "\n",
    "Up until this point, we've deliberately split creating the GroupBy object and calling a function into separate steps to make it easier to understand. However, if you read through other teaching resources, you may see instances in which the statements are combined:\n",
    "\n"
   ]
  },
  {
   "cell_type": "code",
   "execution_count": null,
   "metadata": {
    "colab": {
     "base_uri": "https://localhost:8080/",
     "height": 225
    },
    "colab_type": "code",
    "id": "950Yey4LpAL4",
    "outputId": "5fb78c5a-dd44-4b43-9a95-1f135719759e"
   },
   "outputs": [
    {
     "data": {
      "text/plain": [
       "Region\n",
       "Australia and New Zealand          0.001000\n",
       "Central and Eastern Europe         1.172069\n",
       "Eastern Asia                       0.671833\n",
       "Latin America and Caribbean        1.081318\n",
       "Middle East and Northern Africa    1.871100\n",
       "North America                      0.154000\n",
       "Southeastern Asia                  1.480556\n",
       "Southern Asia                      0.672143\n",
       "Sub-Saharan Africa                 1.274200\n",
       "Western Europe                     0.897381\n",
       "Name: Happiness Score, dtype: float64"
      ]
     },
     "execution_count": 51,
     "metadata": {
      "tags": []
     },
     "output_type": "execute_result"
    }
   ],
   "source": [
    "happiness2015.groupby('Region')['Happiness Score'].agg(dif)"
   ]
  },
  {
   "cell_type": "markdown",
   "metadata": {
    "colab_type": "text",
    "id": "LotaNZd1pEBi"
   },
   "source": [
    "Both approaches will return the same result. However, if you plan on computing multiple aggregations with the same GroupBy object, it's recommended to save the object to a variable first. You may wish to save it to a variable in all cases to make your code easier to understand. As we compute more complex aggregations, the syntax can get confusing!\n",
    "\n",
    "\n",
    "**Exercise**\n",
    "\n",
    "<left><img width=\"100\" src=\"https://drive.google.com/uc?export=view&id=1E8tR7B9YYUXsU_rddJAyq0FrM0MSelxZ\"></left>\n",
    "\n",
    "Inspect the following code: \n",
    "\n",
    "```python\n",
    "happiness_means = happiness2015.groupby('Region')['Happiness Score'].mean()\n",
    "```\n",
    "\n",
    "- If we run the code above, will the index of **happiness_means** be the unique values in the **Region column** or the **Happiness Score** column?\n",
    "- Will the values aggregated in **happiness_means** be the values from the **Region** column or the **Happiness Score** column?\n",
    "- Print **happiness_means**. Were your predictions correct?"
   ]
  },
  {
   "cell_type": "code",
   "execution_count": null,
   "metadata": {
    "colab": {},
    "colab_type": "code",
    "id": "McksCmGPpS-n"
   },
   "outputs": [],
   "source": [
    "# put your code here"
   ]
  },
  {
   "cell_type": "markdown",
   "metadata": {
    "colab_type": "text",
    "id": "5ytWKwKkp8Qp"
   },
   "source": [
    "### 1.11 Aggregation with Pivot Tables"
   ]
  },
  {
   "cell_type": "markdown",
   "metadata": {
    "colab_type": "text",
    "id": "6hrnBrh-qNaY"
   },
   "source": [
    "In the last exercise, we tried to predict the results of the code below:\n",
    "\n",
    "```python\n",
    "happiness_means = happiness2015.groupby('Region')['Happiness Score'].mean()\n",
    "```\n",
    "\n",
    "When you printed **happiness_means**, you should've seen that the values in the **Region** column are the index of the resulting dataframe and the **Happiness Score** column contained the values that would be aggregated:\n",
    "\n",
    "<left><img width=\"400\" src=\"https://drive.google.com/uc?export=view&id=1HBmWSulMbvUhUohOLDA0bG0BTgcoYP2L\"></left>\n",
    "\n",
    "\n",
    "**Index** and **values** are actually arguments used in another method used to aggregate data - the [DataFrame.pivot_table()](https://pandas.pydata.org/pandas-docs/stable/generated/pandas.DataFrame.pivot_table.html) method. This **df.pivot_table()** method can perform the same kinds of aggregations as the **df.groupby** method and make the code for complex aggregations easier to read.\n",
    "\n",
    "If you're an Excel user, you may have already drawn comparisons between the groupby operation and Excel pivot tables. If you've never used Excel, don't worry! No prior knowledge is needed for this lesson. We'll demonstrate the **pivot_table()** method next.\n",
    "\n",
    "Below, we use the **df.pivot_table()** method to perform the same aggregation as above.\n"
   ]
  },
  {
   "cell_type": "code",
   "execution_count": null,
   "metadata": {
    "colab": {
     "base_uri": "https://localhost:8080/",
     "height": 378
    },
    "colab_type": "code",
    "id": "Q-FZduOCqeQc",
    "outputId": "5e1a678e-dbad-49a4-8b37-d9c311c90ddc"
   },
   "outputs": [
    {
     "data": {
      "text/html": [
       "<div>\n",
       "<style scoped>\n",
       "    .dataframe tbody tr th:only-of-type {\n",
       "        vertical-align: middle;\n",
       "    }\n",
       "\n",
       "    .dataframe tbody tr th {\n",
       "        vertical-align: top;\n",
       "    }\n",
       "\n",
       "    .dataframe thead th {\n",
       "        text-align: right;\n",
       "    }\n",
       "</style>\n",
       "<table border=\"1\" class=\"dataframe\">\n",
       "  <thead>\n",
       "    <tr style=\"text-align: right;\">\n",
       "      <th></th>\n",
       "      <th>Happiness Score</th>\n",
       "    </tr>\n",
       "    <tr>\n",
       "      <th>Region</th>\n",
       "      <th></th>\n",
       "    </tr>\n",
       "  </thead>\n",
       "  <tbody>\n",
       "    <tr>\n",
       "      <th>Australia and New Zealand</th>\n",
       "      <td>7.285000</td>\n",
       "    </tr>\n",
       "    <tr>\n",
       "      <th>Central and Eastern Europe</th>\n",
       "      <td>5.332931</td>\n",
       "    </tr>\n",
       "    <tr>\n",
       "      <th>Eastern Asia</th>\n",
       "      <td>5.626167</td>\n",
       "    </tr>\n",
       "    <tr>\n",
       "      <th>Latin America and Caribbean</th>\n",
       "      <td>6.144682</td>\n",
       "    </tr>\n",
       "    <tr>\n",
       "      <th>Middle East and Northern Africa</th>\n",
       "      <td>5.406900</td>\n",
       "    </tr>\n",
       "    <tr>\n",
       "      <th>North America</th>\n",
       "      <td>7.273000</td>\n",
       "    </tr>\n",
       "    <tr>\n",
       "      <th>Southeastern Asia</th>\n",
       "      <td>5.317444</td>\n",
       "    </tr>\n",
       "    <tr>\n",
       "      <th>Southern Asia</th>\n",
       "      <td>4.580857</td>\n",
       "    </tr>\n",
       "    <tr>\n",
       "      <th>Sub-Saharan Africa</th>\n",
       "      <td>4.202800</td>\n",
       "    </tr>\n",
       "    <tr>\n",
       "      <th>Western Europe</th>\n",
       "      <td>6.689619</td>\n",
       "    </tr>\n",
       "  </tbody>\n",
       "</table>\n",
       "</div>"
      ],
      "text/plain": [
       "                                 Happiness Score\n",
       "Region                                          \n",
       "Australia and New Zealand               7.285000\n",
       "Central and Eastern Europe              5.332931\n",
       "Eastern Asia                            5.626167\n",
       "Latin America and Caribbean             6.144682\n",
       "Middle East and Northern Africa         5.406900\n",
       "North America                           7.273000\n",
       "Southeastern Asia                       5.317444\n",
       "Southern Asia                           4.580857\n",
       "Sub-Saharan Africa                      4.202800\n",
       "Western Europe                          6.689619"
      ]
     },
     "execution_count": 54,
     "metadata": {
      "tags": []
     },
     "output_type": "execute_result"
    }
   ],
   "source": [
    "happiness2015.pivot_table(values='Happiness Score', index='Region', aggfunc=np.mean)"
   ]
  },
  {
   "cell_type": "markdown",
   "metadata": {
    "colab_type": "text",
    "id": "Dh8mWbyZra_V"
   },
   "source": [
    "Keep in mind that this method returns a **dataframe**, so normal dataframe filtering and methods can be applied to the result. For example, let's use the **DataFrame.plot()** method to create a visualization. Note that we exclude **aggfunc** below because the mean is the default aggregation function of **df.pivot_table()**"
   ]
  },
  {
   "cell_type": "code",
   "execution_count": null,
   "metadata": {
    "colab": {
     "base_uri": "https://localhost:8080/",
     "height": 363
    },
    "colab_type": "code",
    "id": "V79f_mC0rvOJ",
    "outputId": "5bd5d18b-0d08-42f5-da3c-e8a4a6bd8ca4"
   },
   "outputs": [
    {
     "data": {
      "image/png": "[encoded data removed]",
      "text/plain": [
       "<Figure size 576x396 with 1 Axes>"
      ]
     },
     "metadata": {
      "tags": []
     },
     "output_type": "display_data"
    }
   ],
   "source": [
    "pv_happiness = happiness2015.pivot_table('Happiness Score', 'Region')\n",
    "pv_happiness.plot(kind='barh', \n",
    "                  title='Mean Happiness Scores by Region', \n",
    "                  xlim=(0,10), legend=False)\n",
    "plt.show()"
   ]
  },
  {
   "cell_type": "markdown",
   "metadata": {
    "colab_type": "text",
    "id": "iJja0yPdr2PG"
   },
   "source": [
    "\n",
    "**Exercise**\n",
    "\n",
    "<left><img width=\"100\" src=\"https://drive.google.com/uc?export=view&id=1E8tR7B9YYUXsU_rddJAyq0FrM0MSelxZ\"></left>\n",
    "\n",
    "We've already updated **pv_happiness** by setting the **margins** parameter equal to **True**.\n",
    "  - Plot the resulting dataframe, **pv_happiness**, using the **df.plot()** method. Set kind to **barh**, **xlim** to (0,10), **title** to **'Mean Happiness Scores by Region'**, and **legend** to **False**. What do you notice about this results?\n",
    "- Calculate the **mean** of the **Happiness Score** column in the original happiness 2015 data set. Assign the result to **world_mean_happiness**.\n",
    "- Does **world_mean_happiness** equal the value for the **All** group? If you can't figure out the answer, don't worry! We'll review this question on the next section."
   ]
  },
  {
   "cell_type": "code",
   "execution_count": null,
   "metadata": {
    "colab": {},
    "colab_type": "code",
    "id": "hW84EhHeswor"
   },
   "outputs": [],
   "source": [
    "pv_happiness = happiness2015.pivot_table(values='Happiness Score',\n",
    "                                         index='Region', \n",
    "                                         aggfunc=np.mean, \n",
    "                                         margins=True)\n",
    "# put your code here"
   ]
  },
  {
   "cell_type": "markdown",
   "metadata": {
    "colab_type": "text",
    "id": "ZbM38SwztftR"
   },
   "source": [
    "### 1.12. Aggregating Multiple Columns and Functions with Pivot Tables"
   ]
  },
  {
   "cell_type": "markdown",
   "metadata": {
    "colab_type": "text",
    "id": "AI1qyN7zt16Z"
   },
   "source": [
    "In the last exercise, we learned that when we set the margins parameter equal to **True**, **All** will be added to the index of the resulting dataframe and the corresponding value will be the result of applying the aggregation method to the entire column. In our example, **All** is the **mean** of the **Happiness Score** column.\n",
    "\n",
    "<left><img width=\"500\" src=\"https://drive.google.com/uc?export=view&id=1Ur0vwBw3xOqrEnaEYhqj1jWJjvtjQkSv\"></left>\n",
    "\n",
    "\n",
    "The **pivot_table** method also allows us to aggregate multiple columns and apply multiple functions at once.\n",
    "\n",
    "Below, we aggregate both the **'Happiness Score'** and **'Family'** columns in **happiness2015** and group by the **'Region'** column:\n",
    "\n"
   ]
  },
  {
   "cell_type": "code",
   "execution_count": null,
   "metadata": {
    "colab": {
     "base_uri": "https://localhost:8080/",
     "height": 378
    },
    "colab_type": "code",
    "id": "GM1xgYv8t_Ej",
    "outputId": "8739d16e-264a-4094-d729-dca17d3b82b0"
   },
   "outputs": [
    {
     "data": {
      "text/html": [
       "<div>\n",
       "<style scoped>\n",
       "    .dataframe tbody tr th:only-of-type {\n",
       "        vertical-align: middle;\n",
       "    }\n",
       "\n",
       "    .dataframe tbody tr th {\n",
       "        vertical-align: top;\n",
       "    }\n",
       "\n",
       "    .dataframe thead th {\n",
       "        text-align: right;\n",
       "    }\n",
       "</style>\n",
       "<table border=\"1\" class=\"dataframe\">\n",
       "  <thead>\n",
       "    <tr style=\"text-align: right;\">\n",
       "      <th></th>\n",
       "      <th>Family</th>\n",
       "      <th>Happiness Score</th>\n",
       "    </tr>\n",
       "    <tr>\n",
       "      <th>Region</th>\n",
       "      <th></th>\n",
       "      <th></th>\n",
       "    </tr>\n",
       "  </thead>\n",
       "  <tbody>\n",
       "    <tr>\n",
       "      <th>Australia and New Zealand</th>\n",
       "      <td>1.314450</td>\n",
       "      <td>7.285000</td>\n",
       "    </tr>\n",
       "    <tr>\n",
       "      <th>Central and Eastern Europe</th>\n",
       "      <td>1.053042</td>\n",
       "      <td>5.332931</td>\n",
       "    </tr>\n",
       "    <tr>\n",
       "      <th>Eastern Asia</th>\n",
       "      <td>1.099427</td>\n",
       "      <td>5.626167</td>\n",
       "    </tr>\n",
       "    <tr>\n",
       "      <th>Latin America and Caribbean</th>\n",
       "      <td>1.104720</td>\n",
       "      <td>6.144682</td>\n",
       "    </tr>\n",
       "    <tr>\n",
       "      <th>Middle East and Northern Africa</th>\n",
       "      <td>0.920490</td>\n",
       "      <td>5.406900</td>\n",
       "    </tr>\n",
       "    <tr>\n",
       "      <th>North America</th>\n",
       "      <td>1.284860</td>\n",
       "      <td>7.273000</td>\n",
       "    </tr>\n",
       "    <tr>\n",
       "      <th>Southeastern Asia</th>\n",
       "      <td>0.940468</td>\n",
       "      <td>5.317444</td>\n",
       "    </tr>\n",
       "    <tr>\n",
       "      <th>Southern Asia</th>\n",
       "      <td>0.645321</td>\n",
       "      <td>4.580857</td>\n",
       "    </tr>\n",
       "    <tr>\n",
       "      <th>Sub-Saharan Africa</th>\n",
       "      <td>0.809085</td>\n",
       "      <td>4.202800</td>\n",
       "    </tr>\n",
       "    <tr>\n",
       "      <th>Western Europe</th>\n",
       "      <td>1.247302</td>\n",
       "      <td>6.689619</td>\n",
       "    </tr>\n",
       "  </tbody>\n",
       "</table>\n",
       "</div>"
      ],
      "text/plain": [
       "                                   Family  Happiness Score\n",
       "Region                                                    \n",
       "Australia and New Zealand        1.314450         7.285000\n",
       "Central and Eastern Europe       1.053042         5.332931\n",
       "Eastern Asia                     1.099427         5.626167\n",
       "Latin America and Caribbean      1.104720         6.144682\n",
       "Middle East and Northern Africa  0.920490         5.406900\n",
       "North America                    1.284860         7.273000\n",
       "Southeastern Asia                0.940468         5.317444\n",
       "Southern Asia                    0.645321         4.580857\n",
       "Sub-Saharan Africa               0.809085         4.202800\n",
       "Western Europe                   1.247302         6.689619"
      ]
     },
     "execution_count": 66,
     "metadata": {
      "tags": []
     },
     "output_type": "execute_result"
    }
   ],
   "source": [
    "happiness2015.pivot_table(['Happiness Score', 'Family'], 'Region')"
   ]
  },
  {
   "cell_type": "markdown",
   "metadata": {
    "colab_type": "text",
    "id": "aLMw45sXuox3"
   },
   "source": [
    "To apply multiple functions, we can pass a list of the functions into the **aggfunc** parameter:"
   ]
  },
  {
   "cell_type": "code",
   "execution_count": null,
   "metadata": {
    "colab": {
     "base_uri": "https://localhost:8080/",
     "height": 438
    },
    "colab_type": "code",
    "id": "Sx-pgBCouvkZ",
    "outputId": "9c71ff78-6c35-46ff-90f4-8867407976d6"
   },
   "outputs": [
    {
     "data": {
      "text/html": [
       "<div>\n",
       "<style scoped>\n",
       "    .dataframe tbody tr th:only-of-type {\n",
       "        vertical-align: middle;\n",
       "    }\n",
       "\n",
       "    .dataframe tbody tr th {\n",
       "        vertical-align: top;\n",
       "    }\n",
       "\n",
       "    .dataframe thead tr th {\n",
       "        text-align: left;\n",
       "    }\n",
       "\n",
       "    .dataframe thead tr:last-of-type th {\n",
       "        text-align: right;\n",
       "    }\n",
       "</style>\n",
       "<table border=\"1\" class=\"dataframe\">\n",
       "  <thead>\n",
       "    <tr>\n",
       "      <th></th>\n",
       "      <th>mean</th>\n",
       "      <th>amin</th>\n",
       "      <th>amax</th>\n",
       "    </tr>\n",
       "    <tr>\n",
       "      <th></th>\n",
       "      <th>Happiness Score</th>\n",
       "      <th>Happiness Score</th>\n",
       "      <th>Happiness Score</th>\n",
       "    </tr>\n",
       "    <tr>\n",
       "      <th>Region</th>\n",
       "      <th></th>\n",
       "      <th></th>\n",
       "      <th></th>\n",
       "    </tr>\n",
       "  </thead>\n",
       "  <tbody>\n",
       "    <tr>\n",
       "      <th>Australia and New Zealand</th>\n",
       "      <td>7.285000</td>\n",
       "      <td>7.284</td>\n",
       "      <td>7.286</td>\n",
       "    </tr>\n",
       "    <tr>\n",
       "      <th>Central and Eastern Europe</th>\n",
       "      <td>5.332931</td>\n",
       "      <td>4.218</td>\n",
       "      <td>6.505</td>\n",
       "    </tr>\n",
       "    <tr>\n",
       "      <th>Eastern Asia</th>\n",
       "      <td>5.626167</td>\n",
       "      <td>4.874</td>\n",
       "      <td>6.298</td>\n",
       "    </tr>\n",
       "    <tr>\n",
       "      <th>Latin America and Caribbean</th>\n",
       "      <td>6.144682</td>\n",
       "      <td>4.518</td>\n",
       "      <td>7.226</td>\n",
       "    </tr>\n",
       "    <tr>\n",
       "      <th>Middle East and Northern Africa</th>\n",
       "      <td>5.406900</td>\n",
       "      <td>3.006</td>\n",
       "      <td>7.278</td>\n",
       "    </tr>\n",
       "    <tr>\n",
       "      <th>North America</th>\n",
       "      <td>7.273000</td>\n",
       "      <td>7.119</td>\n",
       "      <td>7.427</td>\n",
       "    </tr>\n",
       "    <tr>\n",
       "      <th>Southeastern Asia</th>\n",
       "      <td>5.317444</td>\n",
       "      <td>3.819</td>\n",
       "      <td>6.798</td>\n",
       "    </tr>\n",
       "    <tr>\n",
       "      <th>Southern Asia</th>\n",
       "      <td>4.580857</td>\n",
       "      <td>3.575</td>\n",
       "      <td>5.253</td>\n",
       "    </tr>\n",
       "    <tr>\n",
       "      <th>Sub-Saharan Africa</th>\n",
       "      <td>4.202800</td>\n",
       "      <td>2.839</td>\n",
       "      <td>5.477</td>\n",
       "    </tr>\n",
       "    <tr>\n",
       "      <th>Western Europe</th>\n",
       "      <td>6.689619</td>\n",
       "      <td>4.857</td>\n",
       "      <td>7.587</td>\n",
       "    </tr>\n",
       "    <tr>\n",
       "      <th>All</th>\n",
       "      <td>5.375734</td>\n",
       "      <td>2.839</td>\n",
       "      <td>7.587</td>\n",
       "    </tr>\n",
       "  </tbody>\n",
       "</table>\n",
       "</div>"
      ],
      "text/plain": [
       "                                           mean            amin  \\\n",
       "                                Happiness Score Happiness Score   \n",
       "Region                                                            \n",
       "Australia and New Zealand              7.285000           7.284   \n",
       "Central and Eastern Europe             5.332931           4.218   \n",
       "Eastern Asia                           5.626167           4.874   \n",
       "Latin America and Caribbean            6.144682           4.518   \n",
       "Middle East and Northern Africa        5.406900           3.006   \n",
       "North America                          7.273000           7.119   \n",
       "Southeastern Asia                      5.317444           3.819   \n",
       "Southern Asia                          4.580857           3.575   \n",
       "Sub-Saharan Africa                     4.202800           2.839   \n",
       "Western Europe                         6.689619           4.857   \n",
       "All                                    5.375734           2.839   \n",
       "\n",
       "                                           amax  \n",
       "                                Happiness Score  \n",
       "Region                                           \n",
       "Australia and New Zealand                 7.286  \n",
       "Central and Eastern Europe                6.505  \n",
       "Eastern Asia                              6.298  \n",
       "Latin America and Caribbean               7.226  \n",
       "Middle East and Northern Africa           7.278  \n",
       "North America                             7.427  \n",
       "Southeastern Asia                         6.798  \n",
       "Southern Asia                             5.253  \n",
       "Sub-Saharan Africa                        5.477  \n",
       "Western Europe                            7.587  \n",
       "All                                       7.587  "
      ]
     },
     "execution_count": 67,
     "metadata": {
      "tags": []
     },
     "output_type": "execute_result"
    }
   ],
   "source": [
    "happiness2015.pivot_table('Happiness Score', 'Region', \n",
    "                          aggfunc=[np.mean, np.min , np.max], \n",
    "                          margins=True)"
   ]
  },
  {
   "cell_type": "markdown",
   "metadata": {
    "colab_type": "text",
    "id": "wgG3HL2du0Yk"
   },
   "source": [
    "Let's compare the results returned by the **groupby** operation and the **pivot_table** **bold text** method next.\n",
    "\n",
    "\n",
    "<left><img width=\"100\" src=\"https://drive.google.com/uc?export=view&id=1E8tR7B9YYUXsU_rddJAyq0FrM0MSelxZ\"></left>\n",
    "\n",
    "- Use the **df.groupby()** method to calculate the **minimum**, **maximum**, and **mean** family and happiness scores for each region in **happiness2015**.\n",
    "  - Group **happiness2015** by the **Region** column.\n",
    "  - Select the **Happiness Score** and **Family** columns. Assign the result to **grouped**.\n",
    "  - Apply the **GroupBy.agg()** method to **grouped**. Pass a list containing **np.min**, **np.max**, and **np.mean** into the method.\n",
    "  - Assign the result to **happy_family_stats**.\n",
    "- Use the **pivot_table** method to return the same information, but also calculate the the minimum, maximum, and mean for the entire **Family** and **Happiness Score** columns.\n",
    "  - The aggregation columns should be **Happiness Score** and **Family**.\n",
    "  - The column to group by is **Region**.\n",
    "  - The aggregation functions are **np.min**, **np.max**, and **np.mean**.\n",
    "  - Set the margins parameter equal to **True**.\n",
    "  - Assign the result to **pv_happy_family_stats**."
   ]
  },
  {
   "cell_type": "code",
   "execution_count": null,
   "metadata": {
    "colab": {},
    "colab_type": "code",
    "id": "_jOjWjJZv_Up"
   },
   "outputs": [],
   "source": [
    "# put your code here"
   ]
  },
  {
   "cell_type": "markdown",
   "metadata": {
    "colab_type": "text",
    "id": "FkNpMhMKyOl1"
   },
   "source": [
    "### 1.13 Next Steps"
   ]
  },
  {
   "cell_type": "markdown",
   "metadata": {
    "colab_type": "text",
    "id": "ZcgXxuyWydDq"
   },
   "source": [
    "In this lesson, we learned how to use the groupby operation and the **df.pivot_table()** method for aggregation. In the next lesson, we'll learn how to combine data sets using the **pd.concat()** and **pd.merge()** functions."
   ]
  }
 ],
 "metadata": {
  "colab": {
   "name": "Lesson#07 - Data Aggregation.ipynb",
   "provenance": [],
   "version": "0.3.2"
  },
  "kernelspec": {
   "display_name": "Python 3",
   "language": "python",
   "name": "python3"
  },
  "language_info": {
   "codemirror_mode": {
    "name": "ipython",
    "version": 3
   },
   "file_extension": ".py",
   "mimetype": "text/x-python",
   "name": "python",
   "nbconvert_exporter": "python",
   "pygments_lexer": "ipython3",
   "version": "3.7.1"
  }
 },
 "nbformat": 4,
 "nbformat_minor": 2
}
