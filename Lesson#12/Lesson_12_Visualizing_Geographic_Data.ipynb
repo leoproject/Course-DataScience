{
 "cells": [
  {
   "cell_type": "markdown",
   "metadata": {
    "colab_type": "text",
    "id": "2VW1bCtNu5wE"
   },
   "source": [
    "## 1 Visualizing Geographic Data\n"
   ]
  },
  {
   "cell_type": "markdown",
   "metadata": {
    "colab_type": "text",
    "id": "9fckN1p5dCBD"
   },
   "source": [
    "### 1.1 Geographic Data\n"
   ]
  },
  {
   "cell_type": "markdown",
   "metadata": {
    "colab_type": "text",
    "id": "ZBCbmZAhwwT5"
   },
   "source": [
    "\n",
    "From **scientific fields** like **meteorology** and **climatology**, through to the software on our smartphones like **Google Maps** and **Facebook** check-ins, geographic data is always present in our everyday lives. Raw geographic data like **latitudes** and **longitudes** are difficult to understand using the data charts and plots we've discussed so far. To explore this kind of data, you'll need to learn how to visualize the data on maps.\n",
    "\n",
    "In this section, we'll explore the fundamentals of geographic coordinate systems and how to work with the basemap library to plot geographic data points on maps. We'll be working with flight data from the [openflights website](http://openflights.org/data.html). Here's a breakdown of the files we'll be working with and the most pertinent columns from each dataset:\n",
    "\n",
    "- **airlines.csv** - data on each airline.\n",
    "    - **country** - where the airline is headquartered.\n",
    "    - **active** - if the airline is still active.\n",
    "- **airports.csv** - data on each airport.\n",
    "    - **name** - name of the airport.\n",
    "    - **city** - the airport is located.\n",
    "    - **country** - country the airport is located.\n",
    "    - **code** - unique airport code.\n",
    "    - **latitude** - latitude value.\n",
    "    - **longitude** - longitude value.\n",
    "- **routes.csv** - data on each flight route.\n",
    "    - **airline** - airline for the route.\n",
    "    - **source** - starting city for the route.\n",
    "    - **dest** - destination city for the route.\n",
    "\n",
    "We can explore a range of interesting questions and ideas using these datasets:\n",
    "\n",
    "- For each airport, which destination airport is the most common?\n",
    "\n",
    "- Which cities are the most important hubs for airports and airlines?\n",
    "\n",
    "Before diving into coordinate systems, explore the datasets in the code cell below.\n",
    "\n",
    "**Exercise**\n",
    "\n",
    "<img width=\"100\" src=\"https://drive.google.com/uc?export=view&id=1E8tR7B9YYUXsU_rddJAyq0FrM0MSelxZ\">\n",
    "\n",
    "\n",
    "- Read in the 3 CSV files into 3 separate dataframe objects - **airlines**, **airports**, and **routes**.\n",
    "- Use the **DataFrame.iloc[]** method to return the first row in each dataframe as a neat table.\n",
    "- Display the first rows for all dataframes using the print() function. Try to answer the following questions:\n",
    "  - What's the best way to link the data from these 3 different datasets together?\n",
    "  - What are the formats of the latitude and longitude values?"
   ]
  },
  {
   "cell_type": "code",
   "execution_count": 1,
   "metadata": {
    "colab": {},
    "colab_type": "code",
    "id": "FQC4Jx3szXt1"
   },
   "outputs": [
    {
     "name": "stdout",
     "output_type": "stream",
     "text": [
      "id                       1\n",
      "name        Private flight\n",
      "alias                   \\N\n",
      "iata                     -\n",
      "icao                   NaN\n",
      "callsign               NaN\n",
      "country                NaN\n",
      "active                   Y\n",
      "Name: 0, dtype: object\n",
      "id                              1\n",
      "name                       Goroka\n",
      "city                       Goroka\n",
      "country          Papua New Guinea\n",
      "code                          GKA\n",
      "icao                         AYGA\n",
      "latitude                 -6.08169\n",
      "longitude                 145.392\n",
      "altitude                     5282\n",
      "offset                         10\n",
      "dst                             U\n",
      "timezone     Pacific/Port_Moresby\n",
      "Name: 0, dtype: object\n",
      "airline         2B\n",
      "airline_id     410\n",
      "source         AER\n",
      "source_id     2965\n",
      "dest           KZN\n",
      "dest_id       2990\n",
      "codeshare      NaN\n",
      "stops            0\n",
      "equipment      CR2\n",
      "Name: 0, dtype: object\n",
      "<class 'pandas.core.frame.DataFrame'>\n",
      "RangeIndex: 8107 entries, 0 to 8106\n",
      "Data columns (total 12 columns):\n",
      "id           8107 non-null int64\n",
      "name         8107 non-null object\n",
      "city         8107 non-null object\n",
      "country      8107 non-null object\n",
      "code         5880 non-null object\n",
      "icao         8043 non-null object\n",
      "latitude     8107 non-null float64\n",
      "longitude    8107 non-null float64\n",
      "altitude     8107 non-null int64\n",
      "offset       8107 non-null float64\n",
      "dst          8107 non-null object\n",
      "timezone     8107 non-null object\n",
      "dtypes: float64(3), int64(2), object(7)\n",
      "memory usage: 760.2+ KB\n",
      "None\n"
     ]
    }
   ],
   "source": [
    "# put your code here\n",
    "import pandas as pd\n",
    "airlines = pd.read_csv('airlines.csv')\n",
    "airports = pd.read_csv('airports.csv')\n",
    "routes   = pd.read_csv('routes.csv')\n",
    "\n",
    "print(airlines.iloc[0])\n",
    "print(airports.iloc[0])\n",
    "print(routes.iloc[0])\n",
    "\n",
    "print(airports.info())"
   ]
  },
  {
   "cell_type": "markdown",
   "metadata": {
    "colab_type": "text",
    "id": "ldcnkc3lu5wM"
   },
   "source": [
    "### 1.2 Geographic coordinate systems\n"
   ]
  },
  {
   "cell_type": "markdown",
   "metadata": {
    "colab_type": "text",
    "id": "xpHDPWt-0UEq"
   },
   "source": [
    "\n",
    "A geographic coordinate system allows us to locate any point on Earth using latitude and longitude coordinates.\n",
    "\n",
    "<img width=\"600\" alt=\"creating a repo\" src=\"https://drive.google.com/uc?export=view&id=0BxhVm1REqwr0RVJ6c1U2Rl8wdWM\">\n",
    "\n",
    "| Name                              | City          | State | Latitude  | Longitude   |\n",
    "|-----------------------------------|---------------|-------|-----------|-------------|\n",
    "| White House                       | Washington    | DC    | 38.898166 | -77.036441  |\n",
    "| Alcatraz Island                   | San Francisco | CA    | 37.827122 | -122.422934 |\n",
    "| Instituto Metrópole Digital       | Natal         | RN    | -5.831997 | -35.205415  |\n",
    "\n",
    "A [map projection](https://en.wikipedia.org/wiki/Map_projection) transforms points on a sphere to a two-dimensional plane. When projecting down to the two-dimensional plane, some properties are distorted. Each map projection makes trade-offs in what properties to preserve and you can read about the different trade-offs [here](https://en.wikipedia.org/wiki/Map_projection#Metric_properties_of_maps). We'll use the [Mercator](https://en.wikipedia.org/wiki/Mercator_projection) projection, because it is commonly used by popular mapping software."
   ]
  },
  {
   "cell_type": "markdown",
   "metadata": {
    "colab_type": "text",
    "id": "ORSzgcZSu5wM"
   },
   "source": [
    "### 1.3  Installing Basemap\n"
   ]
  },
  {
   "cell_type": "markdown",
   "metadata": {
    "colab_type": "text",
    "id": "7jQS-7aP15Eb"
   },
   "source": [
    "\n",
    "Before we convert our flight data to Cartesian coordinates and plot it, let's learn more about the [basemap toolkit](http://matplotlib.org/basemap/). Basemap is an extension to Matplotlib that makes it easier to work with geographic data. The [documentation for basemap](http://matplotlib.org/basemap/users/intro.html) provides a good high-level overview of what the library does:\n",
    "\n",
    "The matplotlib basemap toolkit is a library for plotting 2D data on maps in Python. Basemap does not do any plotting on it’s own, but provides the facilities to transform coordinates to one of 25 different map projections.\n",
    "Basemap makes it easy to convert from the spherical coordinate system (latitudes & longitudes) to the Mercator projection. While basemap uses Matplotlib to actually draw and control the map, the library provides many methods that enable us to work with maps quickly. Before we dive into how basemap works, let's get familiar with how to install it.\n",
    "\n",
    "The easiest way to install basemap is through Anaconda. \n",
    "\n",
    "```python\n",
    "conda install -c conda-forge basemap\n",
    "```\n",
    "\n",
    "The Basemap library has some external dependencies that Anaconda handles the installation for. To test the installation, run the following import code:\n",
    "\n",
    "```python\n",
    "from mpl_toolkits.basemap import Basemap\n",
    "```\n",
    "\n",
    "Because basemap uses matplotlib, you'll want to import **matplotlib.pyplot** into your environment when you use Basemap."
   ]
  },
  {
   "cell_type": "code",
   "execution_count": null,
   "metadata": {
    "colab": {},
    "colab_type": "code",
    "id": "jGkdUKVrg5VE"
   },
   "outputs": [],
   "source": [
    "# install dependencies\n",
    "!pip install matplotlib==2.2.4\n",
    "!apt install proj-bin libproj-dev libgeos-dev\n",
    "!pip install pyproj==1.9.5.1 pyshp==1.2.12\n",
    "!pip install https://github.com/matplotlib/basemap/archive/v1.1.0.tar.gz"
   ]
  },
  {
   "cell_type": "code",
   "execution_count": 2,
   "metadata": {
    "colab": {},
    "colab_type": "code",
    "id": "-n4WKeyL4OPi"
   },
   "outputs": [],
   "source": [
    "from mpl_toolkits.basemap import Basemap\n",
    "import matplotlib.pyplot as plt"
   ]
  },
  {
   "cell_type": "markdown",
   "metadata": {
    "colab_type": "text",
    "id": "4qTn-wK3u5wN"
   },
   "source": [
    "### 1.4  Workflow with basemap\n"
   ]
  },
  {
   "cell_type": "markdown",
   "metadata": {
    "colab_type": "text",
    "id": "LUpJp9tz4jIV"
   },
   "source": [
    "\n",
    "Here's what the general workflow will look like when working with two-dimensional maps:\n",
    "\n",
    "- Create a new basemap instance with the specific map projection we want to use and how much of the map we want included.\n",
    "- Convert spherical coordinates to Cartesian coordinates using the basemap instance.\n",
    "- Use the matplotlib and basemap methods to customize the map.\n",
    "- Display the map.\n",
    "\n",
    "Let's focus on the first step and create a new basemap instance. To create a new instance of the basemap class, we call the [basemap constructor](http://matplotlib.org/basemap/api/basemap_api.html#mpl_toolkits.basemap.Basemap) and pass in values for the required parameters:\n",
    "\n",
    "- **projection**: the map projection.\n",
    "- **llcrnrlat**: latitude of lower left hand corner of the desired map domain\n",
    "- **urcrnrlat**: latitude of upper right hand corner of the desired map domain\n",
    "- **llcrnrlon**: longitude of lower left hand corner of the desired map domain\n",
    "- **urcrnrlon**: longitude of upper right hand corner of the desired map domain\n",
    "\n",
    "**Exercise**\n",
    "\n",
    "<img width=\"100\" src=\"https://drive.google.com/uc?export=view&id=1E8tR7B9YYUXsU_rddJAyq0FrM0MSelxZ\">\n",
    "\n",
    "\n",
    "1. Create a new basemap instance with the following parameters:\n",
    "  - **projection**: \"merc\"\n",
    "  - **llcrnrlat**: -80 degrees\n",
    "  - **urcrnrlat**: 80 degrees\n",
    "  - **llcrnrlon**: -180 degrees\n",
    "  - **urcrnrlon**: 180 degrees\n",
    "2. Assign the instance to the new variable **m**."
   ]
  },
  {
   "cell_type": "code",
   "execution_count": 3,
   "metadata": {
    "colab": {},
    "colab_type": "code",
    "id": "sXrLfUxFu5wN"
   },
   "outputs": [],
   "source": [
    "import matplotlib.pyplot as plt\n",
    "from mpl_toolkits.basemap import Basemap\n",
    "\n",
    "# put your code here\n",
    "m = Basemap(projection=\"merc\",llcrnrlat=-80, urcrnrlat= 80,llcrnrlon= -180, urcrnrlon= 180)\n"
   ]
  },
  {
   "cell_type": "markdown",
   "metadata": {
    "colab_type": "text",
    "id": "1Ka08H8ru5wR"
   },
   "source": [
    "### 1.5  Converting From Spherical to Cartesian Coordinates\n"
   ]
  },
  {
   "cell_type": "markdown",
   "metadata": {
    "colab_type": "text",
    "id": "KG2qsBRe6feI"
   },
   "source": [
    "\n",
    "As we mentioned before, we need to convert latitude and longitude values to Cartesian coordinates to display them on a two-dimensional map. We can pass in a list of latitude and longitude values into the basemap instance and it will return back converted lists of longitude and latitude values using the projection we specified earlier. The constructor only accepts list values, so we'll need to use [Series.tolist()](http://pandas.pydata.org/pandas-docs/stable/generated/pandas.Series.tolist.html) to convert the **longitude** and **latitude** columns from the **airports** dataframe to lists. Then, we pass them to the basemap instance with the longitude values first then the latitude values:\n",
    "\n",
    "```python\n",
    "x, y = m(longitudes, latitudes)\n",
    "```\n",
    "\n",
    "The basemap object will return 2 list objects, which we assign to **x** and **y**. Finally, we display the first 5 elements of the original longitude values, original latitude values, the converted longitude values, and the converted latitude values.\n",
    "\n",
    "**Exercise**\n",
    "\n",
    "<img width=\"100\" src=\"https://drive.google.com/uc?export=view&id=1E8tR7B9YYUXsU_rddJAyq0FrM0MSelxZ\">\n",
    "\n",
    "\n",
    "1. Convert the longitude values from spherical to Cartesian and assign the resulting list to **x**.\n",
    "2. Convert the latitude values from spherical to Cartesian and assign the resulting list to **y**."
   ]
  },
  {
   "cell_type": "code",
   "execution_count": 4,
   "metadata": {
    "colab": {},
    "colab_type": "code",
    "id": "QKMA3CC-70gs"
   },
   "outputs": [],
   "source": [
    "# put your code here\n",
    "longitude = airports['longitude'].tolist()\n",
    "latitude  = airports['latitude'].tolist()\n",
    "x,y = m(longitude,latitude)\n"
   ]
  },
  {
   "cell_type": "markdown",
   "metadata": {
    "colab_type": "text",
    "id": "yk0tH2eMu5wR"
   },
   "source": [
    "### 1.6  Generating a scatter plot\n"
   ]
  },
  {
   "cell_type": "markdown",
   "metadata": {
    "colab_type": "text",
    "id": "QQE4iIj48cO5"
   },
   "source": [
    "\n",
    "\n",
    "Now that the data is in the right format, we can plot the coordinates on a map. A scatter plot is the simplest way to plot points on a map, where each point is represented as an (x, y) coordinate pair. To create a scatter plot from a list of **x** and **y** coordinates, we use the [basemap.scatter()](http://matplotlib.org/basemap/api/basemap_api.html#mpl_toolkits.basemap.Basemap.scatter) method.\n",
    "\n",
    "```python\n",
    "m.scatter(x,y)\n",
    "```\n",
    "\n",
    "The **basemap.scatter()** method has similar parameters to the [pyplot.scatter()](http://matplotlib.org/api/pyplot_api.html#matplotlib.pyplot.scatter). For example, we can customize the size of each marker using the **s** parameter:\n",
    "\n",
    "```python\n",
    "# Large markers.\n",
    "m.scatter(x,y,s=10)\n",
    "# Smaller markers.\n",
    "m.scatter(x,y,s=5)\n",
    "```\n",
    "\n",
    "After we've created the scatter plot, use **plt.show()** to display the plot. We'll dive more into customizing the plot in the next step but now, create a simple scatter plot.\n",
    "\n",
    "**Exercise**\n",
    "\n",
    "<img width=\"100\" src=\"https://drive.google.com/uc?export=view&id=1E8tR7B9YYUXsU_rddJAyq0FrM0MSelxZ\">\n",
    "\n",
    "\n",
    "1. Create a scatter plot using the converted latitude and longitude values using a marker size of **1**.\n",
    "2. Display the scatter plot."
   ]
  },
  {
   "cell_type": "code",
   "execution_count": 5,
   "metadata": {
    "colab": {},
    "colab_type": "code",
    "id": "h3lM7zWK87Jl"
   },
   "outputs": [
    {
     "data": {
      "text/plain": [
       "<matplotlib.patches.Rectangle at 0x7f96c8599110>"
      ]
     },
     "execution_count": 5,
     "metadata": {},
     "output_type": "execute_result"
    },
    {
     "data": {
      "image/png": "[encoded data removed]",
      "text/plain": [
       "<Figure size 432x288 with 1 Axes>"
      ]
     },
     "metadata": {},
     "output_type": "display_data"
    }
   ],
   "source": [
    "# put your code here\n",
    "m.scatter(x,y,s=1,color='red')\n",
    "m.drawcoastlines()\n",
    "m.fillcontinents(color='tan',lake_color='lightblue')\n",
    "m.drawmapboundary(fill_color='lightblue')"
   ]
  },
  {
   "cell_type": "markdown",
   "metadata": {
    "colab_type": "text",
    "id": "HRLBBBPUu5wS"
   },
   "source": [
    "### 1.7  Customizing The Plot Using Basemap\n"
   ]
  },
  {
   "cell_type": "markdown",
   "metadata": {
    "colab_type": "text",
    "id": "RiqyId1H9e-K"
   },
   "source": [
    "\n",
    "You'll notice that the outlines of the coasts for each continent are missing from the map above. We can display the coast lines using the *basemap.drawcoastlines(color='color_name')* method. Other customization is fill the continents and inlad lakes using some background color *basemap.fillcontinents(color='color_name', lake_color='color_name')*. \n",
    "Draw the boundaries of each country is another best practice. *basemap.drawcountries(color='color_name')*\n",
    "\n",
    "\n",
    "**Exercise**\n",
    "\n",
    "<img width=\"100\" src=\"https://drive.google.com/uc?export=view&id=1E8tR7B9YYUXsU_rddJAyq0FrM0MSelxZ\">\n",
    "\n",
    "\n",
    "\n",
    "1. Use *basemap.drawcoastlines()*, *basemap.fillcontinents()* and *basemap.drawcountries()* to customize your map. Tip: fillcontinents() has support to **alpha** property which sets alpha transparency for continent polygons.\n",
    "2. Display the plot using **plt.show()**.\n"
   ]
  },
  {
   "cell_type": "code",
   "execution_count": null,
   "metadata": {
    "colab": {},
    "colab_type": "code",
    "id": "yIzYXMoT96B6"
   },
   "outputs": [],
   "source": [
    "# put your code here\n",
    "import numpy as np\n",
    "m.drawcoastlines()\n",
    "m.fillcontinents(color='tan',lake_color='lightblue')\n",
    "m.drawparallels(np.arange(-90.,91.,30.),labels=[True,True,False,False],dashes=[2,2])\n",
    "m.drawmeridians(np.arange(-180.,181.,60.),labels=[False,False,False,True],dashes=[2,2])\n",
    "m.drawmapboundary(fill_color='lightblue')\n",
    "plt.show(m)"
   ]
  },
  {
   "cell_type": "markdown",
   "metadata": {
    "colab_type": "text",
    "id": "Dec1qLxgu5wT"
   },
   "source": [
    "### 1.8  Customizing The Plot Using Matplotlib\n",
    "\n",
    "We can add code that:\n",
    "\n",
    "- uses **pyplot.subplots()** to specify the **figsize** parameter\n",
    "- returns the Figure and Axes object for a single subplot and assigns to **fig** and **ax** respectively\n",
    "- use the **Axes.set_title()** method to set the map title\n",
    "\n",
    "**Exercise**\n",
    "\n",
    "<img width=\"100\" src=\"https://drive.google.com/uc?export=view&id=1E8tR7B9YYUXsU_rddJAyq0FrM0MSelxZ\">\n",
    "\n",
    "\n",
    "1. Before creating the basemap instance and generating the scatter plot, add code that:\n",
    "    - creates a figure with a height of 15 inches and a width of 20 inches\n",
    "    - sets the title of the scatter plot to **\"Scaled Up Earth With Coastlines\"**\n"
   ]
  },
  {
   "cell_type": "code",
   "execution_count": null,
   "metadata": {
    "colab": {},
    "colab_type": "code",
    "id": "5G2L5Xii_Li2"
   },
   "outputs": [],
   "source": [
    "# put your code here\n",
    "fig = plt.figure(num=None, figsize=(15, 20) )\n",
    "m.drawcoastlines()\n",
    "plt.title(\"Scaled Up Earth With Coastlines\")\n",
    "plt.show(m)\n"
   ]
  },
  {
   "cell_type": "markdown",
   "metadata": {
    "colab_type": "text",
    "id": "7Z55xYhJu5wU"
   },
   "source": [
    "### 1.9  Introduction to Great Circles\n"
   ]
  },
  {
   "cell_type": "markdown",
   "metadata": {
    "colab_type": "text",
    "id": "AiRIdzzV_KUL"
   },
   "source": [
    "\n",
    "To better understand the flight routes, we can draw **great circles** to connect starting and ending locations on a map. A great circle is the shortest circle connecting 2 points on a sphere.\n",
    "\n",
    "<img width=\"600\" alt=\"creating a repo\" src=\"https://drive.google.com/uc?export=view&id=0BxhVm1REqwr0blFtbmNLRlpWVkE\">\n",
    "\n",
    "<img width=\"600\" alt=\"creating a repo\" src=\"https://drive.google.com/uc?export=view&id=0BxhVm1REqwr0bW9fOHBDam9DdTA\">\n",
    "\n",
    "On a two-dimensional map, the great circle is demonstrated as a line because it is projected from three-dimensional down to two-dimensional using the map projection. We can use these to visualize the flight **routes** from the routes dataframe. To plot great circles, we need the source longitude, source latitude, destination longitude, and the destination latitude for each route. While the **routes** dataframe contains the source and destination airports for each route, the latitude and longitude values for each airport are in a separate dataframe (**airports**).\n",
    "\n",
    "To make things easier, we've created a new CSV file called **geo_routes.csv** that contains the latitude and longitude values corresponding to the source and destination airports for each route. We've also removed some columns we won't be working with.\n",
    "\n",
    "**Exercise**\n",
    "\n",
    "<img width=\"100\" src=\"https://drive.google.com/uc?export=view&id=1E8tR7B9YYUXsU_rddJAyq0FrM0MSelxZ\">\n",
    "\n",
    "\n",
    "1. Read **geo_routes.csv** into a dataframe named **geo_routes**.\n",
    "2. Use the **DataFrame.info()** method to look for columns containing any null values.\n",
    "3. Display the first five rows in **geo_routes**."
   ]
  },
  {
   "cell_type": "code",
   "execution_count": null,
   "metadata": {
    "colab": {},
    "colab_type": "code",
    "id": "tpv4lvV1AVYD"
   },
   "outputs": [],
   "source": [
    "# put your code here\n",
    "geo_routes = pd.read_csv('geo_routes.csv')\n",
    "geo_routes.info()\n",
    "geo_routes.head()"
   ]
  },
  {
   "cell_type": "markdown",
   "metadata": {
    "colab_type": "text",
    "id": "vA2wahjau5wV"
   },
   "source": [
    "### 1.10  Displaying Great Circles\n"
   ]
  },
  {
   "cell_type": "markdown",
   "metadata": {
    "colab_type": "text",
    "id": "FL3ZBHw0AzbS"
   },
   "source": [
    "\n",
    "We use the **basemap.drawgreatcircle()** method to display a great circle between 2 points. The **basemap.drawgreatcircle()** method requires four parameters in the following order:\n",
    "\n",
    "- **lon1** - longitude of the starting point.\n",
    "- **lat1** - latitude of the starting point.\n",
    "- **lon2** - longitude of the ending point.\n",
    "- **lat2** - latitude of the ending point.\n",
    "\n",
    "The following code generates a great circle for the first three routes in the dataframe:\n",
    "\n",
    "```python\n",
    "m.drawgreatcircle(39.956589, 43.449928, 49.278728, 55.606186)\n",
    "m.drawgreatcircle(48.006278, 46.283333, 49.278728, 55.606186)\n",
    "m.drawgreatcircle(39.956589, 43.449928, 43.081889 , 44.225072)\n",
    "```\n",
    "\n",
    "Unfortunately, basemap struggles to create great circles for routes that have an absolute difference of larger than 180 degrees for either the latitude or longitude values. This is because the **basemap.drawgreatcircle()** method isn't able to create great circles properly when they go outside of the map boundaries. This is mentioned briefly in the [documentation](http://matplotlib.org/basemap/api/basemap_api.html#mpl_toolkits.basemap.Basemap.drawgreatcircle) for the method:\n",
    "\n",
    "**Note**: Cannot handle situations in which the great circle intersects the edge of the map projection domain, and then re-enters the domain.\n",
    "\n",
    "**Exercise**\n",
    "\n",
    "<img width=\"100\" src=\"https://drive.google.com/uc?export=view&id=1E8tR7B9YYUXsU_rddJAyq0FrM0MSelxZ\">\n",
    "\n",
    "Write a function, named **create_great_circles()** that draws a great circle for each route that has an absolute difference in the latitude and longitude values less than 180. This function should:\n",
    "- Accept a dataframe as the sole parameter\n",
    "- Iterate over the rows in the dataframe using **DataFrame.iterrows()**\n",
    "- For each row:\n",
    "    - Draw a great circle using the four geographic coordinates **only** if:\n",
    "        - The absolute difference between the latitude values (**end_lat** and **start_lat**) is less than 180.\n",
    "        - If the absolute difference between the longitude values (**end_lon** and **start_lon**) is less than 180.\n",
    "- Create a filtered dataframe containing just the routes that start at the GRU airport.\n",
    "    - Select only the rows in **geo_routes** where the value for the source column equals **\"GRU\"**.\n",
    "    - Assign the resulting dataframe to **gru**.\n",
    "- Pass **dfw** into **create_great_circles()** and display the plot using the **pyplot.show()** function."
   ]
  },
  {
   "cell_type": "code",
   "execution_count": null,
   "metadata": {
    "colab": {},
    "colab_type": "code",
    "id": "yUe9iy_tBX_r"
   },
   "outputs": [],
   "source": [
    "# put your code here\n",
    "# def create_great_circles(df):\n",
    "#     lon1,lat1 = m(df.start_lon, df.start_lat)\n",
    "#     lon2,lat2 = m(df.end_lon , df.end_lat)\n",
    "#     lat = lat2-lat1\n",
    "#     lon = lon2-lon1\n",
    "#     if((lat<180) and (lon<180)):\n",
    "#         m.drawgreatcircle(lat1, lat2, lon1,lon2)\n",
    "\n",
    "# df = geo_routes[geo_routes['source'] == \"GRU\"]\n",
    "# lon1,lat1 = m(df.start_lon, df.start_lat)\n",
    "# lon2,lat2 = m(df.end_lon , df.end_lat)\n",
    "# m.drawgreatcircle(lat1, lat2, lon1,lon2)\n",
    "\n",
    "# create_great_circles(gru)\n"
   ]
  },
  {
   "cell_type": "markdown",
   "metadata": {
    "colab_type": "text",
    "id": "GUoczXYOu5wW"
   },
   "source": [
    "### 1.11 - Guided customization\n",
    "\n",
    "\n"
   ]
  },
  {
   "cell_type": "code",
   "execution_count": 12,
   "metadata": {
    "colab": {
     "base_uri": "https://localhost:8080/",
     "height": 483
    },
    "colab_type": "code",
    "id": "KlBK3uP_CIHp",
    "outputId": "703c0bd7-83e6-4734-c7eb-f82b32f295aa"
   },
   "outputs": [
    {
     "ename": "RuntimeError",
     "evalue": "Can not put single artist in more than one figure",
     "output_type": "error",
     "traceback": [
      "\u001b[0;31m---------------------------------------------------------------------------\u001b[0m",
      "\u001b[0;31mRuntimeError\u001b[0m                              Traceback (most recent call last)",
      "\u001b[0;32m<ipython-input-12-044b0f6187b5>\u001b[0m in \u001b[0;36m<module>\u001b[0;34m\u001b[0m\n\u001b[1;32m      6\u001b[0m \u001b[0mplt\u001b[0m\u001b[0;34m.\u001b[0m\u001b[0mtitle\u001b[0m\u001b[0;34m(\u001b[0m\u001b[0;34m'Day/Night Map for %s (UTC)'\u001b[0m \u001b[0;34m%\u001b[0m \u001b[0mdatetime\u001b[0m\u001b[0;34m.\u001b[0m\u001b[0mnow\u001b[0m\u001b[0;34m(\u001b[0m\u001b[0;34m)\u001b[0m\u001b[0;34m.\u001b[0m\u001b[0mstrftime\u001b[0m\u001b[0;34m(\u001b[0m\u001b[0;34m\"%d %b %Y %H:%M:%S\"\u001b[0m\u001b[0;34m)\u001b[0m\u001b[0;34m)\u001b[0m\u001b[0;34m\u001b[0m\u001b[0;34m\u001b[0m\u001b[0m\n\u001b[1;32m      7\u001b[0m \u001b[0;31m# Configure the basemap\u001b[0m\u001b[0;34m\u001b[0m\u001b[0;34m\u001b[0m\u001b[0;34m\u001b[0m\u001b[0m\n\u001b[0;32m----> 8\u001b[0;31m \u001b[0mm\u001b[0m\u001b[0;34m.\u001b[0m\u001b[0mscatter\u001b[0m\u001b[0;34m(\u001b[0m\u001b[0mx\u001b[0m\u001b[0;34m,\u001b[0m\u001b[0my\u001b[0m\u001b[0;34m,\u001b[0m\u001b[0ms\u001b[0m\u001b[0;34m=\u001b[0m\u001b[0;36m0.1\u001b[0m\u001b[0;34m,\u001b[0m\u001b[0mcolor\u001b[0m\u001b[0;34m=\u001b[0m\u001b[0;34m\"red\"\u001b[0m\u001b[0;34m)\u001b[0m\u001b[0;34m\u001b[0m\u001b[0;34m\u001b[0m\u001b[0m\n\u001b[0m\u001b[1;32m      9\u001b[0m \u001b[0mm\u001b[0m\u001b[0;34m.\u001b[0m\u001b[0mdrawcountries\u001b[0m\u001b[0;34m(\u001b[0m\u001b[0mcolor\u001b[0m\u001b[0;34m=\u001b[0m\u001b[0;34m'black'\u001b[0m\u001b[0;34m)\u001b[0m\u001b[0;34m\u001b[0m\u001b[0;34m\u001b[0m\u001b[0m\n\u001b[1;32m     10\u001b[0m \u001b[0mm\u001b[0m\u001b[0;34m.\u001b[0m\u001b[0mfillcontinents\u001b[0m\u001b[0;34m(\u001b[0m\u001b[0mcolor\u001b[0m\u001b[0;34m=\u001b[0m\u001b[0;34m'#0066CC'\u001b[0m\u001b[0;34m,\u001b[0m \u001b[0mlake_color\u001b[0m\u001b[0;34m=\u001b[0m\u001b[0;34m'white'\u001b[0m\u001b[0;34m,\u001b[0m \u001b[0malpha\u001b[0m\u001b[0;34m=\u001b[0m\u001b[0;36m0.1\u001b[0m\u001b[0;34m)\u001b[0m\u001b[0;34m\u001b[0m\u001b[0;34m\u001b[0m\u001b[0m\n",
      "\u001b[0;32m~/anaconda3/lib/python3.7/site-packages/mpl_toolkits/basemap/__init__.py\u001b[0m in \u001b[0;36mwith_transform\u001b[0;34m(self, x, y, *args, **kwargs)\u001b[0m\n\u001b[1;32m    565\u001b[0m             \u001b[0;31m# convert lat/lon coords to map projection coords.\u001b[0m\u001b[0;34m\u001b[0m\u001b[0;34m\u001b[0m\u001b[0;34m\u001b[0m\u001b[0m\n\u001b[1;32m    566\u001b[0m             \u001b[0mx\u001b[0m\u001b[0;34m,\u001b[0m \u001b[0my\u001b[0m \u001b[0;34m=\u001b[0m \u001b[0mself\u001b[0m\u001b[0;34m(\u001b[0m\u001b[0mx\u001b[0m\u001b[0;34m,\u001b[0m\u001b[0my\u001b[0m\u001b[0;34m)\u001b[0m\u001b[0;34m\u001b[0m\u001b[0;34m\u001b[0m\u001b[0m\n\u001b[0;32m--> 567\u001b[0;31m         \u001b[0;32mreturn\u001b[0m \u001b[0mplotfunc\u001b[0m\u001b[0;34m(\u001b[0m\u001b[0mself\u001b[0m\u001b[0;34m,\u001b[0m\u001b[0mx\u001b[0m\u001b[0;34m,\u001b[0m\u001b[0my\u001b[0m\u001b[0;34m,\u001b[0m\u001b[0;34m*\u001b[0m\u001b[0margs\u001b[0m\u001b[0;34m,\u001b[0m\u001b[0;34m**\u001b[0m\u001b[0mkwargs\u001b[0m\u001b[0;34m)\u001b[0m\u001b[0;34m\u001b[0m\u001b[0;34m\u001b[0m\u001b[0m\n\u001b[0m\u001b[1;32m    568\u001b[0m     \u001b[0;32mreturn\u001b[0m \u001b[0mwith_transform\u001b[0m\u001b[0;34m\u001b[0m\u001b[0;34m\u001b[0m\u001b[0m\n\u001b[1;32m    569\u001b[0m \u001b[0;34m\u001b[0m\u001b[0m\n",
      "\u001b[0;32m~/anaconda3/lib/python3.7/site-packages/mpl_toolkits/basemap/__init__.py\u001b[0m in \u001b[0;36mscatter\u001b[0;34m(self, *args, **kwargs)\u001b[0m\n\u001b[1;32m   3267\u001b[0m         \u001b[0mself\u001b[0m\u001b[0;34m.\u001b[0m\u001b[0mset_axes_limits\u001b[0m\u001b[0;34m(\u001b[0m\u001b[0max\u001b[0m\u001b[0;34m=\u001b[0m\u001b[0max\u001b[0m\u001b[0;34m)\u001b[0m\u001b[0;34m\u001b[0m\u001b[0;34m\u001b[0m\u001b[0m\n\u001b[1;32m   3268\u001b[0m         \u001b[0;31m# clip to map limbs\u001b[0m\u001b[0;34m\u001b[0m\u001b[0;34m\u001b[0m\u001b[0;34m\u001b[0m\u001b[0m\n\u001b[0;32m-> 3269\u001b[0;31m         \u001b[0mret\u001b[0m\u001b[0;34m,\u001b[0m\u001b[0mc\u001b[0m \u001b[0;34m=\u001b[0m \u001b[0mself\u001b[0m\u001b[0;34m.\u001b[0m\u001b[0m_cliplimb\u001b[0m\u001b[0;34m(\u001b[0m\u001b[0max\u001b[0m\u001b[0;34m,\u001b[0m\u001b[0mret\u001b[0m\u001b[0;34m)\u001b[0m\u001b[0;34m\u001b[0m\u001b[0;34m\u001b[0m\u001b[0m\n\u001b[0m\u001b[1;32m   3270\u001b[0m         \u001b[0;32mreturn\u001b[0m \u001b[0mret\u001b[0m\u001b[0;34m\u001b[0m\u001b[0;34m\u001b[0m\u001b[0m\n\u001b[1;32m   3271\u001b[0m \u001b[0;34m\u001b[0m\u001b[0m\n",
      "\u001b[0;32m~/anaconda3/lib/python3.7/site-packages/mpl_toolkits/basemap/__init__.py\u001b[0m in \u001b[0;36m_cliplimb\u001b[0;34m(self, ax, coll)\u001b[0m\n\u001b[1;32m   1818\u001b[0m         \u001b[0mc\u001b[0m \u001b[0;34m=\u001b[0m \u001b[0mself\u001b[0m\u001b[0;34m.\u001b[0m\u001b[0m_mapboundarydrawn\u001b[0m\u001b[0;34m\u001b[0m\u001b[0;34m\u001b[0m\u001b[0m\n\u001b[1;32m   1819\u001b[0m         \u001b[0;32mif\u001b[0m \u001b[0mc\u001b[0m \u001b[0;32mnot\u001b[0m \u001b[0;32min\u001b[0m \u001b[0max\u001b[0m\u001b[0;34m.\u001b[0m\u001b[0mpatches\u001b[0m\u001b[0;34m:\u001b[0m\u001b[0;34m\u001b[0m\u001b[0;34m\u001b[0m\u001b[0m\n\u001b[0;32m-> 1820\u001b[0;31m             \u001b[0mp\u001b[0m \u001b[0;34m=\u001b[0m \u001b[0max\u001b[0m\u001b[0;34m.\u001b[0m\u001b[0madd_patch\u001b[0m\u001b[0;34m(\u001b[0m\u001b[0mc\u001b[0m\u001b[0;34m)\u001b[0m\u001b[0;34m\u001b[0m\u001b[0;34m\u001b[0m\u001b[0m\n\u001b[0m\u001b[1;32m   1821\u001b[0m             \u001b[0;31m#p.set_clip_on(False)\u001b[0m\u001b[0;34m\u001b[0m\u001b[0;34m\u001b[0m\u001b[0;34m\u001b[0m\u001b[0m\n\u001b[1;32m   1822\u001b[0m         \u001b[0;32mtry\u001b[0m\u001b[0;34m:\u001b[0m\u001b[0;34m\u001b[0m\u001b[0;34m\u001b[0m\u001b[0m\n",
      "\u001b[0;32m~/anaconda3/lib/python3.7/site-packages/matplotlib/axes/_base.py\u001b[0m in \u001b[0;36madd_patch\u001b[0;34m(self, p)\u001b[0m\n\u001b[1;32m   2030\u001b[0m         \"\"\"\n\u001b[1;32m   2031\u001b[0m \u001b[0;34m\u001b[0m\u001b[0m\n\u001b[0;32m-> 2032\u001b[0;31m         \u001b[0mself\u001b[0m\u001b[0;34m.\u001b[0m\u001b[0m_set_artist_props\u001b[0m\u001b[0;34m(\u001b[0m\u001b[0mp\u001b[0m\u001b[0;34m)\u001b[0m\u001b[0;34m\u001b[0m\u001b[0;34m\u001b[0m\u001b[0m\n\u001b[0m\u001b[1;32m   2033\u001b[0m         \u001b[0;32mif\u001b[0m \u001b[0mp\u001b[0m\u001b[0;34m.\u001b[0m\u001b[0mget_clip_path\u001b[0m\u001b[0;34m(\u001b[0m\u001b[0;34m)\u001b[0m \u001b[0;32mis\u001b[0m \u001b[0;32mNone\u001b[0m\u001b[0;34m:\u001b[0m\u001b[0;34m\u001b[0m\u001b[0;34m\u001b[0m\u001b[0m\n\u001b[1;32m   2034\u001b[0m             \u001b[0mp\u001b[0m\u001b[0;34m.\u001b[0m\u001b[0mset_clip_path\u001b[0m\u001b[0;34m(\u001b[0m\u001b[0mself\u001b[0m\u001b[0;34m.\u001b[0m\u001b[0mpatch\u001b[0m\u001b[0;34m)\u001b[0m\u001b[0;34m\u001b[0m\u001b[0;34m\u001b[0m\u001b[0m\n",
      "\u001b[0;32m~/anaconda3/lib/python3.7/site-packages/matplotlib/axes/_base.py\u001b[0m in \u001b[0;36m_set_artist_props\u001b[0;34m(self, a)\u001b[0m\n\u001b[1;32m    954\u001b[0m     \u001b[0;32mdef\u001b[0m \u001b[0m_set_artist_props\u001b[0m\u001b[0;34m(\u001b[0m\u001b[0mself\u001b[0m\u001b[0;34m,\u001b[0m \u001b[0ma\u001b[0m\u001b[0;34m)\u001b[0m\u001b[0;34m:\u001b[0m\u001b[0;34m\u001b[0m\u001b[0;34m\u001b[0m\u001b[0m\n\u001b[1;32m    955\u001b[0m         \u001b[0;34m\"\"\"set the boilerplate props for artists added to axes\"\"\"\u001b[0m\u001b[0;34m\u001b[0m\u001b[0;34m\u001b[0m\u001b[0m\n\u001b[0;32m--> 956\u001b[0;31m         \u001b[0ma\u001b[0m\u001b[0;34m.\u001b[0m\u001b[0mset_figure\u001b[0m\u001b[0;34m(\u001b[0m\u001b[0mself\u001b[0m\u001b[0;34m.\u001b[0m\u001b[0mfigure\u001b[0m\u001b[0;34m)\u001b[0m\u001b[0;34m\u001b[0m\u001b[0;34m\u001b[0m\u001b[0m\n\u001b[0m\u001b[1;32m    957\u001b[0m         \u001b[0;32mif\u001b[0m \u001b[0;32mnot\u001b[0m \u001b[0ma\u001b[0m\u001b[0;34m.\u001b[0m\u001b[0mis_transform_set\u001b[0m\u001b[0;34m(\u001b[0m\u001b[0;34m)\u001b[0m\u001b[0;34m:\u001b[0m\u001b[0;34m\u001b[0m\u001b[0;34m\u001b[0m\u001b[0m\n\u001b[1;32m    958\u001b[0m             \u001b[0ma\u001b[0m\u001b[0;34m.\u001b[0m\u001b[0mset_transform\u001b[0m\u001b[0;34m(\u001b[0m\u001b[0mself\u001b[0m\u001b[0;34m.\u001b[0m\u001b[0mtransData\u001b[0m\u001b[0;34m)\u001b[0m\u001b[0;34m\u001b[0m\u001b[0;34m\u001b[0m\u001b[0m\n",
      "\u001b[0;32m~/anaconda3/lib/python3.7/site-packages/matplotlib/artist.py\u001b[0m in \u001b[0;36mset_figure\u001b[0;34m(self, fig)\u001b[0m\n\u001b[1;32m    628\u001b[0m         \u001b[0;31m# to more than one Axes\u001b[0m\u001b[0;34m\u001b[0m\u001b[0;34m\u001b[0m\u001b[0;34m\u001b[0m\u001b[0m\n\u001b[1;32m    629\u001b[0m         \u001b[0;32mif\u001b[0m \u001b[0mself\u001b[0m\u001b[0;34m.\u001b[0m\u001b[0mfigure\u001b[0m \u001b[0;32mis\u001b[0m \u001b[0;32mnot\u001b[0m \u001b[0;32mNone\u001b[0m\u001b[0;34m:\u001b[0m\u001b[0;34m\u001b[0m\u001b[0;34m\u001b[0m\u001b[0m\n\u001b[0;32m--> 630\u001b[0;31m             raise RuntimeError(\"Can not put single artist in \"\n\u001b[0m\u001b[1;32m    631\u001b[0m                                \"more than one figure\")\n\u001b[1;32m    632\u001b[0m         \u001b[0mself\u001b[0m\u001b[0;34m.\u001b[0m\u001b[0mfigure\u001b[0m \u001b[0;34m=\u001b[0m \u001b[0mfig\u001b[0m\u001b[0;34m\u001b[0m\u001b[0;34m\u001b[0m\u001b[0m\n",
      "\u001b[0;31mRuntimeError\u001b[0m: Can not put single artist in more than one figure"
     ]
    },
    {
     "data": {
      "image/png": "[encoded data removed]",
      "text/plain": [
       "<Figure size 720x864 with 1 Axes>"
      ]
     },
     "metadata": {},
     "output_type": "display_data"
    }
   ],
   "source": [
    "from datetime import datetime\n",
    "import numpy as np\n",
    "from copy import copy\n",
    "# Create a figure  \n",
    "fig, ax = plt.subplots(figsize=(10,12))\n",
    "plt.title('Day/Night Map for %s (UTC)' % datetime.now().strftime(\"%d %b %Y %H:%M:%S\"))\n",
    "# Configure the basemap\n",
    "m.scatter(x,y,s=0.1,color=\"red\")\n",
    "m.drawcountries(color='black')\n",
    "m.fillcontinents(color='#0066CC', lake_color='white', alpha=0.1)\n",
    "m.drawcoastlines()\n",
    "# Draw lines of latitude (parallels) and longitude (meridians)\n",
    "m.drawparallels(range(-90,91,10), color='#CCCCCC')\n",
    "m.drawmeridians(range(-180,181,10), color='#CCCCCC')\n",
    "# Day/Night shade (note the datetime is utc here)\n",
    "m.nightshade(datetime.utcnow()) \n",
    "# Plot the figure\n",
    "plt.show()"
   ]
  }
 ],
 "metadata": {
  "colab": {
   "collapsed_sections": [],
   "name": "Lesson #12 - Visualizing Geographic Data.ipynb",
   "provenance": [],
   "version": "0.3.2"
  },
  "kernelspec": {
   "display_name": "Python 3",
   "language": "python",
   "name": "python3"
  },
  "language_info": {
   "codemirror_mode": {
    "name": "ipython",
    "version": 3
   },
   "file_extension": ".py",
   "mimetype": "text/x-python",
   "name": "python",
   "nbconvert_exporter": "python",
   "pygments_lexer": "ipython3",
   "version": "3.7.4"
  }
 },
 "nbformat": 4,
 "nbformat_minor": 4
}
