{
 "cells": [
  {
   "cell_type": "markdown",
   "metadata": {
    "colab_type": "text",
    "id": "Mp6gbK-DDdne"
   },
   "source": [
    "## 1 Working with APIs"
   ]
  },
  {
   "cell_type": "markdown",
   "metadata": {
    "colab_type": "text",
    "id": "5JH0yA9nDupM"
   },
   "source": [
    "### 1.1 What is an API?"
   ]
  },
  {
   "cell_type": "markdown",
   "metadata": {
    "colab_type": "text",
    "id": "gR06q9lwDxtO"
   },
   "source": [
    "We've worked with data sets pretty extensively so far. While they're popular resources, there are many cases where it's impractical to use one.\n",
    "\n",
    "Here are a few situations where data sets don't work well:\n",
    "\n",
    "- The data change frequently. It doesn't really make sense to regenerate a data set of stock prices, for example, and download it every minute. This approach would require a lot of bandwidth, and be very slow.\n",
    "- You only want a small piece of a much larger data set. [Reddit comments](https://www.reddit.com/) are one example. What if you want to pull just your own comments from reddit? It doesn't make much sense to download the entire reddit database, then filter it for a few items.\n",
    "- It involves repeated computation. For example, Spotify has an API that can tell you the genre of a piece of music. You could theoretically create your own classifier and use it to categorize music, but you'll never have as much data as Spotify does.\n",
    "\n",
    "In cases like these, an **application program interface (API)** is the right solution. An API is a set of methods and tools that allows different applications to interact with each other. Programmers use APIs to query and retrieve data dynamically (which they can then integrate with their own apps). A client can retrieve information quickly and effectively through an API.\n",
    "\n",
    "Reddit, Spotify, Twitter, Facebook, and many other companies provide free APIs that enable developers to access the information they store on their servers; others charge for access to their APIs.\n",
    "\n",
    "In this section, we'll query a basic API to retrieve data about the [IBGE (Insituto Brasileiro de Geografia e Estatística in portuguese)  API](https://servicodados.ibge.gov.br/api/docs). Using an API will save us time and effort, instead of doing all the computation ourselves."
   ]
  },
  {
   "cell_type": "markdown",
   "metadata": {
    "colab_type": "text",
    "id": "T5zC3n2-GEzv"
   },
   "source": [
    "### 1.2 Introduction to API Requests"
   ]
  },
  {
   "cell_type": "markdown",
   "metadata": {
    "colab_type": "text",
    "id": "fMLgH371GKGP"
   },
   "source": [
    "Organizations host their APIs on **Web servers**. When you type www.google.com in your browser's address bar, your computer is actually asking the www.google.com server for a Web page, which it then returns to your browser.\n",
    "\n",
    "APIs work much the same way, except instead of your Web browser asking for a Web page, your program asks for data. The API usually returns this data in [JavaScript Object Notation](http://json.org/) (JSON) format. We'll discuss JSON more later on in this section.\n",
    "\n",
    "We make an API request to the Web server we want to get data from. The server then replies and sends it to us. In Python, we use the [requests library](http://www.python-requests.org/en/latest/) to do this."
   ]
  },
  {
   "cell_type": "code",
   "execution_count": 1,
   "metadata": {
    "colab": {
     "base_uri": "https://localhost:8080/",
     "height": 102
    },
    "colab_type": "code",
    "id": "26dtRozgX-eP",
    "outputId": "d64123b5-840b-4334-a074-76ee8800409a"
   },
   "outputs": [
    {
     "name": "stdout",
     "output_type": "stream",
     "text": [
      "Collecting requests==v2.21.0\n",
      "\u001b[?25l  Downloading https://files.pythonhosted.org/packages/7d/e3/20f3d364d6c8e5d2353c72a67778eb189176f08e873c9900e10c0287b84b/requests-2.21.0-py2.py3-none-any.whl (57kB)\n",
      "\u001b[K     |████████████████████████████████| 61kB 811kB/s eta 0:00:01\n",
      "\u001b[?25hRequirement already satisfied: certifi>=2017.4.17 in /home/leonardo/anaconda3/lib/python3.7/site-packages (from requests==v2.21.0) (2019.9.11)\n",
      "Requirement already satisfied: idna<2.9,>=2.5 in /home/leonardo/anaconda3/lib/python3.7/site-packages (from requests==v2.21.0) (2.8)\n",
      "Requirement already satisfied: urllib3<1.25,>=1.21.1 in /home/leonardo/anaconda3/lib/python3.7/site-packages (from requests==v2.21.0) (1.24.2)\n",
      "Requirement already satisfied: chardet<3.1.0,>=3.0.2 in /home/leonardo/anaconda3/lib/python3.7/site-packages (from requests==v2.21.0) (3.0.4)\n",
      "Installing collected packages: requests\n",
      "  Found existing installation: requests 2.22.0\n",
      "    Uninstalling requests-2.22.0:\n",
      "      Successfully uninstalled requests-2.22.0\n",
      "Successfully installed requests-2.21.0\n"
     ]
    }
   ],
   "source": [
    "# install the latest version of requests\n",
    "!pip install requests==v2.21.0"
   ]
  },
  {
   "cell_type": "code",
   "execution_count": 2,
   "metadata": {
    "colab": {
     "base_uri": "https://localhost:8080/",
     "height": 34
    },
    "colab_type": "code",
    "id": "9AboDwA4YP1E",
    "outputId": "474fbf82-6246-4ea9-94bb-99be46473a4a"
   },
   "outputs": [
    {
     "data": {
      "text/plain": [
       "'2.21.0'"
      ]
     },
     "execution_count": 2,
     "metadata": {},
     "output_type": "execute_result"
    }
   ],
   "source": [
    "import requests\n",
    "requests.__version__"
   ]
  },
  {
   "cell_type": "markdown",
   "metadata": {
    "colab_type": "text",
    "id": "cJ4OmL4fOse6"
   },
   "source": [
    "### 1.3 Types of Requests"
   ]
  },
  {
   "cell_type": "markdown",
   "metadata": {
    "colab_type": "text",
    "id": "egsfErVCOvYF"
   },
   "source": [
    "There are many different types of requests. The most common is a **GET request**, which we use to retrieve data. We'll explore the other types in later missions.\n",
    "\n",
    "We can use a simple GET request to retrieve information from the [IBGE API](https://servicodados.ibge.gov.br/api/docs).\n",
    "\n",
    "IBGE has several **API endpoints**. An endpoint is a server route for retrieving specific data from an API. For example, the **/comments** endpoint on the reddit API might retrieve information about comments, while the **/users** endpoint might retrieve data about users.\n",
    "\n",
    "The first endpoint we'll look at on IBGE is the [localities endpoint](https://servicodados.ibge.gov.br/api/docs/localidades?versao=1). This endpoint gets the information about mesoregions, microregions, municipalites, regions and states of Brazil. A data set wouldn't be a great fit for this task because the information changes often, and involves some calculation on the server.\n",
    "\n",
    "\n",
    "Lets practice!!! We've imported requests for you already.\n",
    "\n",
    "\n",
    "**Exercise**\n",
    "\n",
    "<img width=\"100\" src=\"https://drive.google.com/uc?export=view&id=1E8tR7B9YYUXsU_rddJAyq0FrM0MSelxZ\">\n",
    "\n",
    "- The server will send a **status code** indicating the success or failure of your request. You can get the status code of the response from **response.status_code**.\n",
    "- Assign the status code to the variable **status_code**\n",
    "- Retrieve the content of the response with **response.content.** Assign the content to the **variable content.**"
   ]
  },
  {
   "cell_type": "code",
   "execution_count": 9,
   "metadata": {
    "colab": {},
    "colab_type": "code",
    "id": "zJRZKzwMH0Bm"
   },
   "outputs": [
    {
     "data": {
      "text/plain": [
       "b'[{\"id\":11,\"sigla\":\"RO\",\"nome\":\"Rond\\xc3\\xb4nia\",\"regiao\":{\"id\":1,\"sigla\":\"N\",\"nome\":\"Norte\"}},{\"id\":12,\"sigla\":\"AC\",\"nome\":\"Acre\",\"regiao\":{\"id\":1,\"sigla\":\"N\",\"nome\":\"Norte\"}},{\"id\":13,\"sigla\":\"AM\",\"nome\":\"Amazonas\",\"regiao\":{\"id\":1,\"sigla\":\"N\",\"nome\":\"Norte\"}},{\"id\":14,\"sigla\":\"RR\",\"nome\":\"Roraima\",\"regiao\":{\"id\":1,\"sigla\":\"N\",\"nome\":\"Norte\"}},{\"id\":15,\"sigla\":\"PA\",\"nome\":\"Par\\xc3\\xa1\",\"regiao\":{\"id\":1,\"sigla\":\"N\",\"nome\":\"Norte\"}},{\"id\":16,\"sigla\":\"AP\",\"nome\":\"Amap\\xc3\\xa1\",\"regiao\":{\"id\":1,\"sigla\":\"N\",\"nome\":\"Norte\"}},{\"id\":17,\"sigla\":\"TO\",\"nome\":\"Tocantins\",\"regiao\":{\"id\":1,\"sigla\":\"N\",\"nome\":\"Norte\"}},{\"id\":21,\"sigla\":\"MA\",\"nome\":\"Maranh\\xc3\\xa3o\",\"regiao\":{\"id\":2,\"sigla\":\"NE\",\"nome\":\"Nordeste\"}},{\"id\":22,\"sigla\":\"PI\",\"nome\":\"Piau\\xc3\\xad\",\"regiao\":{\"id\":2,\"sigla\":\"NE\",\"nome\":\"Nordeste\"}},{\"id\":23,\"sigla\":\"CE\",\"nome\":\"Cear\\xc3\\xa1\",\"regiao\":{\"id\":2,\"sigla\":\"NE\",\"nome\":\"Nordeste\"}},{\"id\":24,\"sigla\":\"RN\",\"nome\":\"Rio Grande do Norte\",\"regiao\":{\"id\":2,\"sigla\":\"NE\",\"nome\":\"Nordeste\"}},{\"id\":25,\"sigla\":\"PB\",\"nome\":\"Para\\xc3\\xadba\",\"regiao\":{\"id\":2,\"sigla\":\"NE\",\"nome\":\"Nordeste\"}},{\"id\":26,\"sigla\":\"PE\",\"nome\":\"Pernambuco\",\"regiao\":{\"id\":2,\"sigla\":\"NE\",\"nome\":\"Nordeste\"}},{\"id\":27,\"sigla\":\"AL\",\"nome\":\"Alagoas\",\"regiao\":{\"id\":2,\"sigla\":\"NE\",\"nome\":\"Nordeste\"}},{\"id\":28,\"sigla\":\"SE\",\"nome\":\"Sergipe\",\"regiao\":{\"id\":2,\"sigla\":\"NE\",\"nome\":\"Nordeste\"}},{\"id\":29,\"sigla\":\"BA\",\"nome\":\"Bahia\",\"regiao\":{\"id\":2,\"sigla\":\"NE\",\"nome\":\"Nordeste\"}},{\"id\":31,\"sigla\":\"MG\",\"nome\":\"Minas Gerais\",\"regiao\":{\"id\":3,\"sigla\":\"SE\",\"nome\":\"Sudeste\"}},{\"id\":32,\"sigla\":\"ES\",\"nome\":\"Esp\\xc3\\xadrito Santo\",\"regiao\":{\"id\":3,\"sigla\":\"SE\",\"nome\":\"Sudeste\"}},{\"id\":33,\"sigla\":\"RJ\",\"nome\":\"Rio de Janeiro\",\"regiao\":{\"id\":3,\"sigla\":\"SE\",\"nome\":\"Sudeste\"}},{\"id\":35,\"sigla\":\"SP\",\"nome\":\"S\\xc3\\xa3o Paulo\",\"regiao\":{\"id\":3,\"sigla\":\"SE\",\"nome\":\"Sudeste\"}},{\"id\":41,\"sigla\":\"PR\",\"nome\":\"Paran\\xc3\\xa1\",\"regiao\":{\"id\":4,\"sigla\":\"S\",\"nome\":\"Sul\"}},{\"id\":42,\"sigla\":\"SC\",\"nome\":\"Santa Catarina\",\"regiao\":{\"id\":4,\"sigla\":\"S\",\"nome\":\"Sul\"}},{\"id\":43,\"sigla\":\"RS\",\"nome\":\"Rio Grande do Sul\",\"regiao\":{\"id\":4,\"sigla\":\"S\",\"nome\":\"Sul\"}},{\"id\":50,\"sigla\":\"MS\",\"nome\":\"Mato Grosso do Sul\",\"regiao\":{\"id\":5,\"sigla\":\"CO\",\"nome\":\"Centro-Oeste\"}},{\"id\":51,\"sigla\":\"MT\",\"nome\":\"Mato Grosso\",\"regiao\":{\"id\":5,\"sigla\":\"CO\",\"nome\":\"Centro-Oeste\"}},{\"id\":52,\"sigla\":\"GO\",\"nome\":\"Goi\\xc3\\xa1s\",\"regiao\":{\"id\":5,\"sigla\":\"CO\",\"nome\":\"Centro-Oeste\"}},{\"id\":53,\"sigla\":\"DF\",\"nome\":\"Distrito Federal\",\"regiao\":{\"id\":5,\"sigla\":\"CO\",\"nome\":\"Centro-Oeste\"}}]'"
      ]
     },
     "execution_count": 9,
     "metadata": {},
     "output_type": "execute_result"
    }
   ],
   "source": [
    "# configure a generical header\n",
    "headers = {\n",
    "    'Content-Type': 'application/json;charset=UTF-8',\n",
    "    'User-Agent': 'google-colab',\n",
    "    'Accept': 'application/json, text/plain, */*',\n",
    "    'Accept-Encoding': 'gzip, deflate, br',\n",
    "    'Accept-Language': 'pt-BR,pt;q=0.9,en-US;q=0.8,en;q=0.7',\n",
    "    'Connection': 'keep-alive',\n",
    "}\n",
    "\n",
    "response = requests.get(\"https://servicodados.ibge.gov.br/api/v1/localidades/estados\",\n",
    "                       headers=headers)\n",
    "# put your code here\n",
    "status_code = response.status_code\n",
    "content = response.content\n",
    "content"
   ]
  },
  {
   "cell_type": "markdown",
   "metadata": {
    "colab_type": "text",
    "id": "n7N2OBU4RupA"
   },
   "source": [
    "### 1.4 Understanding the status code"
   ]
  },
  {
   "cell_type": "markdown",
   "metadata": {
    "colab_type": "text",
    "id": "ovePLAhcRx9f"
   },
   "source": [
    "The request we just made returned a status code of 200. Web servers return status codes every time they receive an API request. A status code provides information about what happened with a request. Here are some codes that are relevant to GET requests:\n",
    "\n",
    "- **200** - Everything went okay, and the server returned a result (if any).\n",
    "- **301** - The server is redirecting you to a different endpoint. This can happen when a company switches domain names, or an endpoint's name has changed.\n",
    "- **401** - The server thinks you're not authenticated. This happens when you don't send the right credentials to access an API (we'll talk about this in a later mission).\n",
    "- **400** - The server thinks you made a bad request. This can happen when you don't send the information the API requires to process your request, among other things.\n",
    "- **403** - The resource you're trying to access is forbidden; you don't have the right permissions to see it.\n",
    "- **404** - The server didn't find the resource you tried to access.\n"
   ]
  },
  {
   "cell_type": "markdown",
   "metadata": {
    "colab_type": "text",
    "id": "tfCrrh2-rReq"
   },
   "source": [
    "### 1.5 JSON Format"
   ]
  },
  {
   "cell_type": "markdown",
   "metadata": {
    "colab_type": "text",
    "id": "sWMTDsqlrUtm"
   },
   "source": [
    "You may have noticed that the **content** of the API response we received earlier was a **string**. Strings are the way we pass information back and forth through APIs, but it's hard to get the information we want out of them. How do we know how to decode the string we receive and work with it in Python?\n",
    "\n",
    "Luckily, there's a format we call **JSON**. We mentioned it earlier in the lesson. This format encodes data structures like **lists** and **dictionaries** as strings to ensure that machines can read them easily. JSON is the primary format for sending and receiving data through APIs.\n",
    "\n",
    "Python offers great support for JSON through its [json library](https://docs.python.org/3/library/json.html). We can convert lists and dictionaries to JSON, and vice versa. Our IBGE data, for example, is a dictionary encoded as a string in JSON format.\n",
    "\n",
    "<img width=\"400\" src=\"https://drive.google.com/uc?export=view&id=1f7zUfNDunBJUw5RFEi1-6sscLNjm3cGb\">\n",
    "\n",
    "\n",
    "\n",
    "The JSON library has two main methods:\n",
    "\n",
    "- **dumps** -- Takes in a Python object, and converts it to a string\n",
    "- **loads** -- Takes a JSON string, and converts it to a Python object\n",
    "\n"
   ]
  },
  {
   "cell_type": "code",
   "execution_count": 10,
   "metadata": {
    "colab": {
     "base_uri": "https://localhost:8080/",
     "height": 68
    },
    "colab_type": "code",
    "id": "B_402KUaxA_r",
    "outputId": "66493c1b-06e2-4dcb-e966-af9c9ca471b6"
   },
   "outputs": [
    {
     "name": "stdout",
     "output_type": "stream",
     "text": [
      "<class 'list'>\n",
      "<class 'str'>\n",
      "<class 'list'>\n"
     ]
    }
   ],
   "source": [
    "# Import the JSON library.\n",
    "import json\n",
    "\n",
    "# Make a list of cities\n",
    "cities = [\"Currais Novos\", \"Caico\", \"Acari\"]\n",
    "print(type(cities))\n",
    "\n",
    "# Use json.dumps to convert cities variable to a string.\n",
    "cities_string = json.dumps(cities)\n",
    "print(type(cities_string))\n",
    "\n",
    "# Convert cities_string back to a list.\n",
    "print(type(json.loads(cities_string)))"
   ]
  },
  {
   "cell_type": "markdown",
   "metadata": {
    "colab_type": "text",
    "id": "TFTT5OJDxAPQ"
   },
   "source": [
    "\n",
    "\n",
    "**Exercise**\n",
    "\n",
    "<img width=\"100\" src=\"https://drive.google.com/uc?export=view&id=1E8tR7B9YYUXsU_rddJAyq0FrM0MSelxZ\">\n",
    "\n",
    "\n",
    "- Use the JSON function **loads** to convert **cities_population_string** to a Python object.\n",
    "- Assign the resulting Python object to **cities_population_2**.\n"
   ]
  },
  {
   "cell_type": "code",
   "execution_count": null,
   "metadata": {
    "colab": {},
    "colab_type": "code",
    "id": "xfvSuk69vZzw"
   },
   "outputs": [],
   "source": [
    "# Make a dictionary\n",
    "cities_population = {\n",
    "    \"Currais Novos\": 44000,\n",
    "    \"Caico\": 67000,\n",
    "    \"Acari\": 11000\n",
    "}\n",
    "\n",
    "# We can also dump a dictionary to a string\n",
    "cities_population_string = json.dumps(cities_population)\n",
    "\n",
    "# put your code here"
   ]
  },
  {
   "cell_type": "markdown",
   "metadata": {
    "colab_type": "text",
    "id": "yPbfCxPayzNl"
   },
   "source": [
    "### 1.6 Getting JSON From a Request"
   ]
  },
  {
   "cell_type": "markdown",
   "metadata": {
    "colab_type": "text",
    "id": "853QFv8Ny3uv"
   },
   "source": [
    "We can get the content of a response as a Python object by using the **.json()** method on the response."
   ]
  },
  {
   "cell_type": "code",
   "execution_count": null,
   "metadata": {
    "colab": {},
    "colab_type": "code",
    "id": "n6ZZ9S7MzBBB"
   },
   "outputs": [],
   "source": [
    "response = requests.get(\"https://servicodados.ibge.gov.br/api/v1/localidades/estados\",\n",
    "                       headers=headers)\n",
    "json_data = response.json()\n",
    "print(type(json_data))\n",
    "json_data"
   ]
  },
  {
   "cell_type": "markdown",
   "metadata": {
    "colab_type": "text",
    "id": "76OmWbuvzk0j"
   },
   "source": [
    "**Exercise**\n",
    "\n",
    "<img width=\"100\" src=\"https://drive.google.com/uc?export=view&id=1E8tR7B9YYUXsU_rddJAyq0FrM0MSelxZ\">\n",
    "\n",
    "- Get the information about the Rio Grande do Norte state\n",
    "  - identification (id)\n",
    "  - name of region\n",
    "  - abbrevation\n",
    "- Read the [IBGE endpoint 'municípios'](https://servicodados.ibge.gov.br/api/docs/localidades?versao=1#api-Municipios-estadosUFMunicipiosGet) and retrieve all municipalities names of RN to a list named **cities_rn** and their respectives identification to other list named **cities_id_rn**.\n",
    "- IBGE has other API in order to collect raw data from the [Sidra DataBase](http://api.sidra.ibge.gov.br/). You can find help in [documentation](http://api.sidra.ibge.gov.br/home/ajuda). Using Sidra API is possible to extract the estimation of population for a specific year. For the sake of understanding, to retrieve the **estimated population** of Currais Novos in 2018 (note that Currais Novos id is **2403103**) you must use:\n",
    "\n",
    "```python\n",
    "response2 = requests.get(\"http://api.sidra.ibge.gov.br/values/t/6579/p/2018/v/9324/N6/2403103\",headers=headers)\n",
    "int(response2.json()[1][\"V\"])\n",
    "44664\n",
    "```\n",
    "- From **cities_id_rn** and Sidra API retrieve the estimated population for all minicipalities of RN. Store the result for a list named **population_rn**.\n",
    "- Use the [Dataframe.from_dict](https://pandas.pydata.org/pandas-docs/stable/reference/api/pandas.DataFrame.from_dict.html) function to create a daframe from the variables **cities_id_rn** ,**cities_rn**, **population_rn**. Consider to use the strings **Id**, **City** and **Population** as label of columns. Store the result to the variable **data_rn**."
   ]
  },
  {
   "cell_type": "code",
   "execution_count": null,
   "metadata": {
    "colab": {},
    "colab_type": "code",
    "id": "I3Gaw4NszsSI"
   },
   "outputs": [],
   "source": [
    "# put your code here"
   ]
  },
  {
   "cell_type": "markdown",
   "metadata": {
    "colab_type": "text",
    "id": "vhwVI9wVkkmn"
   },
   "source": [
    "**Guided Exercise**\n",
    "\n",
    "<img width=\"150\" src=\"https://drive.google.com/uc?export=view&id=1G4E_Qy3afI5Q_8r2JlGXAbbaFpGBsi4F\">"
   ]
  },
  {
   "cell_type": "code",
   "execution_count": null,
   "metadata": {
    "colab": {
     "base_uri": "https://localhost:8080/",
     "height": 204
    },
    "colab_type": "code",
    "id": "Wzs4JVZCkkUR",
    "outputId": "56249c23-c293-4930-ebe1-d7e65a1f1716"
   },
   "outputs": [],
   "source": [
    "# households by neighborhood in Natal (2010)\n",
    "# from Sidra's Table 185 (http://api.sidra.ibge.gov.br/desctabapi.aspx?c=185)\n",
    "endnode = \"http://api.sidra.ibge.gov.br/values/t/185/p/2010/v/allxp/N102/in%20n6%202408102\"\n",
    "\n",
    "response = requests.get(endnode,headers=headers)\n",
    "\n",
    "# for curiosity, take a look in this variable\n",
    "raw_data = response.json()\n",
    "\n",
    "neigh_id = []\n",
    "neigh_name = []\n",
    "neigh_house = []\n",
    "\n",
    "# first position is only the header\n",
    "for data in raw_data[1:]:\n",
    "  neigh_id.append(int(data[\"D3C\"]))\n",
    "  neigh_house.append(int(data[\"V\"]))\n",
    "  neigh_name.append(data[\"D3N\"].split(\" -\")[0])\n",
    "  \n",
    "neigh_df = pd.DataFrame.from_dict({\"neighborhood_id\": neigh_id,\n",
    "                                  \"name\":neigh_name,\n",
    "                                  \"households\": neigh_house})\n",
    "neigh_df.head()"
   ]
  },
  {
   "cell_type": "markdown",
   "metadata": {
    "colab_type": "text",
    "id": "8K48lkcJkkI3"
   },
   "source": [
    "## 2 Working with GeoJSON files"
   ]
  },
  {
   "cell_type": "markdown",
   "metadata": {
    "colab_type": "text",
    "id": "yF3OALX8f68F"
   },
   "source": [
    "The **GeoJSON** data format is a data format based on the open data standard JSON. As previously described, JSON is the most common data format used for asynchronous browser/server communication and uses text to transmit data objects consisting of attribute–value pairs. The format is easy to read and offers web developers an easy way to extend existing APIs.\n",
    "\n",
    "The GeoJSON format was designed for the representation of **simple geographical features**, along with their non-spatial attributes and now supports a number of geometry types such as **points**, **line strings**, **polygons** and **multi-part** collections of these types. \n",
    "\n",
    "<img width=\"450\" src=\"https://drive.google.com/uc?export=view&id=1BYLE4At7b1XEQrmPX7dofdoXYzrzwwX9\">\n",
    "\n",
    "\n",
    "\n",
    "GeoJSON was created and maintained by an [internet working group of developers](http://geojson.org/). Since the first GeoJSON format specification in 2008, the adoption of GeoJSON in spatial databases, web APIs, and open data platforms has grown significantly, resulting in a need for standardization. This led to the creation of a Geographic JSON working group which released a [RFC document](https://tools.ietf.org/html/rfc7946) on GeoJSON in August 2016. GeoJSON uses either **.json** or **.geojson** as filename extension.\n",
    "\n"
   ]
  },
  {
   "cell_type": "markdown",
   "metadata": {
    "colab_type": "text",
    "id": "IHe1AOu1EDce"
   },
   "source": [
    "\n",
    "### 2.1 Create your own GeoJSON\n"
   ]
  },
  {
   "cell_type": "markdown",
   "metadata": {
    "colab_type": "text",
    "id": "XoBBrGMxEEix"
   },
   "source": [
    "\n",
    "A great resource for creating your own GeoJSON data is http://geojson.io, which enables you to draw features on a map, and optionally, add non-spatial attributes to these features in a code editor and save the results in a variety of data formats, such as GeoJSON. \n",
    "\n",
    "GeoJSON is supported differently by numerous mapping APIs (including [IBGE](https://servicodados.ibge.gov.br/api/docs/malhas?versao=2)), GIS (Geographic Information System) software packages and companies such as Mapbox, Carto and Safe Software and [Folium](https://python-visualization.github.io/folium/quickstart.html#GeoJSON/TopoJSON-Overlays). \n",
    "\n",
    "\n",
    "The [IBGE API](https://servicodados.ibge.gov.br/api/docs/malhas?versao=2) implements different endpoints in order to retrieve GeoJSON information about Brazil and its municipalities. You can check some examples as follows:\n",
    "\n",
    "- https://servicodados.ibge.gov.br/api/v2/malhas/24/?resolucao=5\n",
    "- https://servicodados.ibge.gov.br/api/v2/malhas/24/?formato=application/vnd.geo+json&resolucao=5\n",
    "- https://servicodados.ibge.gov.br/api/v2/malhas/2?resolucao=5&f?formato=image/svg+xml\n",
    "- https://servicodados.ibge.gov.br/api/v2/malhas/?resolucao=2\n",
    "- https://servicodados.ibge.gov.br/api/v2/malhas/24/?resolucao=3\n",
    "\n",
    "\n",
    "We can use the same procedure described in Section 1 to retrieve GeoJSON data from IBGE API."
   ]
  },
  {
   "cell_type": "code",
   "execution_count": null,
   "metadata": {
    "colab": {},
    "colab_type": "code",
    "id": "ZiGtR7iGf65z"
   },
   "outputs": [],
   "source": [
    "response = requests.get(\"https://servicodados.ibge.gov.br/api/v2/malhas/24/\"+\n",
    "                        \"?formato=application/vnd.geo+json&resolucao=5\",\n",
    "                       headers=headers)\n",
    "data_json = response.json()"
   ]
  },
  {
   "cell_type": "code",
   "execution_count": null,
   "metadata": {
    "colab": {},
    "colab_type": "code",
    "id": "LfcxFfvKf63h"
   },
   "outputs": [],
   "source": [
    "data_json"
   ]
  },
  {
   "cell_type": "markdown",
   "metadata": {
    "colab_type": "text",
    "id": "I5pKWR51g7Tz"
   },
   "source": [
    "### 2.2 Using GeoJSON files in Folium"
   ]
  },
  {
   "cell_type": "markdown",
   "metadata": {
    "colab_type": "text",
    "id": "T9Bm1KEFiB6K"
   },
   "source": [
    "Folium is a powerful data visualisation library in Python that was built primarily to help people visualize geospatial data. With Folium, one can create a map of any location in the world as long as its latitude and longitude values are known. [Folium has support to GeoJSON files](https://nbviewer.jupyter.org/github/python-visualization/folium/blob/master/examples/GeoJSONWithoutTitles.ipynb). "
   ]
  },
  {
   "cell_type": "code",
   "execution_count": null,
   "metadata": {
    "colab": {
     "base_uri": "https://localhost:8080/",
     "height": 360
    },
    "colab_type": "code",
    "id": "78_23lzxShly",
    "outputId": "fbde22d6-8992-4975-fd29-210fcd00bc77"
   },
   "outputs": [],
   "source": [
    "# Install the latest release\n",
    "!pip install folium==0.8.2"
   ]
  },
  {
   "cell_type": "code",
   "execution_count": null,
   "metadata": {
    "colab": {
     "base_uri": "https://localhost:8080/",
     "height": 34
    },
    "colab_type": "code",
    "id": "TgvAfy3ySqab",
    "outputId": "3f296eb0-d5ae-4318-ca01-c1faab3b49a5"
   },
   "outputs": [],
   "source": [
    "# check the version installed\n",
    "import folium\n",
    "folium.__version__"
   ]
  },
  {
   "cell_type": "markdown",
   "metadata": {
    "colab_type": "text",
    "id": "7mLfogynjSbv"
   },
   "source": [
    "It is very easy to add a GeoJSON file to a Folium map. Follow the example below:"
   ]
  },
  {
   "cell_type": "code",
   "execution_count": null,
   "metadata": {
    "colab": {},
    "colab_type": "code",
    "id": "5WldXDtrSz7g"
   },
   "outputs": [],
   "source": [
    "# Create a map object\n",
    "m = folium.Map(\n",
    "    location=[-5.826592, -35.212558],\n",
    "    zoom_start=7,\n",
    "    tiles='Stamen Terrain'\n",
    ")\n",
    "\n",
    "# Configure geojson layer\n",
    "folium.GeoJson(data_json).add_to(m)\n",
    "\n",
    "m"
   ]
  },
  {
   "cell_type": "markdown",
   "metadata": {
    "colab_type": "text",
    "id": "mltdedMDkkv-"
   },
   "source": [
    "**Exercise**\n",
    "\n",
    "<img width=\"100\" src=\"https://drive.google.com/uc?export=view&id=1E8tR7B9YYUXsU_rddJAyq0FrM0MSelxZ\">\n",
    "\n",
    "\n",
    "- Using Folium, IBGE API and GeoJSON files:\n",
    "  - create a map of Brazil considering all municipalities.\n",
    "  - create a map of Rio Grande do Norte containing only its mesoregions."
   ]
  },
  {
   "cell_type": "code",
   "execution_count": null,
   "metadata": {
    "colab": {},
    "colab_type": "code",
    "id": "9tKY9qZelMAB"
   },
   "outputs": [],
   "source": [
    "# put your code here"
   ]
  },
  {
   "cell_type": "markdown",
   "metadata": {
    "colab_type": "text",
    "id": "hL8fbncFRPRO"
   },
   "source": [
    "### 2.3 Importing GeoJSON files from overpass-turbo \n"
   ]
  },
  {
   "cell_type": "markdown",
   "metadata": {
    "colab_type": "text",
    "id": "bIpQ8lyQZ_cb"
   },
   "source": [
    "\n",
    "Other interesting tool to retrieve GeoJSON files is the http://overpass-turbo.eu/. Overpass implements a query API in order to generate objects in the map. For the sake of understanding,  the follow query generates the shapes of neighborhoods  in Natal-RN.\n",
    "\n",
    "Query to [Natal neighborhoods](http://wiki.openstreetmap.org/wiki/Natal#Bairros):\n",
    "```python\n",
    "[out:json][timeout:25];\n",
    "{{geocodeArea:Natal RN Brasil}}->.searchArea;\n",
    "(\n",
    "  relation[\"admin_level\"=\"10\"](area.searchArea);\n",
    ");\n",
    "out body;\n",
    ">;\n",
    "out skel qt;\n",
    "```\n",
    "\n",
    "<img width=\"800\" src=\"https://drive.google.com/uc?export=view&id=1-NJ9JT6wN0jgAne1giOHKMsebEWbGC_P\">\n",
    "\n",
    "You can edit GeoJSON file using http://geojson.io. Note that in overpass some icons/circle points were also generated. It is necessary to delete them. Paste the output of overpass in geojson.io and right after export the file to **natal.geojson**.\n",
    "\n",
    "<img width=\"800\" src=\"https://drive.google.com/uc?export=view&id=16DTptKW5ft9Owquns9T0PcFGz6w9PcaB\">\n"
   ]
  },
  {
   "cell_type": "code",
   "execution_count": null,
   "metadata": {
    "colab": {},
    "colab_type": "code",
    "id": "J_PavSE-RPRP"
   },
   "outputs": [],
   "source": [
    "# load the GeoJSON data and use 'UTF-8'encoding\n",
    "geo_json_natal = json.load(open('natal.geojson'))\n",
    "\n",
    "neighborhood = []\n",
    "# list all neighborhoods\n",
    "for neigh in geo_json_natal['features']:\n",
    "    neighborhood.append(neigh['properties']['name'])\n",
    "    \n",
    "# print neighborhood names\n",
    "neighborhood"
   ]
  },
  {
   "cell_type": "code",
   "execution_count": null,
   "metadata": {
    "colab": {},
    "colab_type": "code",
    "id": "2Hm2DHaIRPRh"
   },
   "outputs": [],
   "source": [
    "# Create a map object\n",
    "m = folium.Map(\n",
    "    location=[-5.826592, -35.212558],\n",
    "    zoom_start=11,\n",
    "    tiles='Stamen Terrain'\n",
    ")\n",
    "\n",
    "# Configure geojson layer\n",
    "folium.GeoJson(geo_json_natal).add_to(m)\n",
    "m"
   ]
  },
  {
   "cell_type": "markdown",
   "metadata": {
    "colab_type": "text",
    "id": "9efXQfyg6qzG"
   },
   "source": [
    "**Exercise**\n",
    "\n",
    "<img width=\"100\" src=\"https://drive.google.com/uc?export=view&id=1E8tR7B9YYUXsU_rddJAyq0FrM0MSelxZ\">\n",
    "\n",
    "\n",
    "- Using Folium, overpass, geojson.io and GeoJSON file:\n",
    "  - create a map highlighting all neighborhood zones of Natal. Tip: in overpass change the admin_level variable to 9."
   ]
  },
  {
   "cell_type": "code",
   "execution_count": null,
   "metadata": {
    "colab": {},
    "colab_type": "code",
    "id": "P1gUEiahGK_l"
   },
   "outputs": [],
   "source": [
    "# put your code here"
   ]
  },
  {
   "cell_type": "markdown",
   "metadata": {
    "colab_type": "text",
    "id": "WyesDdVWY-8U"
   },
   "source": [
    "## 3 Drawing choropleth maps"
   ]
  },
  {
   "cell_type": "markdown",
   "metadata": {
    "colab_type": "text",
    "id": "esIVBGlEaAQK"
   },
   "source": [
    "Choropleth maps display divided geographical areas or regions that are coloured, shaded or patterned in relation to a data variable. This provides a way to visualise values over a geographical area, which can show variation or patterns across the displayed location.\n",
    "\n",
    "<img width=\"600\" src=\"https://drive.google.com/uc?export=view&id=1re5akMUpMH8ju0lPEBYTduyMOpGxTePt\">\n",
    "\n",
    "\n",
    "The data variable uses colour progression to represent itself in each region of the map. Typically, this can be a blending from one colour to another, a single hue progression, transparent to opaque, light to dark or an entire colour spectrum.\n",
    "\n",
    "\n",
    "A choropleth map can be created with Folium and Pandas. Pull data into a dataframe (gives the values of each zone), bind to a feature of the GeoJSON (it gives the boundaries of every zone that you want to represent), map it. Folium allows you to specify any of the color brewer sequential color groups, and also allows you to specify the quantize scale range. Please see examples in [Folium quickstart tutorial](https://python-visualization.github.io/folium/quickstart.html#Choropleth-maps) and [advanced choropleth maps](https://nbviewer.jupyter.org/github/python-visualization/folium/blob/master/examples/plugin-Search.ipynb)."
   ]
  },
  {
   "cell_type": "markdown",
   "metadata": {
    "colab_type": "text",
    "id": "5kuCBhghqplQ"
   },
   "source": [
    "### 3.1 Prepare the data"
   ]
  },
  {
   "cell_type": "code",
   "execution_count": null,
   "metadata": {
    "colab": {
     "base_uri": "https://localhost:8080/",
     "height": 204
    },
    "colab_type": "code",
    "id": "rMel4tEyEd6p",
    "outputId": "f72f1a6a-104b-4802-f0c5-e03fa85ac4c2"
   },
   "outputs": [],
   "source": [
    "# some neighborhoods names are different in IBGE API and GeoJSON file\n",
    "neigh_df.loc[neigh_df.name == \"Pitimbú\",'name'] = \"Pitimbu\"\n",
    "neigh_df.loc[neigh_df.name == \"Mãe Luíza\",'name'] = \"Mãe Luiza\"\n",
    "neigh_df.loc[neigh_df.name == \"Filipe Camarão\",'name'] = \"Felipe Camarão\"\n",
    "neigh_df.loc[neigh_df.name == \"Guarapés\",'name'] = \"Guarapes\"\n",
    "\n",
    "neigh_df.set_index('name',inplace=True)\n",
    "neigh_df.index.name = None\n",
    "neigh_df[\"name\"] = neigh_df.index\n",
    "neigh_df.head()"
   ]
  },
  {
   "cell_type": "markdown",
   "metadata": {
    "colab_type": "text",
    "id": "90JEAHZ-qz_e"
   },
   "source": [
    "### 3.2 Create a colormap bar"
   ]
  },
  {
   "cell_type": "code",
   "execution_count": null,
   "metadata": {
    "colab": {
     "base_uri": "https://localhost:8080/",
     "height": 88
    },
    "colab_type": "code",
    "id": "BMn4-OMSIBYr",
    "outputId": "ae20153e-a042-4d00-db96-f104487f4619"
   },
   "outputs": [],
   "source": [
    "from branca.colormap import linear\n",
    "\n",
    "# colormap yellow and green (YlGn)\n",
    "colormap = linear.YlGn_03.scale(\n",
    "    neigh_df.households.min(),\n",
    "    neigh_df.households.max())\n",
    "\n",
    "colormap.caption=\"#Households in Natal-RN\"\n",
    "\n",
    "print(colormap(5000.0))\n",
    "\n",
    "colormap\n"
   ]
  },
  {
   "cell_type": "markdown",
   "metadata": {
    "colab_type": "text",
    "id": "1wTN2MBuq7gO"
   },
   "source": [
    "### 3.3 Create a choropleth map using folium.GeoJson()"
   ]
  },
  {
   "cell_type": "code",
   "execution_count": null,
   "metadata": {
    "colab": {},
    "colab_type": "code",
    "id": "M_mvgr7PXF2D"
   },
   "outputs": [],
   "source": [
    "# Create a map object\n",
    "m = folium.Map(\n",
    "    location=[-5.826592, -35.212558],\n",
    "    zoom_start=11,\n",
    "    tiles='Stamen Terrain'\n",
    ")\n",
    "\n",
    "# Insert additional information ('households') into GeoJSON file\n",
    "for neigh in geo_json_natal['features']:\n",
    "    name_aux = neigh['properties']['name']\n",
    "    neigh['properties']['households'] = str(neigh_df.loc[name_aux,\"households\"])\n",
    "    \n",
    "# Create a Choropleth using folium.GeoJson()\n",
    "folium.GeoJson(geo_json_natal,\n",
    "               name='Households',\n",
    "               style_function=lambda x: {'fillColor': colormap(neigh_df.loc[x['properties']['name'],\n",
    "                                                                           \"households\"]),\n",
    "                                         'color': 'black','weight':2, 'fillOpacity':0.8},\n",
    "               tooltip=folium.GeoJsonTooltip(fields=['name',\"households\"], \n",
    "                                            aliases=['Name:',\"Households:\"], \n",
    "                                            localize=True)\n",
    "              ).add_to(m)\n",
    "\n",
    "# Add a LayerControl.\n",
    "folium.LayerControl().add_to(m)\n",
    "\n",
    "# And the Color Map legend.\n",
    "colormap.add_to(m)\n",
    "\n",
    "m"
   ]
  },
  {
   "cell_type": "code",
   "execution_count": null,
   "metadata": {
    "colab": {},
    "colab_type": "code",
    "id": "irk7LNqJO7TQ"
   },
   "outputs": [],
   "source": [
    "with open('data.geojson', 'w') as outfile:  \n",
    "    json.dump(geo_json_natal, outfile)\n",
    "\n",
    "from google.colab import files\n",
    "files.download('data.geojson') "
   ]
  },
  {
   "cell_type": "markdown",
   "metadata": {
    "colab_type": "text",
    "id": "ePUP6oGytCi6"
   },
   "source": [
    "### 3.4 Create a choropleth map using folium.Choropleth()"
   ]
  },
  {
   "cell_type": "code",
   "execution_count": null,
   "metadata": {
    "colab": {
     "base_uri": "https://localhost:8080/",
     "height": 699
    },
    "colab_type": "code",
    "id": "k02PA8kKtOEC",
    "outputId": "0ac6bb67-a75b-45ea-95da-4e19401ce963"
   },
   "outputs": [],
   "source": [
    "import numpy as np\n",
    "\n",
    "# Create a map object\n",
    "m = folium.Map(\n",
    "    location=[-5.826592, -35.212558],\n",
    "    zoom_start=11,\n",
    "    tiles='Stamen Terrain', width='85%',height='85%'\n",
    ")\n",
    "\n",
    "# create a threshold of legend\n",
    "bins = np.linspace(neigh_df.households.min(),\n",
    "                   neigh_df.households.max(),\n",
    "                   6).tolist()\n",
    "\n",
    "\n",
    "folium.Choropleth(\n",
    "    geo_data=geo_json_natal,\n",
    "    data=neigh_df,\n",
    "    name= \"neighborhoods\",\n",
    "    columns=['name', 'households'],\n",
    "    key_on='feature.properties.name',\n",
    "    fill_color='YlGn',\n",
    "    fill_opacity=0.7,\n",
    "    line_opacity=0.5,\n",
    "    legend_name='#households in Natal-RN',\n",
    "    bins=bins\n",
    ").add_to(m)\n",
    "\n",
    "\n",
    "folium.LayerControl().add_to(m)\n",
    "\n",
    "m"
   ]
  },
  {
   "cell_type": "markdown",
   "metadata": {
    "colab_type": "text",
    "id": "w5DRCggrRPR9"
   },
   "source": [
    "\n",
    "**Exercise**\n",
    "\n",
    "<img width=\"100\" src=\"https://drive.google.com/uc?export=view&id=1E8tR7B9YYUXsU_rddJAyq0FrM0MSelxZ\">\n",
    "\n",
    "- Using IBGE API, Folium and GeoJSON files:\n",
    "  - Create a choropleth map using all municipalities of Rio Grande do Norte State and **population estimation** as an evaluation metric."
   ]
  },
  {
   "cell_type": "code",
   "execution_count": null,
   "metadata": {
    "colab": {},
    "colab_type": "code",
    "id": "3-E-QKsSFwq2"
   },
   "outputs": [],
   "source": [
    "# put your code here"
   ]
  }
 ],
 "metadata": {
  "colab": {
   "name": "Lesson #14 - Choropleth Maps.ipynb",
   "provenance": [],
   "version": "0.3.2"
  },
  "kernelspec": {
   "display_name": "Python 3",
   "language": "python",
   "name": "python3"
  },
  "language_info": {
   "codemirror_mode": {
    "name": "ipython",
    "version": 3
   },
   "file_extension": ".py",
   "mimetype": "text/x-python",
   "name": "python",
   "nbconvert_exporter": "python",
   "pygments_lexer": "ipython3",
   "version": "3.7.4"
  }
 },
 "nbformat": 4,
 "nbformat_minor": 4
}
